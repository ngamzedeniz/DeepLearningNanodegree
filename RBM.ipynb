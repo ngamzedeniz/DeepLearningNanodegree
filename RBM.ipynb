{
  "nbformat": 4,
  "nbformat_minor": 0,
  "metadata": {
    "colab": {
      "name": "RBM.ipynb",
      "provenance": [],
      "include_colab_link": true
    },
    "kernelspec": {
      "name": "python3",
      "display_name": "Python 3"
    },
    "language_info": {
      "name": "python"
    }
  },
  "cells": [
    {
      "cell_type": "markdown",
      "metadata": {
        "id": "view-in-github",
        "colab_type": "text"
      },
      "source": [
        "<a href=\"https://colab.research.google.com/github/ngamzedeniz/DeepLearningNanodegree/blob/main/RBM.ipynb\" target=\"_parent\"><img src=\"https://colab.research.google.com/assets/colab-badge.svg\" alt=\"Open In Colab\"/></a>"
      ]
    },
    {
      "cell_type": "markdown",
      "source": [
        "# 0.Import Libraries"
      ],
      "metadata": {
        "id": "N0cKU02iw4Pl"
      }
    },
    {
      "cell_type": "code",
      "execution_count": null,
      "metadata": {
        "id": "jH64rMRgwqxg"
      },
      "outputs": [],
      "source": [
        "import pandas as pd\n",
        "import matplotlib.pyplot as plt\n",
        "import numpy as np\n",
        "\n",
        "from sklearn import datasets # for dataset\n",
        "from sklearn.model_selection import train_test_split # split train and test dataset\n",
        "from sklearn.metrics import classification_report # for seeing the results\n",
        "from sklearn.linear_model import LogisticRegression\n",
        "from sklearn.neural_network import BernoulliRBM\n",
        "from sklearn.base import clone\n",
        "from sklearn.pipeline import Pipeline\n",
        "from sklearn.metrics import accuracy_score"
      ]
    },
    {
      "cell_type": "markdown",
      "source": [
        "# 1.Load Dataset"
      ],
      "metadata": {
        "id": "T7xrNb2Jw-Xd"
      }
    },
    {
      "cell_type": "code",
      "source": [
        "dataset = datasets.load_breast_cancer()"
      ],
      "metadata": {
        "id": "UjVdzcK2wtV2"
      },
      "execution_count": null,
      "outputs": []
    },
    {
      "cell_type": "code",
      "source": [
        "type(dataset)"
      ],
      "metadata": {
        "colab": {
          "base_uri": "https://localhost:8080/"
        },
        "id": "7sdD9biV3BXq",
        "outputId": "f11def1a-9d08-4fd7-bf86-3c4e9424bc25"
      },
      "execution_count": null,
      "outputs": [
        {
          "output_type": "execute_result",
          "data": {
            "text/plain": [
              "sklearn.utils.Bunch"
            ]
          },
          "metadata": {},
          "execution_count": 3
        }
      ]
    },
    {
      "cell_type": "markdown",
      "source": [
        "# 2.Scale the dataset"
      ],
      "metadata": {
        "id": "mqnY2SwyxDzG"
      }
    },
    {
      "cell_type": "code",
      "source": [
        "b = []\n",
        "for d in dataset.data:\n",
        "    for y in d:\n",
        "        b.append(y)\n",
        "\n",
        "# found using max point\n",
        "scaled = dataset.data/ max(b)"
      ],
      "metadata": {
        "id": "85GIiL9lw8ts"
      },
      "execution_count": null,
      "outputs": []
    },
    {
      "cell_type": "markdown",
      "source": [
        "# 4.Visualize target distribution"
      ],
      "metadata": {
        "id": "HB0X8dVP50gJ"
      }
    },
    {
      "cell_type": "code",
      "source": [
        "target=pd.DataFrame(data=dataset.target,columns=['target'])"
      ],
      "metadata": {
        "id": "zJGgoE3n3DQK"
      },
      "execution_count": null,
      "outputs": []
    },
    {
      "cell_type": "code",
      "source": [
        "target['target'].unique()"
      ],
      "metadata": {
        "colab": {
          "base_uri": "https://localhost:8080/"
        },
        "id": "ZlYZOvFR4VAb",
        "outputId": "4e79be45-f002-45b1-dad2-90f685a6e3ef"
      },
      "execution_count": null,
      "outputs": [
        {
          "output_type": "execute_result",
          "data": {
            "text/plain": [
              "array([0, 1])"
            ]
          },
          "metadata": {},
          "execution_count": 9
        }
      ]
    },
    {
      "cell_type": "code",
      "source": [
        "fig, ax0=plt.subplots(nrows=1,ncols=1,figsize=(10, 10))\n",
        "\n",
        "def label_function(val):\n",
        "    return f'{val / 100 * len(target):.0f}\\n{val:.0f}%'\n",
        "\n",
        "target.groupby('target').size().plot(kind='pie',\n",
        "                                      autopct=label_function, \n",
        "                                      textprops={'fontsize': 15},\n",
        "                                      ax=ax0)                                         \n",
        "ax0.set_title('target distribution')\n",
        "\n",
        "# showing the figure\n",
        "fig.show()"
      ],
      "metadata": {
        "colab": {
          "base_uri": "https://localhost:8080/",
          "height": 591
        },
        "id": "0Hav5WEi4qzK",
        "outputId": "9042e82b-c184-4d73-dc5e-3e53971baf90"
      },
      "execution_count": null,
      "outputs": [
        {
          "output_type": "display_data",
          "data": {
            "image/png": "[encoded data removed]",
            "text/plain": [
              "<Figure size 720x720 with 1 Axes>"
            ]
          },
          "metadata": {}
        }
      ]
    },
    {
      "cell_type": "markdown",
      "source": [
        "# 3.Split the dataset"
      ],
      "metadata": {
        "id": "odwSCwb-xIEl"
      }
    },
    {
      "cell_type": "code",
      "source": [
        "(trainX, testX, trainY, testY) = train_test_split(scaled, dataset.target, test_size = 0.33)"
      ],
      "metadata": {
        "id": "Jn8K65Ivwvss"
      },
      "execution_count": null,
      "outputs": []
    },
    {
      "cell_type": "markdown",
      "source": [
        "# 4.Define the network"
      ],
      "metadata": {
        "id": "VvGnQDXWxLtt"
      }
    },
    {
      "cell_type": "code",
      "source": [
        "class rbm():\n",
        "    def __init__(self, trainX, trainY,):\n",
        "        super(rbm, self).__init__()\n",
        "\n",
        "        self.trainX=trainX\n",
        "        self.trainY=trainY\n",
        "\n",
        "        # set hyperparameters\n",
        "        self.C = 100.\n",
        "        self.learning_rate = 0.02 # from Erhan et el. (2010): median value in grid-search\n",
        "        self.total_units   =  800 # from Erhan et el. (2010): optimal for MNIST / only slightly worse than 1200 units when using InfiniteMNIST\n",
        "        self.total_epochs  =   50 # from Erhan et el. (2010): optimal for MNIST\n",
        "        self.batch_size    =  128 # seems like a representative sample; backprop literature often uses 256 or 512 samples\n",
        "\n",
        "        # define layers\n",
        "        self.rbm = BernoulliRBM(n_components=self.total_units, learning_rate=self.learning_rate, batch_size=self.batch_size, n_iter=self.total_epochs, verbose=1)\n",
        "        \n",
        "        self.logistic = LogisticRegression(C=self.C, solver='lbfgs', multi_class='multinomial', max_iter=200, verbose=1)\n",
        "                                                    \n",
        "\n",
        "    def singleRBM(self, testX,testY):\n",
        "      singleRbm=Pipeline(steps=[('rbm1', clone(self.rbm)), \n",
        "                                ('logistic', clone(self.logistic))])  \n",
        "      singleRbm.fit(self.trainX, self.trainY)\n",
        "\n",
        "      # evaluate using validation set\n",
        "      print(\"Model performance:\\n%s\\n\" % (\n",
        "          classification_report(testY, singleRbm.predict(testX))))\n",
        "      y_pred=singleRbm.predict(testX)\n",
        "      score=accuracy_score(y_true=testY,y_pred=y_pred)\n",
        "      print(score)\n",
        "    "
      ],
      "metadata": {
        "id": "5kk16VjEwxTE"
      },
      "execution_count": null,
      "outputs": []
    },
    {
      "cell_type": "code",
      "source": [
        "dbn=DBN(trainX,trainY)"
      ],
      "metadata": {
        "id": "F4WLGQ9XAWCI"
      },
      "execution_count": null,
      "outputs": []
    },
    {
      "cell_type": "code",
      "source": [
        "dbn.singleRBM(testX,testY)"
      ],
      "metadata": {
        "colab": {
          "base_uri": "https://localhost:8080/"
        },
        "id": "HF7xc7Q_AavX",
        "outputId": "27aa2885-20ce-4eda-a1bc-1d55c7e58e41"
      },
      "execution_count": null,
      "outputs": [
        {
          "output_type": "stream",
          "name": "stdout",
          "text": [
            "[BernoulliRBM] Iteration 1, pseudo-likelihood = -2.22, time = 0.06s\n",
            "[BernoulliRBM] Iteration 2, pseudo-likelihood = -1.79, time = 0.09s\n",
            "[BernoulliRBM] Iteration 3, pseudo-likelihood = -1.50, time = 0.09s\n",
            "[BernoulliRBM] Iteration 4, pseudo-likelihood = -1.02, time = 0.11s\n",
            "[BernoulliRBM] Iteration 5, pseudo-likelihood = -1.23, time = 0.10s\n",
            "[BernoulliRBM] Iteration 6, pseudo-likelihood = -1.04, time = 0.09s\n",
            "[BernoulliRBM] Iteration 7, pseudo-likelihood = -1.34, time = 0.09s\n",
            "[BernoulliRBM] Iteration 8, pseudo-likelihood = -0.93, time = 0.09s\n",
            "[BernoulliRBM] Iteration 9, pseudo-likelihood = -0.72, time = 0.09s\n",
            "[BernoulliRBM] Iteration 10, pseudo-likelihood = -1.26, time = 0.10s\n",
            "[BernoulliRBM] Iteration 11, pseudo-likelihood = -0.85, time = 0.09s\n",
            "[BernoulliRBM] Iteration 12, pseudo-likelihood = -1.05, time = 0.09s\n",
            "[BernoulliRBM] Iteration 13, pseudo-likelihood = -0.70, time = 0.10s\n",
            "[BernoulliRBM] Iteration 14, pseudo-likelihood = -0.81, time = 0.09s\n",
            "[BernoulliRBM] Iteration 15, pseudo-likelihood = -0.86, time = 0.11s\n",
            "[BernoulliRBM] Iteration 16, pseudo-likelihood = -0.94, time = 0.09s\n",
            "[BernoulliRBM] Iteration 17, pseudo-likelihood = -0.85, time = 0.09s\n",
            "[BernoulliRBM] Iteration 18, pseudo-likelihood = -0.70, time = 0.09s\n",
            "[BernoulliRBM] Iteration 19, pseudo-likelihood = -0.72, time = 0.10s\n",
            "[BernoulliRBM] Iteration 20, pseudo-likelihood = -0.84, time = 0.09s\n",
            "[BernoulliRBM] Iteration 21, pseudo-likelihood = -0.56, time = 0.09s\n",
            "[BernoulliRBM] Iteration 22, pseudo-likelihood = -0.70, time = 0.10s\n",
            "[BernoulliRBM] Iteration 23, pseudo-likelihood = -0.74, time = 0.09s\n",
            "[BernoulliRBM] Iteration 24, pseudo-likelihood = -0.99, time = 0.09s\n",
            "[BernoulliRBM] Iteration 25, pseudo-likelihood = -0.74, time = 0.10s\n",
            "[BernoulliRBM] Iteration 26, pseudo-likelihood = -0.65, time = 0.11s\n",
            "[BernoulliRBM] Iteration 27, pseudo-likelihood = -0.73, time = 0.09s\n",
            "[BernoulliRBM] Iteration 28, pseudo-likelihood = -1.01, time = 0.09s\n",
            "[BernoulliRBM] Iteration 29, pseudo-likelihood = -0.78, time = 0.09s\n",
            "[BernoulliRBM] Iteration 30, pseudo-likelihood = -0.71, time = 0.09s\n",
            "[BernoulliRBM] Iteration 31, pseudo-likelihood = -0.92, time = 0.10s\n",
            "[BernoulliRBM] Iteration 32, pseudo-likelihood = -0.67, time = 0.10s\n",
            "[BernoulliRBM] Iteration 33, pseudo-likelihood = -0.63, time = 0.09s\n",
            "[BernoulliRBM] Iteration 34, pseudo-likelihood = -0.76, time = 0.09s\n",
            "[BernoulliRBM] Iteration 35, pseudo-likelihood = -0.75, time = 0.10s\n",
            "[BernoulliRBM] Iteration 36, pseudo-likelihood = -0.80, time = 0.09s\n",
            "[BernoulliRBM] Iteration 37, pseudo-likelihood = -0.69, time = 0.11s\n",
            "[BernoulliRBM] Iteration 38, pseudo-likelihood = -1.06, time = 0.10s\n",
            "[BernoulliRBM] Iteration 39, pseudo-likelihood = -0.68, time = 0.09s\n",
            "[BernoulliRBM] Iteration 40, pseudo-likelihood = -0.90, time = 0.09s\n",
            "[BernoulliRBM] Iteration 41, pseudo-likelihood = -0.94, time = 0.09s\n",
            "[BernoulliRBM] Iteration 42, pseudo-likelihood = -0.51, time = 0.09s\n",
            "[BernoulliRBM] Iteration 43, pseudo-likelihood = -0.89, time = 0.09s\n",
            "[BernoulliRBM] Iteration 44, pseudo-likelihood = -0.86, time = 0.09s\n",
            "[BernoulliRBM] Iteration 45, pseudo-likelihood = -0.71, time = 0.09s\n",
            "[BernoulliRBM] Iteration 46, pseudo-likelihood = -0.63, time = 0.09s\n",
            "[BernoulliRBM] Iteration 47, pseudo-likelihood = -0.96, time = 0.09s\n",
            "[BernoulliRBM] Iteration 48, pseudo-likelihood = -0.63, time = 0.11s\n",
            "[BernoulliRBM] Iteration 49, pseudo-likelihood = -1.07, time = 0.09s\n",
            "[BernoulliRBM] Iteration 50, pseudo-likelihood = -0.78, time = 0.10s\n",
            "Model performance:\n",
            "              precision    recall  f1-score   support\n",
            "\n",
            "           0       0.98      0.57      0.72        81\n",
            "           1       0.75      0.99      0.85       107\n",
            "\n",
            "    accuracy                           0.81       188\n",
            "   macro avg       0.87      0.78      0.79       188\n",
            "weighted avg       0.85      0.81      0.80       188\n",
            "\n",
            "\n",
            "0.8085106382978723\n"
          ]
        },
        {
          "output_type": "stream",
          "name": "stderr",
          "text": [
            "[Parallel(n_jobs=1)]: Using backend SequentialBackend with 1 concurrent workers.\n",
            "[Parallel(n_jobs=1)]: Done   1 out of   1 | elapsed:    0.1s finished\n"
          ]
        }
      ]
    }
  ]
}