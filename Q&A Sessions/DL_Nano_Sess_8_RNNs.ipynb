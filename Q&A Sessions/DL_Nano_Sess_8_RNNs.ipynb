{
  "nbformat": 4,
  "nbformat_minor": 0,
  "metadata": {
    "colab": {
      "name": "DL Nano - Sess 8 - RNNs.ipynb",
      "provenance": [],
      "collapsed_sections": []
    },
    "kernelspec": {
      "name": "python3",
      "display_name": "Python 3"
    },
    "language_info": {
      "name": "python"
    }
  },
  "cells": [
    {
      "cell_type": "code",
      "metadata": {
        "id": "riMsOfEzPdAV"
      },
      "source": [
        "import numpy as np\n",
        "import matplotlib.pyplot as plt\n",
        "import pandas as pd\n",
        "import torch\n",
        "import torch.nn as nn\n",
        "from torch.autograd import Variable\n",
        "from sklearn.preprocessing import MinMaxScaler"
      ],
      "execution_count": null,
      "outputs": []
    },
    {
      "cell_type": "code",
      "metadata": {
        "id": "dxhUrb1plm9-",
        "colab": {
          "base_uri": "https://localhost:8080/"
        },
        "outputId": "0348a949-235b-4307-c508-d5ba56a9f581"
      },
      "source": [
        "!wget https://data.open-power-system-data.org/weather_data/2020-09-16/weather_data.csv"
      ],
      "execution_count": null,
      "outputs": [
        {
          "output_type": "stream",
          "name": "stdout",
          "text": [
            "--2021-11-19 16:42:45--  https://data.open-power-system-data.org/weather_data/2020-09-16/weather_data.csv\n",
            "Resolving data.open-power-system-data.org (data.open-power-system-data.org)... 85.13.152.63\n",
            "Connecting to data.open-power-system-data.org (data.open-power-system-data.org)|85.13.152.63|:443... connected.\n",
            "HTTP request sent, awaiting response... 200 OK\n",
            "Length: 233540027 (223M) [text/csv]\n",
            "Saving to: ‘weather_data.csv.1’\n",
            "\n",
            "weather_data.csv.1  100%[===================>] 222.72M  8.21MB/s    in 34s     \n",
            "\n",
            "2021-11-19 16:43:20 (6.49 MB/s) - ‘weather_data.csv.1’ saved [233540027/233540027]\n",
            "\n"
          ]
        }
      ]
    },
    {
      "cell_type": "code",
      "metadata": {
        "id": "RhBOqCGP4Qol"
      },
      "source": [
        "import pandas as pd\n",
        "import matplotlib.pyplot as plt\n",
        "\n",
        "weather_df = pd.read_csv(\"weather_data.csv\")\n",
        "\n",
        "#italy_df = weather_df[ [\"utc_timestamp\",\"IT_temperature\"] ]\n",
        "#italy_df[\"utc_timestamp\"] = pd.to_datetime(italy_df[\"utc_timestamp\"])"
      ],
      "execution_count": null,
      "outputs": []
    },
    {
      "cell_type": "code",
      "metadata": {
        "colab": {
          "base_uri": "https://localhost:8080/"
        },
        "id": "4A_zAyszGgye",
        "outputId": "ae76f9a5-b127-4e83-aded-08bfef957938"
      },
      "source": [
        "24*7*4*12"
      ],
      "execution_count": null,
      "outputs": [
        {
          "output_type": "execute_result",
          "data": {
            "text/plain": [
              "8064"
            ]
          },
          "metadata": {},
          "execution_count": 48
        }
      ]
    },
    {
      "cell_type": "code",
      "metadata": {
        "colab": {
          "base_uri": "https://localhost:8080/",
          "height": 298
        },
        "id": "I1H4q80SFTSo",
        "outputId": "cb039883-733c-4cb9-d709-d89d7814266d"
      },
      "source": [
        "#weather_df[\"IT_temperature\"][0:2400:24].plot()\n",
        "#weather_df[\"GB_temperature\"][0:2400:24].plot()\n",
        "\n",
        "import seaborn as sns\n",
        "\n",
        "sns.regplot(x=weather_df[\"IT_temperature\"][0:2400:24], y=weather_df[\"GB_temperature\"][0:2400:24])\n"
      ],
      "execution_count": null,
      "outputs": [
        {
          "output_type": "execute_result",
          "data": {
            "text/plain": [
              "<matplotlib.axes._subplots.AxesSubplot at 0x7fc2625ead50>"
            ]
          },
          "metadata": {},
          "execution_count": 54
        },
        {
          "output_type": "display_data",
          "data": {
            "image/png": "[encoded data removed]",
            "text/plain": [
              "<Figure size 432x288 with 1 Axes>"
            ]
          },
          "metadata": {
            "needs_background": "light"
          }
        }
      ]
    },
    {
      "cell_type": "code",
      "metadata": {
        "colab": {
          "base_uri": "https://localhost:8080/",
          "height": 342
        },
        "id": "kRrRqn36HrV7",
        "outputId": "90e06ef2-9e7f-4d05-9b5e-e1481e5d3ca9"
      },
      "source": [
        "weather_df.head()"
      ],
      "execution_count": null,
      "outputs": [
        {
          "output_type": "execute_result",
          "data": {
            "text/html": [
              "<div>\n",
              "<style scoped>\n",
              "    .dataframe tbody tr th:only-of-type {\n",
              "        vertical-align: middle;\n",
              "    }\n",
              "\n",
              "    .dataframe tbody tr th {\n",
              "        vertical-align: top;\n",
              "    }\n",
              "\n",
              "    .dataframe thead th {\n",
              "        text-align: right;\n",
              "    }\n",
              "</style>\n",
              "<table border=\"1\" class=\"dataframe\">\n",
              "  <thead>\n",
              "    <tr style=\"text-align: right;\">\n",
              "      <th></th>\n",
              "      <th>utc_timestamp</th>\n",
              "      <th>AT_temperature</th>\n",
              "      <th>AT_radiation_direct_horizontal</th>\n",
              "      <th>AT_radiation_diffuse_horizontal</th>\n",
              "      <th>BE_temperature</th>\n",
              "      <th>BE_radiation_direct_horizontal</th>\n",
              "      <th>BE_radiation_diffuse_horizontal</th>\n",
              "      <th>BG_temperature</th>\n",
              "      <th>BG_radiation_direct_horizontal</th>\n",
              "      <th>BG_radiation_diffuse_horizontal</th>\n",
              "      <th>CH_temperature</th>\n",
              "      <th>CH_radiation_direct_horizontal</th>\n",
              "      <th>CH_radiation_diffuse_horizontal</th>\n",
              "      <th>CZ_temperature</th>\n",
              "      <th>CZ_radiation_direct_horizontal</th>\n",
              "      <th>CZ_radiation_diffuse_horizontal</th>\n",
              "      <th>DE_temperature</th>\n",
              "      <th>DE_radiation_direct_horizontal</th>\n",
              "      <th>DE_radiation_diffuse_horizontal</th>\n",
              "      <th>DK_temperature</th>\n",
              "      <th>DK_radiation_direct_horizontal</th>\n",
              "      <th>DK_radiation_diffuse_horizontal</th>\n",
              "      <th>EE_temperature</th>\n",
              "      <th>EE_radiation_direct_horizontal</th>\n",
              "      <th>EE_radiation_diffuse_horizontal</th>\n",
              "      <th>ES_temperature</th>\n",
              "      <th>ES_radiation_direct_horizontal</th>\n",
              "      <th>ES_radiation_diffuse_horizontal</th>\n",
              "      <th>FI_temperature</th>\n",
              "      <th>FI_radiation_direct_horizontal</th>\n",
              "      <th>FI_radiation_diffuse_horizontal</th>\n",
              "      <th>FR_temperature</th>\n",
              "      <th>FR_radiation_direct_horizontal</th>\n",
              "      <th>FR_radiation_diffuse_horizontal</th>\n",
              "      <th>GB_temperature</th>\n",
              "      <th>GB_radiation_direct_horizontal</th>\n",
              "      <th>GB_radiation_diffuse_horizontal</th>\n",
              "      <th>GR_temperature</th>\n",
              "      <th>GR_radiation_direct_horizontal</th>\n",
              "      <th>GR_radiation_diffuse_horizontal</th>\n",
              "      <th>...</th>\n",
              "      <th>HU_radiation_diffuse_horizontal</th>\n",
              "      <th>IE_temperature</th>\n",
              "      <th>IE_radiation_direct_horizontal</th>\n",
              "      <th>IE_radiation_diffuse_horizontal</th>\n",
              "      <th>IT_temperature</th>\n",
              "      <th>IT_radiation_direct_horizontal</th>\n",
              "      <th>IT_radiation_diffuse_horizontal</th>\n",
              "      <th>LT_temperature</th>\n",
              "      <th>LT_radiation_direct_horizontal</th>\n",
              "      <th>LT_radiation_diffuse_horizontal</th>\n",
              "      <th>LU_temperature</th>\n",
              "      <th>LU_radiation_direct_horizontal</th>\n",
              "      <th>LU_radiation_diffuse_horizontal</th>\n",
              "      <th>LV_temperature</th>\n",
              "      <th>LV_radiation_direct_horizontal</th>\n",
              "      <th>LV_radiation_diffuse_horizontal</th>\n",
              "      <th>NL_temperature</th>\n",
              "      <th>NL_radiation_direct_horizontal</th>\n",
              "      <th>NL_radiation_diffuse_horizontal</th>\n",
              "      <th>NO_temperature</th>\n",
              "      <th>NO_radiation_direct_horizontal</th>\n",
              "      <th>NO_radiation_diffuse_horizontal</th>\n",
              "      <th>PL_temperature</th>\n",
              "      <th>PL_radiation_direct_horizontal</th>\n",
              "      <th>PL_radiation_diffuse_horizontal</th>\n",
              "      <th>PT_temperature</th>\n",
              "      <th>PT_radiation_direct_horizontal</th>\n",
              "      <th>PT_radiation_diffuse_horizontal</th>\n",
              "      <th>RO_temperature</th>\n",
              "      <th>RO_radiation_direct_horizontal</th>\n",
              "      <th>RO_radiation_diffuse_horizontal</th>\n",
              "      <th>SE_temperature</th>\n",
              "      <th>SE_radiation_direct_horizontal</th>\n",
              "      <th>SE_radiation_diffuse_horizontal</th>\n",
              "      <th>SI_temperature</th>\n",
              "      <th>SI_radiation_direct_horizontal</th>\n",
              "      <th>SI_radiation_diffuse_horizontal</th>\n",
              "      <th>SK_temperature</th>\n",
              "      <th>SK_radiation_direct_horizontal</th>\n",
              "      <th>SK_radiation_diffuse_horizontal</th>\n",
              "    </tr>\n",
              "  </thead>\n",
              "  <tbody>\n",
              "    <tr>\n",
              "      <th>0</th>\n",
              "      <td>1980-01-01T00:00:00Z</td>\n",
              "      <td>-3.640</td>\n",
              "      <td>0.0</td>\n",
              "      <td>0.0</td>\n",
              "      <td>-0.720</td>\n",
              "      <td>0.0</td>\n",
              "      <td>0.0</td>\n",
              "      <td>4.664</td>\n",
              "      <td>0.0</td>\n",
              "      <td>0.0</td>\n",
              "      <td>-6.287</td>\n",
              "      <td>0.0</td>\n",
              "      <td>0.0</td>\n",
              "      <td>-3.422</td>\n",
              "      <td>0.0</td>\n",
              "      <td>0.0</td>\n",
              "      <td>-1.261</td>\n",
              "      <td>0.0</td>\n",
              "      <td>0.0</td>\n",
              "      <td>-1.870</td>\n",
              "      <td>0.0</td>\n",
              "      <td>0.0</td>\n",
              "      <td>-7.060</td>\n",
              "      <td>0.0</td>\n",
              "      <td>0.0</td>\n",
              "      <td>8.066</td>\n",
              "      <td>0.0</td>\n",
              "      <td>0.0</td>\n",
              "      <td>-6.254</td>\n",
              "      <td>0.0</td>\n",
              "      <td>0.0</td>\n",
              "      <td>-0.537</td>\n",
              "      <td>0.0</td>\n",
              "      <td>0.0</td>\n",
              "      <td>-1.249</td>\n",
              "      <td>0.0</td>\n",
              "      <td>0.0</td>\n",
              "      <td>9.912</td>\n",
              "      <td>0.0</td>\n",
              "      <td>0.0</td>\n",
              "      <td>...</td>\n",
              "      <td>0.0</td>\n",
              "      <td>1.292</td>\n",
              "      <td>0.0</td>\n",
              "      <td>0.0</td>\n",
              "      <td>0.301</td>\n",
              "      <td>0.0</td>\n",
              "      <td>0.0</td>\n",
              "      <td>-6.541</td>\n",
              "      <td>0.0</td>\n",
              "      <td>0.0</td>\n",
              "      <td>-5.150</td>\n",
              "      <td>0.0</td>\n",
              "      <td>0.0</td>\n",
              "      <td>-7.166</td>\n",
              "      <td>0.0</td>\n",
              "      <td>0.0</td>\n",
              "      <td>2.382</td>\n",
              "      <td>0.0</td>\n",
              "      <td>0.0</td>\n",
              "      <td>-7.038</td>\n",
              "      <td>0.0</td>\n",
              "      <td>0.0</td>\n",
              "      <td>-3.721</td>\n",
              "      <td>0.0</td>\n",
              "      <td>0.0</td>\n",
              "      <td>12.862</td>\n",
              "      <td>0.0</td>\n",
              "      <td>0.0</td>\n",
              "      <td>-0.031</td>\n",
              "      <td>0.0</td>\n",
              "      <td>0.0</td>\n",
              "      <td>-3.945</td>\n",
              "      <td>0.0</td>\n",
              "      <td>0.0</td>\n",
              "      <td>-3.055</td>\n",
              "      <td>0.0</td>\n",
              "      <td>0.0</td>\n",
              "      <td>-4.648</td>\n",
              "      <td>0.0</td>\n",
              "      <td>0.0</td>\n",
              "    </tr>\n",
              "    <tr>\n",
              "      <th>1</th>\n",
              "      <td>1980-01-01T01:00:00Z</td>\n",
              "      <td>-3.803</td>\n",
              "      <td>0.0</td>\n",
              "      <td>0.0</td>\n",
              "      <td>-1.165</td>\n",
              "      <td>0.0</td>\n",
              "      <td>0.0</td>\n",
              "      <td>4.052</td>\n",
              "      <td>0.0</td>\n",
              "      <td>0.0</td>\n",
              "      <td>-6.602</td>\n",
              "      <td>0.0</td>\n",
              "      <td>0.0</td>\n",
              "      <td>-3.360</td>\n",
              "      <td>0.0</td>\n",
              "      <td>0.0</td>\n",
              "      <td>-1.414</td>\n",
              "      <td>0.0</td>\n",
              "      <td>0.0</td>\n",
              "      <td>-1.914</td>\n",
              "      <td>0.0</td>\n",
              "      <td>0.0</td>\n",
              "      <td>-7.341</td>\n",
              "      <td>0.0</td>\n",
              "      <td>0.0</td>\n",
              "      <td>7.960</td>\n",
              "      <td>0.0</td>\n",
              "      <td>0.0</td>\n",
              "      <td>-6.232</td>\n",
              "      <td>0.0</td>\n",
              "      <td>0.0</td>\n",
              "      <td>-0.489</td>\n",
              "      <td>0.0</td>\n",
              "      <td>0.0</td>\n",
              "      <td>-1.377</td>\n",
              "      <td>0.0</td>\n",
              "      <td>0.0</td>\n",
              "      <td>9.369</td>\n",
              "      <td>0.0</td>\n",
              "      <td>0.0</td>\n",
              "      <td>...</td>\n",
              "      <td>0.0</td>\n",
              "      <td>1.121</td>\n",
              "      <td>0.0</td>\n",
              "      <td>0.0</td>\n",
              "      <td>0.145</td>\n",
              "      <td>0.0</td>\n",
              "      <td>0.0</td>\n",
              "      <td>-6.509</td>\n",
              "      <td>0.0</td>\n",
              "      <td>0.0</td>\n",
              "      <td>-5.333</td>\n",
              "      <td>0.0</td>\n",
              "      <td>0.0</td>\n",
              "      <td>-7.371</td>\n",
              "      <td>0.0</td>\n",
              "      <td>0.0</td>\n",
              "      <td>2.236</td>\n",
              "      <td>0.0</td>\n",
              "      <td>0.0</td>\n",
              "      <td>-6.941</td>\n",
              "      <td>0.0</td>\n",
              "      <td>0.0</td>\n",
              "      <td>-3.806</td>\n",
              "      <td>0.0</td>\n",
              "      <td>0.0</td>\n",
              "      <td>12.757</td>\n",
              "      <td>0.0</td>\n",
              "      <td>0.0</td>\n",
              "      <td>0.311</td>\n",
              "      <td>0.0</td>\n",
              "      <td>0.0</td>\n",
              "      <td>-4.053</td>\n",
              "      <td>0.0</td>\n",
              "      <td>0.0</td>\n",
              "      <td>-3.272</td>\n",
              "      <td>0.0</td>\n",
              "      <td>0.0</td>\n",
              "      <td>-4.554</td>\n",
              "      <td>0.0</td>\n",
              "      <td>0.0</td>\n",
              "    </tr>\n",
              "    <tr>\n",
              "      <th>2</th>\n",
              "      <td>1980-01-01T02:00:00Z</td>\n",
              "      <td>-3.969</td>\n",
              "      <td>0.0</td>\n",
              "      <td>0.0</td>\n",
              "      <td>-1.434</td>\n",
              "      <td>0.0</td>\n",
              "      <td>0.0</td>\n",
              "      <td>3.581</td>\n",
              "      <td>0.0</td>\n",
              "      <td>0.0</td>\n",
              "      <td>-6.981</td>\n",
              "      <td>0.0</td>\n",
              "      <td>0.0</td>\n",
              "      <td>-3.429</td>\n",
              "      <td>0.0</td>\n",
              "      <td>0.0</td>\n",
              "      <td>-1.571</td>\n",
              "      <td>0.0</td>\n",
              "      <td>0.0</td>\n",
              "      <td>-1.976</td>\n",
              "      <td>0.0</td>\n",
              "      <td>0.0</td>\n",
              "      <td>-7.591</td>\n",
              "      <td>0.0</td>\n",
              "      <td>0.0</td>\n",
              "      <td>8.008</td>\n",
              "      <td>0.0</td>\n",
              "      <td>0.0</td>\n",
              "      <td>-6.343</td>\n",
              "      <td>0.0</td>\n",
              "      <td>0.0</td>\n",
              "      <td>-0.391</td>\n",
              "      <td>0.0</td>\n",
              "      <td>0.0</td>\n",
              "      <td>-1.449</td>\n",
              "      <td>0.0</td>\n",
              "      <td>0.0</td>\n",
              "      <td>9.056</td>\n",
              "      <td>0.0</td>\n",
              "      <td>0.0</td>\n",
              "      <td>...</td>\n",
              "      <td>0.0</td>\n",
              "      <td>0.980</td>\n",
              "      <td>0.0</td>\n",
              "      <td>0.0</td>\n",
              "      <td>-0.029</td>\n",
              "      <td>0.0</td>\n",
              "      <td>0.0</td>\n",
              "      <td>-6.416</td>\n",
              "      <td>0.0</td>\n",
              "      <td>0.0</td>\n",
              "      <td>-5.167</td>\n",
              "      <td>0.0</td>\n",
              "      <td>0.0</td>\n",
              "      <td>-7.342</td>\n",
              "      <td>0.0</td>\n",
              "      <td>0.0</td>\n",
              "      <td>2.086</td>\n",
              "      <td>0.0</td>\n",
              "      <td>0.0</td>\n",
              "      <td>-6.856</td>\n",
              "      <td>0.0</td>\n",
              "      <td>0.0</td>\n",
              "      <td>-3.868</td>\n",
              "      <td>0.0</td>\n",
              "      <td>0.0</td>\n",
              "      <td>12.674</td>\n",
              "      <td>0.0</td>\n",
              "      <td>0.0</td>\n",
              "      <td>0.568</td>\n",
              "      <td>0.0</td>\n",
              "      <td>0.0</td>\n",
              "      <td>-4.129</td>\n",
              "      <td>0.0</td>\n",
              "      <td>0.0</td>\n",
              "      <td>-3.639</td>\n",
              "      <td>0.0</td>\n",
              "      <td>0.0</td>\n",
              "      <td>-4.455</td>\n",
              "      <td>0.0</td>\n",
              "      <td>0.0</td>\n",
              "    </tr>\n",
              "    <tr>\n",
              "      <th>3</th>\n",
              "      <td>1980-01-01T03:00:00Z</td>\n",
              "      <td>-4.076</td>\n",
              "      <td>0.0</td>\n",
              "      <td>0.0</td>\n",
              "      <td>-1.843</td>\n",
              "      <td>0.0</td>\n",
              "      <td>0.0</td>\n",
              "      <td>3.197</td>\n",
              "      <td>0.0</td>\n",
              "      <td>0.0</td>\n",
              "      <td>-7.368</td>\n",
              "      <td>0.0</td>\n",
              "      <td>0.0</td>\n",
              "      <td>-3.697</td>\n",
              "      <td>0.0</td>\n",
              "      <td>0.0</td>\n",
              "      <td>-1.760</td>\n",
              "      <td>0.0</td>\n",
              "      <td>0.0</td>\n",
              "      <td>-2.040</td>\n",
              "      <td>0.0</td>\n",
              "      <td>0.0</td>\n",
              "      <td>-7.716</td>\n",
              "      <td>0.0</td>\n",
              "      <td>0.0</td>\n",
              "      <td>8.065</td>\n",
              "      <td>0.0</td>\n",
              "      <td>0.0</td>\n",
              "      <td>-6.550</td>\n",
              "      <td>0.0</td>\n",
              "      <td>0.0</td>\n",
              "      <td>-0.354</td>\n",
              "      <td>0.0</td>\n",
              "      <td>0.0</td>\n",
              "      <td>-1.481</td>\n",
              "      <td>0.0</td>\n",
              "      <td>0.0</td>\n",
              "      <td>8.658</td>\n",
              "      <td>0.0</td>\n",
              "      <td>0.0</td>\n",
              "      <td>...</td>\n",
              "      <td>0.0</td>\n",
              "      <td>0.944</td>\n",
              "      <td>0.0</td>\n",
              "      <td>0.0</td>\n",
              "      <td>-0.191</td>\n",
              "      <td>0.0</td>\n",
              "      <td>0.0</td>\n",
              "      <td>-6.197</td>\n",
              "      <td>0.0</td>\n",
              "      <td>0.0</td>\n",
              "      <td>-5.105</td>\n",
              "      <td>0.0</td>\n",
              "      <td>0.0</td>\n",
              "      <td>-7.206</td>\n",
              "      <td>0.0</td>\n",
              "      <td>0.0</td>\n",
              "      <td>1.861</td>\n",
              "      <td>0.0</td>\n",
              "      <td>0.0</td>\n",
              "      <td>-6.761</td>\n",
              "      <td>0.0</td>\n",
              "      <td>0.0</td>\n",
              "      <td>-3.934</td>\n",
              "      <td>0.0</td>\n",
              "      <td>0.0</td>\n",
              "      <td>12.622</td>\n",
              "      <td>0.0</td>\n",
              "      <td>0.0</td>\n",
              "      <td>0.610</td>\n",
              "      <td>0.0</td>\n",
              "      <td>0.0</td>\n",
              "      <td>-4.139</td>\n",
              "      <td>0.0</td>\n",
              "      <td>0.0</td>\n",
              "      <td>-4.202</td>\n",
              "      <td>0.0</td>\n",
              "      <td>0.0</td>\n",
              "      <td>-4.421</td>\n",
              "      <td>0.0</td>\n",
              "      <td>0.0</td>\n",
              "    </tr>\n",
              "    <tr>\n",
              "      <th>4</th>\n",
              "      <td>1980-01-01T04:00:00Z</td>\n",
              "      <td>-4.248</td>\n",
              "      <td>0.0</td>\n",
              "      <td>0.0</td>\n",
              "      <td>-2.094</td>\n",
              "      <td>0.0</td>\n",
              "      <td>0.0</td>\n",
              "      <td>2.750</td>\n",
              "      <td>0.0</td>\n",
              "      <td>0.0</td>\n",
              "      <td>-7.849</td>\n",
              "      <td>0.0</td>\n",
              "      <td>0.0</td>\n",
              "      <td>-4.081</td>\n",
              "      <td>0.0</td>\n",
              "      <td>0.0</td>\n",
              "      <td>-1.995</td>\n",
              "      <td>0.0</td>\n",
              "      <td>0.0</td>\n",
              "      <td>-2.106</td>\n",
              "      <td>0.0</td>\n",
              "      <td>0.0</td>\n",
              "      <td>-7.638</td>\n",
              "      <td>0.0</td>\n",
              "      <td>0.0</td>\n",
              "      <td>8.009</td>\n",
              "      <td>0.0</td>\n",
              "      <td>0.0</td>\n",
              "      <td>-6.722</td>\n",
              "      <td>0.0</td>\n",
              "      <td>0.0</td>\n",
              "      <td>-0.354</td>\n",
              "      <td>0.0</td>\n",
              "      <td>0.0</td>\n",
              "      <td>-1.433</td>\n",
              "      <td>0.0</td>\n",
              "      <td>0.0</td>\n",
              "      <td>8.335</td>\n",
              "      <td>0.0</td>\n",
              "      <td>0.0</td>\n",
              "      <td>...</td>\n",
              "      <td>0.0</td>\n",
              "      <td>0.910</td>\n",
              "      <td>0.0</td>\n",
              "      <td>0.0</td>\n",
              "      <td>-0.275</td>\n",
              "      <td>0.0</td>\n",
              "      <td>0.0</td>\n",
              "      <td>-5.899</td>\n",
              "      <td>0.0</td>\n",
              "      <td>0.0</td>\n",
              "      <td>-5.218</td>\n",
              "      <td>0.0</td>\n",
              "      <td>0.0</td>\n",
              "      <td>-7.073</td>\n",
              "      <td>0.0</td>\n",
              "      <td>0.0</td>\n",
              "      <td>1.713</td>\n",
              "      <td>0.0</td>\n",
              "      <td>0.0</td>\n",
              "      <td>-6.569</td>\n",
              "      <td>0.0</td>\n",
              "      <td>0.0</td>\n",
              "      <td>-4.064</td>\n",
              "      <td>0.0</td>\n",
              "      <td>0.0</td>\n",
              "      <td>12.522</td>\n",
              "      <td>0.0</td>\n",
              "      <td>0.0</td>\n",
              "      <td>0.462</td>\n",
              "      <td>0.0</td>\n",
              "      <td>0.0</td>\n",
              "      <td>-4.239</td>\n",
              "      <td>0.0</td>\n",
              "      <td>0.0</td>\n",
              "      <td>-4.732</td>\n",
              "      <td>0.0</td>\n",
              "      <td>0.0</td>\n",
              "      <td>-4.449</td>\n",
              "      <td>0.0</td>\n",
              "      <td>0.0</td>\n",
              "    </tr>\n",
              "  </tbody>\n",
              "</table>\n",
              "<p>5 rows × 85 columns</p>\n",
              "</div>"
            ],
            "text/plain": [
              "          utc_timestamp  ...  SK_radiation_diffuse_horizontal\n",
              "0  1980-01-01T00:00:00Z  ...                              0.0\n",
              "1  1980-01-01T01:00:00Z  ...                              0.0\n",
              "2  1980-01-01T02:00:00Z  ...                              0.0\n",
              "3  1980-01-01T03:00:00Z  ...                              0.0\n",
              "4  1980-01-01T04:00:00Z  ...                              0.0\n",
              "\n",
              "[5 rows x 85 columns]"
            ]
          },
          "metadata": {},
          "execution_count": 55
        }
      ]
    },
    {
      "cell_type": "code",
      "metadata": {
        "id": "D-S4G2ykHkw3"
      },
      "source": [
        "import datetime \n",
        "\n",
        "weather_df[\"date\"] = pd.date_range(start='1/1/1980', periods=len(weather_df), freq='H') \n",
        "weather_df['year'] = weather_df.date.dt.year \n",
        "weather_df['month'] = weather_df.date.dt.month \n",
        "weather_df['day'] = weather_df.date.dt.day \n"
      ],
      "execution_count": null,
      "outputs": []
    },
    {
      "cell_type": "code",
      "metadata": {
        "colab": {
          "base_uri": "https://localhost:8080/"
        },
        "id": "EWCoZ9VeKBR_",
        "outputId": "83de60d5-a8d9-457d-a8a4-689fb16a18e5"
      },
      "source": [
        "weather_df.isnull().sum().sum()"
      ],
      "execution_count": null,
      "outputs": [
        {
          "output_type": "execute_result",
          "data": {
            "text/plain": [
              "0"
            ]
          },
          "metadata": {},
          "execution_count": 75
        }
      ]
    },
    {
      "cell_type": "code",
      "metadata": {
        "colab": {
          "base_uri": "https://localhost:8080/",
          "height": 424
        },
        "id": "lMSxA0RHIQxV",
        "outputId": "7dab0481-0835-4bb1-9c71-472fac9d7dc7"
      },
      "source": [
        "weather_df[ [\"date\",\"year\", \"month\", \"day\"]]"
      ],
      "execution_count": null,
      "outputs": [
        {
          "output_type": "execute_result",
          "data": {
            "text/html": [
              "<div>\n",
              "<style scoped>\n",
              "    .dataframe tbody tr th:only-of-type {\n",
              "        vertical-align: middle;\n",
              "    }\n",
              "\n",
              "    .dataframe tbody tr th {\n",
              "        vertical-align: top;\n",
              "    }\n",
              "\n",
              "    .dataframe thead th {\n",
              "        text-align: right;\n",
              "    }\n",
              "</style>\n",
              "<table border=\"1\" class=\"dataframe\">\n",
              "  <thead>\n",
              "    <tr style=\"text-align: right;\">\n",
              "      <th></th>\n",
              "      <th>date</th>\n",
              "      <th>year</th>\n",
              "      <th>month</th>\n",
              "      <th>day</th>\n",
              "    </tr>\n",
              "  </thead>\n",
              "  <tbody>\n",
              "    <tr>\n",
              "      <th>0</th>\n",
              "      <td>1980-01-01 00:00:00</td>\n",
              "      <td>1980</td>\n",
              "      <td>1</td>\n",
              "      <td>1</td>\n",
              "    </tr>\n",
              "    <tr>\n",
              "      <th>1</th>\n",
              "      <td>1980-01-01 01:00:00</td>\n",
              "      <td>1980</td>\n",
              "      <td>1</td>\n",
              "      <td>1</td>\n",
              "    </tr>\n",
              "    <tr>\n",
              "      <th>2</th>\n",
              "      <td>1980-01-01 02:00:00</td>\n",
              "      <td>1980</td>\n",
              "      <td>1</td>\n",
              "      <td>1</td>\n",
              "    </tr>\n",
              "    <tr>\n",
              "      <th>3</th>\n",
              "      <td>1980-01-01 03:00:00</td>\n",
              "      <td>1980</td>\n",
              "      <td>1</td>\n",
              "      <td>1</td>\n",
              "    </tr>\n",
              "    <tr>\n",
              "      <th>4</th>\n",
              "      <td>1980-01-01 04:00:00</td>\n",
              "      <td>1980</td>\n",
              "      <td>1</td>\n",
              "      <td>1</td>\n",
              "    </tr>\n",
              "    <tr>\n",
              "      <th>...</th>\n",
              "      <td>...</td>\n",
              "      <td>...</td>\n",
              "      <td>...</td>\n",
              "      <td>...</td>\n",
              "    </tr>\n",
              "    <tr>\n",
              "      <th>350635</th>\n",
              "      <td>2019-12-31 19:00:00</td>\n",
              "      <td>2019</td>\n",
              "      <td>12</td>\n",
              "      <td>31</td>\n",
              "    </tr>\n",
              "    <tr>\n",
              "      <th>350636</th>\n",
              "      <td>2019-12-31 20:00:00</td>\n",
              "      <td>2019</td>\n",
              "      <td>12</td>\n",
              "      <td>31</td>\n",
              "    </tr>\n",
              "    <tr>\n",
              "      <th>350637</th>\n",
              "      <td>2019-12-31 21:00:00</td>\n",
              "      <td>2019</td>\n",
              "      <td>12</td>\n",
              "      <td>31</td>\n",
              "    </tr>\n",
              "    <tr>\n",
              "      <th>350638</th>\n",
              "      <td>2019-12-31 22:00:00</td>\n",
              "      <td>2019</td>\n",
              "      <td>12</td>\n",
              "      <td>31</td>\n",
              "    </tr>\n",
              "    <tr>\n",
              "      <th>350639</th>\n",
              "      <td>2019-12-31 23:00:00</td>\n",
              "      <td>2019</td>\n",
              "      <td>12</td>\n",
              "      <td>31</td>\n",
              "    </tr>\n",
              "  </tbody>\n",
              "</table>\n",
              "<p>350640 rows × 4 columns</p>\n",
              "</div>"
            ],
            "text/plain": [
              "                      date  year  month  day\n",
              "0      1980-01-01 00:00:00  1980      1    1\n",
              "1      1980-01-01 01:00:00  1980      1    1\n",
              "2      1980-01-01 02:00:00  1980      1    1\n",
              "3      1980-01-01 03:00:00  1980      1    1\n",
              "4      1980-01-01 04:00:00  1980      1    1\n",
              "...                    ...   ...    ...  ...\n",
              "350635 2019-12-31 19:00:00  2019     12   31\n",
              "350636 2019-12-31 20:00:00  2019     12   31\n",
              "350637 2019-12-31 21:00:00  2019     12   31\n",
              "350638 2019-12-31 22:00:00  2019     12   31\n",
              "350639 2019-12-31 23:00:00  2019     12   31\n",
              "\n",
              "[350640 rows x 4 columns]"
            ]
          },
          "metadata": {},
          "execution_count": 62
        }
      ]
    },
    {
      "cell_type": "code",
      "metadata": {
        "colab": {
          "base_uri": "https://localhost:8080/",
          "height": 206
        },
        "id": "kmfUtxy-NDih",
        "outputId": "3877998c-9cb9-442a-8259-6307896c4a2e"
      },
      "source": [
        "italy_df.head()"
      ],
      "execution_count": null,
      "outputs": [
        {
          "output_type": "execute_result",
          "data": {
            "text/html": [
              "<div>\n",
              "<style scoped>\n",
              "    .dataframe tbody tr th:only-of-type {\n",
              "        vertical-align: middle;\n",
              "    }\n",
              "\n",
              "    .dataframe tbody tr th {\n",
              "        vertical-align: top;\n",
              "    }\n",
              "\n",
              "    .dataframe thead th {\n",
              "        text-align: right;\n",
              "    }\n",
              "</style>\n",
              "<table border=\"1\" class=\"dataframe\">\n",
              "  <thead>\n",
              "    <tr style=\"text-align: right;\">\n",
              "      <th></th>\n",
              "      <th>utc_timestamp</th>\n",
              "      <th>IT_temperature</th>\n",
              "    </tr>\n",
              "  </thead>\n",
              "  <tbody>\n",
              "    <tr>\n",
              "      <th>0</th>\n",
              "      <td>1980-01-01 00:00:00+00:00</td>\n",
              "      <td>0.301</td>\n",
              "    </tr>\n",
              "    <tr>\n",
              "      <th>1</th>\n",
              "      <td>1980-01-01 01:00:00+00:00</td>\n",
              "      <td>0.145</td>\n",
              "    </tr>\n",
              "    <tr>\n",
              "      <th>2</th>\n",
              "      <td>1980-01-01 02:00:00+00:00</td>\n",
              "      <td>-0.029</td>\n",
              "    </tr>\n",
              "    <tr>\n",
              "      <th>3</th>\n",
              "      <td>1980-01-01 03:00:00+00:00</td>\n",
              "      <td>-0.191</td>\n",
              "    </tr>\n",
              "    <tr>\n",
              "      <th>4</th>\n",
              "      <td>1980-01-01 04:00:00+00:00</td>\n",
              "      <td>-0.275</td>\n",
              "    </tr>\n",
              "  </tbody>\n",
              "</table>\n",
              "</div>"
            ],
            "text/plain": [
              "              utc_timestamp  IT_temperature\n",
              "0 1980-01-01 00:00:00+00:00           0.301\n",
              "1 1980-01-01 01:00:00+00:00           0.145\n",
              "2 1980-01-01 02:00:00+00:00          -0.029\n",
              "3 1980-01-01 03:00:00+00:00          -0.191\n",
              "4 1980-01-01 04:00:00+00:00          -0.275"
            ]
          },
          "metadata": {},
          "execution_count": 4
        }
      ]
    },
    {
      "cell_type": "code",
      "metadata": {
        "id": "vGZRzIwyWlKx"
      },
      "source": [
        "shuffled_timeseries"
      ],
      "execution_count": null,
      "outputs": []
    },
    {
      "cell_type": "code",
      "metadata": {
        "colab": {
          "base_uri": "https://localhost:8080/",
          "height": 287
        },
        "id": "i8QcXLfyJHoi",
        "outputId": "102e885d-f1dd-4d71-dd58-f1caf720bf2b"
      },
      "source": [
        "weather_data = weather_df[\"IT_temperature\"].iloc[:100].values\n",
        "plt.plot(weather_df[\"utc_timestamp\"].iloc[:100], weather_data)\n"
      ],
      "execution_count": null,
      "outputs": [
        {
          "output_type": "execute_result",
          "data": {
            "text/plain": [
              "[<matplotlib.lines.Line2D at 0x7fc2575e5850>]"
            ]
          },
          "metadata": {},
          "execution_count": 104
        },
        {
          "output_type": "display_data",
          "data": {
            "image/png": "[encoded data removed]",
            "text/plain": [
              "<Figure size 432x288 with 1 Axes>"
            ]
          },
          "metadata": {
            "needs_background": "light"
          }
        }
      ]
    },
    {
      "cell_type": "code",
      "metadata": {
        "colab": {
          "base_uri": "https://localhost:8080/",
          "height": 287
        },
        "id": "l5EbPscdW8jh",
        "outputId": "49869eac-9461-4346-cece-3f50567be40e"
      },
      "source": [
        "np.random.shuffle(weather_data)\n",
        "plt.plot(weather_df[\"utc_timestamp\"].iloc[:100], weather_data[:100])"
      ],
      "execution_count": null,
      "outputs": [
        {
          "output_type": "execute_result",
          "data": {
            "text/plain": [
              "[<matplotlib.lines.Line2D at 0x7fc25775a5d0>]"
            ]
          },
          "metadata": {},
          "execution_count": 103
        },
        {
          "output_type": "display_data",
          "data": {
            "image/png": "[encoded data removed]",
            "text/plain": [
              "<Figure size 432x288 with 1 Axes>"
            ]
          },
          "metadata": {
            "needs_background": "light"
          }
        }
      ]
    },
    {
      "cell_type": "code",
      "metadata": {
        "id": "3Cvu4cCNJL0W"
      },
      "source": [
        "torch.nn.RNN(batch_first=True) "
      ],
      "execution_count": null,
      "outputs": []
    },
    {
      "cell_type": "code",
      "metadata": {
        "colab": {
          "base_uri": "https://localhost:8080/",
          "height": 283
        },
        "id": "WrSsR6C9Im9J",
        "outputId": "45c940d0-0859-40e9-f486-562f92a95269"
      },
      "source": [
        "import matplotlib.pyplot as plt\n",
        "plt.scatter(x=weather_df[\"date\"][0:120:24], y=weather_df[\"IT_temperature\"][0:120:24])\n",
        "plt.scatter(x=weather_df[\"date\"][120:144:24], y=weather_df[\"IT_temperature\"][120:144:24])\n",
        "\n",
        "x = [1,2,3,4,5]\n",
        "    ....\n",
        "    ....\n",
        "    [2,3,41,4,3]nth row\n",
        "\n",
        "y= [ 1\n",
        "    2\n",
        "    3\n",
        "    4\n",
        "    .\n",
        "    .\n",
        "    \n",
        "    .\n",
        "    nth] "
      ],
      "execution_count": null,
      "outputs": [
        {
          "output_type": "execute_result",
          "data": {
            "text/plain": [
              "<matplotlib.collections.PathCollection at 0x7fc25945cad0>"
            ]
          },
          "metadata": {},
          "execution_count": 73
        },
        {
          "output_type": "display_data",
          "data": {
            "image/png": "[encoded data removed]",
            "text/plain": [
              "<Figure size 432x288 with 1 Axes>"
            ]
          },
          "metadata": {
            "needs_background": "light"
          }
        }
      ]
    },
    {
      "cell_type": "code",
      "metadata": {
        "id": "EUeqTlnUKcjE"
      },
      "source": [
        "features = []\n",
        "targets = []\n",
        "import numpy as np\n",
        "#timeseries_fake_data = np.array([np.random.randint(0,100) for _ in range(1000)])\n",
        "sequence_length = 5\n",
        "jump_length = 24\n",
        "\n",
        "for i in range(0, len(timeseries_fake_data), jump_length):\n",
        "    if i+sequence_length >= len(timeseries_fake_data):\n",
        "        break\n",
        "    features.append(timeseries_fake_data[i:i+sequence_length])\n",
        "    targets.append(timeseries_fake_data[i+sequence_length])\n",
        "\n",
        "features = np.array(features)\n",
        "targets = np.array(targets)\n"
      ],
      "execution_count": null,
      "outputs": []
    },
    {
      "cell_type": "code",
      "metadata": {
        "colab": {
          "base_uri": "https://localhost:8080/",
          "height": 284
        },
        "id": "NOy1k_00MT1W",
        "outputId": "33041c86-e3e8-4886-d477-df66400bced2"
      },
      "source": [
        "plt.scatter(x=np.arange(4), y=timeseries_fake_data[0:4])\n",
        "plt.scatter(x=np.arange(3), y=timeseries_fake_data[0:3])\n",
        "#plt.scatter(x=np.arange(len(timeseries_fake_data)), y=timeseries_fake_data[0:100])\n"
      ],
      "execution_count": null,
      "outputs": [
        {
          "output_type": "execute_result",
          "data": {
            "text/plain": [
              "<matplotlib.collections.PathCollection at 0x7fc259049c90>"
            ]
          },
          "metadata": {},
          "execution_count": 95
        },
        {
          "output_type": "display_data",
          "data": {
            "image/png": "[encoded data removed]",
            "text/plain": [
              "<Figure size 432x288 with 1 Axes>"
            ]
          },
          "metadata": {
            "needs_background": "light"
          }
        }
      ]
    },
    {
      "cell_type": "code",
      "metadata": {
        "colab": {
          "base_uri": "https://localhost:8080/"
        },
        "id": "LbDgrUS9L4mU",
        "outputId": "2713be46-7c07-4153-af58-7e3bff151285"
      },
      "source": [
        "features[0]"
      ],
      "execution_count": null,
      "outputs": [
        {
          "output_type": "execute_result",
          "data": {
            "text/plain": [
              "array([ 7, 16, 39, 35,  1])"
            ]
          },
          "metadata": {},
          "execution_count": 87
        }
      ]
    },
    {
      "cell_type": "code",
      "metadata": {
        "colab": {
          "base_uri": "https://localhost:8080/"
        },
        "id": "WGjMysf9MF3b",
        "outputId": "a11a306c-ca0b-47a6-91d9-801aa631b14c"
      },
      "source": [
        "targets[0]"
      ],
      "execution_count": null,
      "outputs": [
        {
          "output_type": "execute_result",
          "data": {
            "text/plain": [
              "55"
            ]
          },
          "metadata": {},
          "execution_count": 88
        }
      ]
    },
    {
      "cell_type": "code",
      "metadata": {
        "id": "P90qBtdX5PuW"
      },
      "source": [
        "import torch \n",
        "from torch.utils.data import DataLoader, TensorDataset\n",
        "\n",
        "def batch_data(temprature, sequence_length, jump_length, batch_size):\n",
        "    \"\"\"\n",
        "    Batch the neural network data using DataLoader\n",
        "    :return: DataLoader with batched data\n",
        "    \"\"\"\n",
        "    # TODO: Implement function\n",
        "    \n",
        "    features = []\n",
        "    targets = []\n",
        "    for i in range(0, len(temprature), jump_length):\n",
        "        if i+sequence_length >= len(temprature):\n",
        "            break\n",
        "        features.append(temprature[i:i+sequence_length])\n",
        "        targets.append(temprature[i+sequence_length])\n",
        "\n",
        "\n",
        "    features = torch.tensor(features)\n",
        "    targets = torch.tensor(targets)\n",
        "    \n",
        "    dataset = TensorDataset(features, targets)\n",
        "    rnn_loader = DataLoader(dataset,batch_size=batch_size, shuffle=False)\n",
        "    \n",
        "    # return a dataloader\n",
        "    return rnn_loader"
      ],
      "execution_count": null,
      "outputs": []
    },
    {
      "cell_type": "markdown",
      "metadata": {
        "id": "vb5JLRty58ow"
      },
      "source": [
        "Let's play with our data for a bit. Can you load data for everyday? Every 12 hours ? Every hour?\n",
        "\n",
        "Also, can you load a single batch and visualize it ? Hint: Use matplotlib, plotly or seaborn ;)"
      ]
    },
    {
      "cell_type": "code",
      "metadata": {
        "id": "OQQ9UVsf58Vh",
        "colab": {
          "base_uri": "https://localhost:8080/"
        },
        "outputId": "ea418b1d-4b37-4b4b-ed3d-050abae4dff9"
      },
      "source": [
        "## Let's try it out\n",
        "\n",
        "rnn_loader = batch_data(weather_df[\"IT_temperature\"].iloc[:1000].values, 5, 1, 32)\n"
      ],
      "execution_count": null,
      "outputs": [
        {
          "output_type": "stream",
          "name": "stderr",
          "text": [
            "/usr/local/lib/python3.7/dist-packages/ipykernel_launcher.py:20: UserWarning: Creating a tensor from a list of numpy.ndarrays is extremely slow. Please consider converting the list to a single numpy.ndarray with numpy.array() before converting to a tensor. (Triggered internally at  ../torch/csrc/utils/tensor_new.cpp:201.)\n"
          ]
        }
      ]
    },
    {
      "cell_type": "code",
      "metadata": {
        "id": "4JkbJTZKON4g",
        "colab": {
          "base_uri": "https://localhost:8080/"
        },
        "outputId": "4f3fdeb9-7fb2-4b54-e03c-49aa4d88a243"
      },
      "source": [
        "\n",
        "import torch\n",
        "\n",
        "# Check for a GPU\n",
        "train_on_gpu = torch.cuda.is_available()\n",
        "if not train_on_gpu:\n",
        "    print('No GPU found. Please use a GPU to train your neural network.')"
      ],
      "execution_count": null,
      "outputs": [
        {
          "output_type": "stream",
          "name": "stdout",
          "text": [
            "No GPU found. Please use a GPU to train your neural network.\n"
          ]
        }
      ]
    },
    {
      "cell_type": "code",
      "metadata": {
        "id": "k0IrngYbOdXQ"
      },
      "source": [
        "import torch.nn as nn\n",
        "\n",
        "class LSTM(nn.Module):\n",
        "\n",
        "    def __init__(self, num_classes, input_size, hidden_size, num_layers,seq_length):\n",
        "        super(LSTM, self).__init__()\n",
        "        \n",
        "        self.num_classes = num_classes\n",
        "        self.num_layers = num_layers\n",
        "        self.input_size = input_size\n",
        "        self.hidden_size = hidden_size\n",
        "        self.seq_length = seq_length\n",
        "        \n",
        "        self.lstm = nn.LSTM(input_size=input_size, hidden_size=hidden_size,\n",
        "                            num_layers=num_layers, batch_first=True)\n",
        "        \n",
        "        self.fc = nn.Linear(hidden_size, 1)\n",
        "\n",
        "    def forward(self, x, h_out):\n",
        "\n",
        "        \n",
        "        c_0 = Variable(torch.zeros(\n",
        "            self.num_layers, x.size(0), self.hidden_size))\n",
        "        \n",
        "        # Propagate input through LSTM\n",
        "        ula, (h_out, _) = self.lstm(x, (h_out, c_0))\n",
        "        \n",
        "        h_out = h_out.view(-1, self.hidden_size)\n",
        "        \n",
        "        #h_out.detach_()\n",
        "        h_out = h_out.detach()\n",
        "\n",
        "        out = self.fc(h_out)\n",
        "        return out, h_out\n"
      ],
      "execution_count": null,
      "outputs": []
    },
    {
      "cell_type": "code",
      "metadata": {
        "id": "dduykD_bOkK-",
        "colab": {
          "base_uri": "https://localhost:8080/"
        },
        "outputId": "94ca7700-92cc-45d1-fa68-7531d9c8a25b"
      },
      "source": [
        "num_epochs = 2000\n",
        "learning_rate = 0.01\n",
        "\n",
        "input_size = 1\n",
        "hidden_size = 1\n",
        "num_layers = 1\n",
        "num_classes = 1\n",
        "seq_length = 5\n",
        "lstm = LSTM(num_classes, input_size, hidden_size, num_layers,seq_length)\n",
        "\n",
        "criterion = torch.nn.MSELoss()    # mean-squared error for regression\n",
        "optimizer = torch.optim.Adam(lstm.parameters(), lr=learning_rate)\n",
        "\n",
        "# Train the model\n",
        "for epoch in range(num_epochs):\n",
        "\n",
        "    for features, targets in rnn_loader:\n",
        "        #import pdb;pdb.set_trace()\n",
        "        if features.size(0) != 32:\n",
        "            break\n",
        "\n",
        "        h_0 = Variable(torch.zeros(num_layers, 32, hidden_size))\n",
        "\n",
        "        lstm.zero_grad()\n",
        "        features = features.float()\n",
        "        targets = targets.float()\n",
        "\n",
        "        outputs, h_out = lstm.forward(features.reshape(features.size(0),seq_length,1), h_0)\n",
        "        optimizer.zero_grad()\n",
        "        \n",
        "        # obtain the loss function\n",
        "        #import pdb;pdb.set_trace()\n",
        "        loss = criterion(outputs, targets)\n",
        "        loss.backward()\n",
        "        \n",
        "        optimizer.step()\n",
        "    if epoch % 100 == 0:\n",
        "        print(\"Epoch: %d, loss: %1.5f\" % (epoch, loss.item()))"
      ],
      "execution_count": null,
      "outputs": [
        {
          "output_type": "stream",
          "name": "stderr",
          "text": [
            "/usr/local/lib/python3.7/dist-packages/torch/nn/modules/loss.py:520: UserWarning: Using a target size (torch.Size([32])) that is different to the input size (torch.Size([32, 1])). This will likely lead to incorrect results due to broadcasting. Please ensure they have the same size.\n",
            "  return F.mse_loss(input, target, reduction=self.reduction)\n"
          ]
        },
        {
          "output_type": "stream",
          "name": "stdout",
          "text": [
            "Epoch: 0, loss: 35.24030\n",
            "Epoch: 100, loss: 13.64434\n",
            "Epoch: 200, loss: 7.29859\n",
            "Epoch: 300, loss: 5.10168\n",
            "Epoch: 400, loss: 10.63574\n",
            "Epoch: 500, loss: 10.69814\n",
            "Epoch: 600, loss: 8.44356\n",
            "Epoch: 700, loss: 11.51249\n",
            "Epoch: 800, loss: 10.84203\n",
            "Epoch: 900, loss: 11.15373\n",
            "Epoch: 1000, loss: 8.07206\n",
            "Epoch: 1100, loss: 11.88849\n",
            "Epoch: 1200, loss: 9.06467\n",
            "Epoch: 1300, loss: 13.23244\n",
            "Epoch: 1400, loss: 10.12303\n",
            "Epoch: 1500, loss: 10.47847\n",
            "Epoch: 1600, loss: 5.62560\n",
            "Epoch: 1700, loss: 7.40462\n",
            "Epoch: 1800, loss: 6.55114\n",
            "Epoch: 1900, loss: 8.48381\n"
          ]
        }
      ]
    },
    {
      "cell_type": "code",
      "metadata": {
        "id": "eSqJZDn5OpJT"
      },
      "source": [
        "lstm.eval()\n",
        "train_predict = lstm(dataX)\n",
        "\n",
        "data_predict = train_predict.data.numpy()\n",
        "dataY_plot = dataY.data.numpy()\n",
        "\n",
        "data_predict = sc.inverse_transform(data_predict)\n",
        "dataY_plot = sc.inverse_transform(dataY_plot)\n",
        "\n",
        "plt.axvline(x=train_size, c='r', linestyle='--')\n",
        "\n",
        "plt.plot(dataY_plot)\n",
        "plt.plot(data_predict)\n",
        "plt.suptitle('Time-Series Prediction')\n",
        "plt.show()"
      ],
      "execution_count": null,
      "outputs": []
    },
    {
      "cell_type": "code",
      "metadata": {
        "id": "iFE-srdGRzaD"
      },
      "source": [
        ""
      ],
      "execution_count": null,
      "outputs": []
    }
  ]
}