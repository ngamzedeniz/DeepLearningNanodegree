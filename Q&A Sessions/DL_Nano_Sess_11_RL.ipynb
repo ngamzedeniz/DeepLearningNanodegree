{
  "nbformat": 4,
  "nbformat_minor": 0,
  "metadata": {
    "colab": {
      "name": "DL Nano - Sess 11 - RL.ipynb",
      "provenance": [],
      "collapsed_sections": []
    },
    "kernelspec": {
      "name": "python3",
      "display_name": "Python 3"
    },
    "language_info": {
      "name": "python"
    }
  },
  "cells": [
    {
      "cell_type": "code",
      "source": [
        "!pip install gym pyvirtualdisplay > /dev/null 2>&1\n",
        "!apt-get install -y xvfb python-opengl ffmpeg > /dev/null 2>&1"
      ],
      "metadata": {
        "id": "x1UnYutnss2Z"
      },
      "execution_count": null,
      "outputs": []
    },
    {
      "cell_type": "code",
      "source": [
        "!apt-get update > /dev/null 2>&1\n",
        "!apt-get install cmake > /dev/null 2>&1\n",
        "!pip install --upgrade setuptools 2>&1\n",
        "!pip install ez_setup > /dev/null 2>&1\n",
        "!pip install gym[atari] > /dev/null 2>&1"
      ],
      "metadata": {
        "colab": {
          "base_uri": "https://localhost:8080/"
        },
        "id": "-LdRtLvPst4d",
        "outputId": "e07356a6-4309-40b9-c550-ac876b898b97"
      },
      "execution_count": null,
      "outputs": [
        {
          "output_type": "stream",
          "name": "stdout",
          "text": [
            "Requirement already satisfied: setuptools in /usr/local/lib/python3.7/dist-packages (60.3.1)\n"
          ]
        }
      ]
    },
    {
      "cell_type": "code",
      "source": [
        "import gym\n",
        "from gym.wrappers import Monitor\n",
        "import glob\n",
        "import io\n",
        "import base64\n",
        "from IPython.display import HTML\n",
        "from pyvirtualdisplay import Display\n",
        "from IPython import display as ipythondisplay\n",
        "\n",
        "display = Display(visible=0, size=(1400, 900))\n",
        "display.start()\n",
        "\n",
        "def show_video():\n",
        "  mp4list = glob.glob('video/*.mp4')\n",
        "  if len(mp4list) > 0:\n",
        "    mp4 = mp4list[0]\n",
        "    video = io.open(mp4, 'r+b').read()\n",
        "    encoded = base64.b64encode(video)\n",
        "    ipythondisplay.display(HTML(data='''<video alt=\"test\" autoplay \n",
        "                loop controls style=\"height: 400px;\">\n",
        "                <source src=\"data:video/mp4;base64,{0}\" type=\"video/mp4\" />\n",
        "             </video>'''.format(encoded.decode('ascii'))))\n",
        "  else: \n",
        "    print(\"Could not find video\")\n",
        "    \n",
        "\n",
        "def wrap_env(env):\n",
        "  env = Monitor(env, './video', force=True)\n",
        "  return env"
      ],
      "metadata": {
        "id": "cq33WwG0s5Ch"
      },
      "execution_count": null,
      "outputs": []
    },
    {
      "cell_type": "markdown",
      "source": [
        "Code above is only for colab, not needed for PC"
      ],
      "metadata": {
        "id": "vps9v36SMiov"
      }
    },
    {
      "cell_type": "code",
      "source": [
        "\n",
        "\n",
        "import torch.nn as nn\n",
        "import torch.nn.functional as F\n",
        "\n",
        "INPUT_DIM = 4\n",
        "OUTPUT_DIM = 1\n",
        "class SimplePolicyNet(nn.Module):\n",
        "    def __init__(self):\n",
        "        super().__init__()\n",
        "        self.fc1 = nn.Linear(INPUT_DIM, 12)\n",
        "        self.fc2 = nn.Linear(12, 6)\n",
        "        self.fc3 = nn.Linear(6, OUTPUT_DIM)\n",
        "\n",
        "    def forward(self, x):\n",
        "        x = F.relu(self.fc1(x))\n",
        "        x = F.relu(self.fc2(x))\n",
        "        x = F.sigmoid(self.fc3(x))\n",
        "        return x\n",
        "\n",
        "model = SimplePolicyNet()"
      ],
      "metadata": {
        "id": "58d6pcLP0WnD"
      },
      "execution_count": null,
      "outputs": []
    },
    {
      "cell_type": "code",
      "source": [
        "import numpy as np\n",
        "import torch\n",
        "def update_weights(model, beta = 0.005):\n",
        "    new_model = SimplePolicyNet()\n",
        "    zipped_parameters = zip(model.parameters(), new_model.parameters())\n",
        "    with torch.no_grad():\n",
        "        for old_param, new_param in zipped_parameters:\n",
        "            loc=0#np.random.random()\n",
        "            scale=1#np.random.random()\n",
        "            new_param_values = old_param.numpy() + beta * np.random.normal(loc = loc, scale=scale, size=new_param.shape  )\n",
        "            new_param.data = nn.parameter.Parameter(torch.tensor(new_param_values).float())\n",
        "    return new_model"
      ],
      "metadata": {
        "id": "_xFUNU4SsRBn"
      },
      "execution_count": null,
      "outputs": []
    },
    {
      "cell_type": "code",
      "source": [
        "env.action_space.sample()\n",
        "\n",
        "## CODE BELOW DOES THE SAME THING OF CODE ABOVE\n",
        "from random import choice\n",
        "action_space = [1, 0]\n",
        "choice(action_space)"
      ],
      "metadata": {
        "colab": {
          "base_uri": "https://localhost:8080/",
          "height": 248
        },
        "id": "uCl_BedZ4amj",
        "outputId": "8d40f9dc-5a42-47fe-8638-0dccc89e38fa"
      },
      "execution_count": null,
      "outputs": [
        {
          "output_type": "error",
          "ename": "NameError",
          "evalue": "ignored",
          "traceback": [
            "\u001b[0;31m---------------------------------------------------------------------------\u001b[0m",
            "\u001b[0;31mNameError\u001b[0m                                 Traceback (most recent call last)",
            "\u001b[0;32m<ipython-input-5-295c880324be>\u001b[0m in \u001b[0;36m<module>\u001b[0;34m()\u001b[0m\n\u001b[0;32m----> 1\u001b[0;31m \u001b[0menv\u001b[0m\u001b[0;34m.\u001b[0m\u001b[0maction_space\u001b[0m\u001b[0;34m.\u001b[0m\u001b[0msample\u001b[0m\u001b[0;34m(\u001b[0m\u001b[0;34m)\u001b[0m\u001b[0;34m\u001b[0m\u001b[0;34m\u001b[0m\u001b[0m\n\u001b[0m\u001b[1;32m      2\u001b[0m \u001b[0;34m\u001b[0m\u001b[0m\n\u001b[1;32m      3\u001b[0m \u001b[0;31m## CODE BELOW DOES THE SAME THING OF CODE ABOVE\u001b[0m\u001b[0;34m\u001b[0m\u001b[0;34m\u001b[0m\u001b[0;34m\u001b[0m\u001b[0m\n\u001b[1;32m      4\u001b[0m \u001b[0;32mfrom\u001b[0m \u001b[0mrandom\u001b[0m \u001b[0;32mimport\u001b[0m \u001b[0mchoice\u001b[0m\u001b[0;34m\u001b[0m\u001b[0;34m\u001b[0m\u001b[0m\n\u001b[1;32m      5\u001b[0m \u001b[0maction_space\u001b[0m \u001b[0;34m=\u001b[0m \u001b[0;34m[\u001b[0m\u001b[0;36m1\u001b[0m\u001b[0;34m,\u001b[0m \u001b[0;36m0\u001b[0m\u001b[0;34m]\u001b[0m\u001b[0;34m\u001b[0m\u001b[0;34m\u001b[0m\u001b[0m\n",
            "\u001b[0;31mNameError\u001b[0m: name 'env' is not defined"
          ]
        }
      ]
    },
    {
      "cell_type": "code",
      "source": [
        "print(next(model.parameters()))\n",
        "update_weights(model)\n",
        "print(next(model.parameters()))\n",
        "print(next(model.parameters()))\n"
      ],
      "metadata": {
        "id": "UzRI6A5j2y9j"
      },
      "execution_count": null,
      "outputs": []
    },
    {
      "cell_type": "code",
      "source": [
        "def evaluate_episode(env, model):\n",
        "\n",
        "    observation = env.reset()\n",
        "\n",
        "    max_reward = float(\"-inf\")\n",
        "\n",
        "    #for i in range(1000):\n",
        "    total_reward = 0\n",
        "    while True:\n",
        "\n",
        "        #env.render()\n",
        "        \n",
        "        #your agent goes here\n",
        "        action = model(torch.tensor(observation).float()).detach().numpy()[0]\n",
        "        action = int(round(action))\n",
        "        observation, reward, done, info = env.step(action) \n",
        "        total_reward += reward\n",
        "            \n",
        "        if done: \n",
        "            return total_reward"
      ],
      "metadata": {
        "id": "MpnzCHVS26uO"
      },
      "execution_count": null,
      "outputs": []
    },
    {
      "cell_type": "code",
      "source": [
        "from random import choice \n",
        "def repopulate_top_N(reward_to_model_dict, N=10, population = 100, beta=0.05):\n",
        "    top_list = {k: v for k, v in sorted(list(reward_to_model_dict.items()))[-N:]}\n",
        "    top_list = list(top_list.items())\n",
        "    new_models = []\n",
        "    top_performer = top_list[-1][1]\n",
        "    print(\"BEST FITNESS TO DATE: {}\".format(top_list[-1][0]))\n",
        "    new_models.append(top_performer)\n",
        "    while len(new_models) < population:\n",
        "        fitness, model = choice(top_list)\n",
        "        new_model = update_weights(model, beta)\n",
        "        new_models.append(new_model)\n",
        "    del reward_to_model_dict\n",
        "    return new_models\n",
        "\n",
        "def evaluate_new_models(env, new_models ):\n",
        "    reward_to_model_dict = {}\n",
        "    for model in new_models:\n",
        "        fitness = evaluate_episode(env, model)\n",
        "        reward_to_model_dict[fitness] = model\n",
        "    del new_models\n",
        "    return reward_to_model_dict\n",
        "\n",
        "\n"
      ],
      "metadata": {
        "id": "91VdOACi_q8X"
      },
      "execution_count": null,
      "outputs": []
    },
    {
      "cell_type": "code",
      "source": [
        "from tqdm import tqdm\n",
        "import gym\n",
        "# First Iteration\n",
        "reward_to_model_dict = {0:SimplePolicyNet()}\n",
        "env = wrap_env(gym.make(\"CartPole-v0\"))\n",
        "\n",
        "for _ in tqdm(range(100)):\n",
        "    new_models = repopulate_top_N(reward_to_model_dict, N=3, population = 10, beta = 0.05)\n",
        "    reward_to_model_dict = evaluate_new_models(env, new_models )\n",
        "\n"
      ],
      "metadata": {
        "colab": {
          "base_uri": "https://localhost:8080/"
        },
        "id": "QqKwzFA0FYXc",
        "outputId": "73b3b8f8-5c3f-47b6-c636-e7742e54bd39"
      },
      "execution_count": null,
      "outputs": [
        {
          "output_type": "stream",
          "name": "stderr",
          "text": [
            "\r  0%|          | 0/100 [00:00<?, ?it/s]"
          ]
        },
        {
          "output_type": "stream",
          "name": "stdout",
          "text": [
            "BEST FITNESS TO DATE: 0\n"
          ]
        },
        {
          "output_type": "stream",
          "name": "stderr",
          "text": [
            "/usr/local/lib/python3.7/dist-packages/torch/nn/functional.py:1806: UserWarning: nn.functional.sigmoid is deprecated. Use torch.sigmoid instead.\n",
            "  warnings.warn(\"nn.functional.sigmoid is deprecated. Use torch.sigmoid instead.\")\n",
            "/usr/local/lib/python3.7/dist-packages/torch/nn/functional.py:1806: UserWarning: nn.functional.sigmoid is deprecated. Use torch.sigmoid instead.\n",
            "  warnings.warn(\"nn.functional.sigmoid is deprecated. Use torch.sigmoid instead.\")\n",
            "/usr/local/lib/python3.7/dist-packages/torch/nn/functional.py:1806: UserWarning: nn.functional.sigmoid is deprecated. Use torch.sigmoid instead.\n",
            "  warnings.warn(\"nn.functional.sigmoid is deprecated. Use torch.sigmoid instead.\")\n",
            "  1%|          | 1/100 [00:00<01:36,  1.03it/s]"
          ]
        },
        {
          "output_type": "stream",
          "name": "stdout",
          "text": [
            "BEST FITNESS TO DATE: 10.0\n",
            "BEST FITNESS TO DATE: 10.0\n"
          ]
        },
        {
          "output_type": "stream",
          "name": "stderr",
          "text": [
            "/usr/local/lib/python3.7/dist-packages/torch/nn/functional.py:1806: UserWarning: nn.functional.sigmoid is deprecated. Use torch.sigmoid instead.\n",
            "  warnings.warn(\"nn.functional.sigmoid is deprecated. Use torch.sigmoid instead.\")\n",
            "\r  3%|▎         | 3/100 [00:01<00:34,  2.79it/s]"
          ]
        },
        {
          "output_type": "stream",
          "name": "stdout",
          "text": [
            "BEST FITNESS TO DATE: 10.0\n",
            "BEST FITNESS TO DATE: 11.0\n",
            "BEST FITNESS TO DATE: 11.0\n",
            "BEST FITNESS TO DATE: 10.0\n"
          ]
        },
        {
          "output_type": "stream",
          "name": "stderr",
          "text": [
            "/usr/local/lib/python3.7/dist-packages/torch/nn/functional.py:1806: UserWarning: nn.functional.sigmoid is deprecated. Use torch.sigmoid instead.\n",
            "  warnings.warn(\"nn.functional.sigmoid is deprecated. Use torch.sigmoid instead.\")\n",
            " 12%|█▏        | 12/100 [00:01<00:08, 10.86it/s]"
          ]
        },
        {
          "output_type": "stream",
          "name": "stdout",
          "text": [
            "BEST FITNESS TO DATE: 10.0\n",
            "BEST FITNESS TO DATE: 10.0\n",
            "BEST FITNESS TO DATE: 11.0\n",
            "BEST FITNESS TO DATE: 10.0\n",
            "BEST FITNESS TO DATE: 11.0\n",
            "BEST FITNESS TO DATE: 11.0\n"
          ]
        },
        {
          "output_type": "stream",
          "name": "stderr",
          "text": [
            "/usr/local/lib/python3.7/dist-packages/torch/nn/functional.py:1806: UserWarning: nn.functional.sigmoid is deprecated. Use torch.sigmoid instead.\n",
            "  warnings.warn(\"nn.functional.sigmoid is deprecated. Use torch.sigmoid instead.\")\n",
            " 20%|██        | 20/100 [00:02<00:05, 14.97it/s]"
          ]
        },
        {
          "output_type": "stream",
          "name": "stdout",
          "text": [
            "BEST FITNESS TO DATE: 11.0\n",
            "BEST FITNESS TO DATE: 11.0\n",
            "BEST FITNESS TO DATE: 10.0\n",
            "BEST FITNESS TO DATE: 10.0\n",
            "BEST FITNESS TO DATE: 10.0\n",
            "BEST FITNESS TO DATE: 11.0\n",
            "BEST FITNESS TO DATE: 10.0\n",
            "BEST FITNESS TO DATE: 10.0\n",
            "BEST FITNESS TO DATE: 10.0\n"
          ]
        },
        {
          "output_type": "stream",
          "name": "stderr",
          "text": [
            "/usr/local/lib/python3.7/dist-packages/torch/nn/functional.py:1806: UserWarning: nn.functional.sigmoid is deprecated. Use torch.sigmoid instead.\n",
            "  warnings.warn(\"nn.functional.sigmoid is deprecated. Use torch.sigmoid instead.\")\n",
            " 28%|██▊       | 28/100 [00:02<00:04, 17.58it/s]"
          ]
        },
        {
          "output_type": "stream",
          "name": "stdout",
          "text": [
            "BEST FITNESS TO DATE: 10.0\n",
            "BEST FITNESS TO DATE: 11.0\n",
            "BEST FITNESS TO DATE: 10.0\n",
            "BEST FITNESS TO DATE: 11.0\n",
            "BEST FITNESS TO DATE: 10.0\n",
            "BEST FITNESS TO DATE: 10.0\n",
            "BEST FITNESS TO DATE: 10.0\n",
            "BEST FITNESS TO DATE: 10.0\n",
            "BEST FITNESS TO DATE: 10.0\n"
          ]
        },
        {
          "output_type": "stream",
          "name": "stderr",
          "text": [
            "\r 32%|███▏      | 32/100 [00:02<00:03, 21.25it/s]"
          ]
        },
        {
          "output_type": "stream",
          "name": "stdout",
          "text": [
            "BEST FITNESS TO DATE: 10.0\n",
            "BEST FITNESS TO DATE: 11.0\n",
            "BEST FITNESS TO DATE: 11.0\n",
            "BEST FITNESS TO DATE: 20.0\n"
          ]
        },
        {
          "output_type": "stream",
          "name": "stderr",
          "text": [
            "/usr/local/lib/python3.7/dist-packages/torch/nn/functional.py:1806: UserWarning: nn.functional.sigmoid is deprecated. Use torch.sigmoid instead.\n",
            "  warnings.warn(\"nn.functional.sigmoid is deprecated. Use torch.sigmoid instead.\")\n",
            " 39%|███▉      | 39/100 [00:03<00:03, 18.29it/s]"
          ]
        },
        {
          "output_type": "stream",
          "name": "stdout",
          "text": [
            "BEST FITNESS TO DATE: 18.0\n",
            "BEST FITNESS TO DATE: 21.0\n",
            "BEST FITNESS TO DATE: 29.0\n",
            "BEST FITNESS TO DATE: 33.0\n",
            "BEST FITNESS TO DATE: 47.0\n",
            "BEST FITNESS TO DATE: 53.0\n"
          ]
        },
        {
          "output_type": "stream",
          "name": "stderr",
          "text": [
            "\r 42%|████▏     | 42/100 [00:03<00:03, 18.48it/s]"
          ]
        },
        {
          "output_type": "stream",
          "name": "stdout",
          "text": [
            "BEST FITNESS TO DATE: 60.0\n",
            "BEST FITNESS TO DATE: 97.0\n",
            "BEST FITNESS TO DATE: 83.0\n"
          ]
        },
        {
          "output_type": "stream",
          "name": "stderr",
          "text": [
            "\r 45%|████▌     | 45/100 [00:03<00:03, 16.27it/s]"
          ]
        },
        {
          "output_type": "stream",
          "name": "stdout",
          "text": [
            "BEST FITNESS TO DATE: 85.0\n",
            "BEST FITNESS TO DATE: 121.0\n",
            "BEST FITNESS TO DATE: 200.0\n"
          ]
        },
        {
          "output_type": "stream",
          "name": "stderr",
          "text": [
            "\r 48%|████▊     | 48/100 [00:03<00:03, 14.84it/s]"
          ]
        },
        {
          "output_type": "stream",
          "name": "stdout",
          "text": [
            "BEST FITNESS TO DATE: 102.0\n",
            "BEST FITNESS TO DATE: 86.0\n",
            "BEST FITNESS TO DATE: 134.0\n"
          ]
        },
        {
          "output_type": "stream",
          "name": "stderr",
          "text": [
            "\r 50%|█████     | 50/100 [00:04<00:03, 14.14it/s]"
          ]
        },
        {
          "output_type": "stream",
          "name": "stdout",
          "text": [
            "BEST FITNESS TO DATE: 50.0\n",
            "BEST FITNESS TO DATE: 100.0\n"
          ]
        },
        {
          "output_type": "stream",
          "name": "stderr",
          "text": [
            "/usr/local/lib/python3.7/dist-packages/torch/nn/functional.py:1806: UserWarning: nn.functional.sigmoid is deprecated. Use torch.sigmoid instead.\n",
            "  warnings.warn(\"nn.functional.sigmoid is deprecated. Use torch.sigmoid instead.\")\n",
            " 52%|█████▏    | 52/100 [00:04<00:06,  7.17it/s]"
          ]
        },
        {
          "output_type": "stream",
          "name": "stdout",
          "text": [
            "BEST FITNESS TO DATE: 73.0\n",
            "BEST FITNESS TO DATE: 125.0\n"
          ]
        },
        {
          "output_type": "stream",
          "name": "stderr",
          "text": [
            " 56%|█████▌    | 56/100 [00:05<00:05,  8.25it/s]"
          ]
        },
        {
          "output_type": "stream",
          "name": "stdout",
          "text": [
            "BEST FITNESS TO DATE: 95.0\n",
            "BEST FITNESS TO DATE: 104.0\n",
            "BEST FITNESS TO DATE: 87.0\n"
          ]
        },
        {
          "output_type": "stream",
          "name": "stderr",
          "text": [
            "\r 58%|█████▊    | 58/100 [00:05<00:04,  8.53it/s]"
          ]
        },
        {
          "output_type": "stream",
          "name": "stdout",
          "text": [
            "BEST FITNESS TO DATE: 116.0\n",
            "BEST FITNESS TO DATE: 113.0\n",
            "BEST FITNESS TO DATE: 89.0\n"
          ]
        },
        {
          "output_type": "stream",
          "name": "stderr",
          "text": [
            " 62%|██████▏   | 62/100 [00:05<00:04,  9.38it/s]"
          ]
        },
        {
          "output_type": "stream",
          "name": "stdout",
          "text": [
            "BEST FITNESS TO DATE: 123.0\n",
            "BEST FITNESS TO DATE: 105.0\n",
            "BEST FITNESS TO DATE: 169.0\n"
          ]
        },
        {
          "output_type": "stream",
          "name": "stderr",
          "text": [
            "\r 64%|██████▍   | 64/100 [00:05<00:03,  9.65it/s]"
          ]
        },
        {
          "output_type": "stream",
          "name": "stdout",
          "text": [
            "BEST FITNESS TO DATE: 71.0\n",
            "BEST FITNESS TO DATE: 147.0\n",
            "BEST FITNESS TO DATE: 200.0\n"
          ]
        },
        {
          "output_type": "stream",
          "name": "stderr",
          "text": [
            " 68%|██████▊   | 68/100 [00:06<00:02, 10.95it/s]"
          ]
        },
        {
          "output_type": "stream",
          "name": "stdout",
          "text": [
            "BEST FITNESS TO DATE: 96.0\n",
            "BEST FITNESS TO DATE: 86.0\n",
            "BEST FITNESS TO DATE: 88.0\n"
          ]
        },
        {
          "output_type": "stream",
          "name": "stderr",
          "text": [
            "\r 70%|███████   | 70/100 [00:06<00:02, 10.54it/s]"
          ]
        },
        {
          "output_type": "stream",
          "name": "stdout",
          "text": [
            "BEST FITNESS TO DATE: 89.0\n",
            "BEST FITNESS TO DATE: 132.0\n"
          ]
        },
        {
          "output_type": "stream",
          "name": "stderr",
          "text": [
            "\r 72%|███████▏  | 72/100 [00:06<00:03,  9.14it/s]"
          ]
        },
        {
          "output_type": "stream",
          "name": "stdout",
          "text": [
            "BEST FITNESS TO DATE: 200.0\n",
            "BEST FITNESS TO DATE: 200.0\n"
          ]
        },
        {
          "output_type": "stream",
          "name": "stderr",
          "text": [
            "/usr/local/lib/python3.7/dist-packages/torch/nn/functional.py:1806: UserWarning: nn.functional.sigmoid is deprecated. Use torch.sigmoid instead.\n",
            "  warnings.warn(\"nn.functional.sigmoid is deprecated. Use torch.sigmoid instead.\")\n",
            " 73%|███████▎  | 73/100 [00:08<00:09,  2.93it/s]"
          ]
        },
        {
          "output_type": "stream",
          "name": "stdout",
          "text": [
            "BEST FITNESS TO DATE: 200.0\n"
          ]
        },
        {
          "output_type": "stream",
          "name": "stderr",
          "text": [
            " 75%|███████▌  | 75/100 [00:08<00:06,  3.58it/s]"
          ]
        },
        {
          "output_type": "stream",
          "name": "stdout",
          "text": [
            "BEST FITNESS TO DATE: 200.0\n",
            "BEST FITNESS TO DATE: 200.0\n"
          ]
        },
        {
          "output_type": "stream",
          "name": "stderr",
          "text": [
            " 77%|███████▋  | 77/100 [00:08<00:05,  4.33it/s]"
          ]
        },
        {
          "output_type": "stream",
          "name": "stdout",
          "text": [
            "BEST FITNESS TO DATE: 200.0\n",
            "BEST FITNESS TO DATE: 200.0\n"
          ]
        },
        {
          "output_type": "stream",
          "name": "stderr",
          "text": [
            " 79%|███████▉  | 79/100 [00:09<00:04,  4.90it/s]"
          ]
        },
        {
          "output_type": "stream",
          "name": "stdout",
          "text": [
            "BEST FITNESS TO DATE: 200.0\n",
            "BEST FITNESS TO DATE: 200.0\n"
          ]
        },
        {
          "output_type": "stream",
          "name": "stderr",
          "text": [
            " 81%|████████  | 81/100 [00:09<00:03,  5.34it/s]"
          ]
        },
        {
          "output_type": "stream",
          "name": "stdout",
          "text": [
            "BEST FITNESS TO DATE: 200.0\n",
            "BEST FITNESS TO DATE: 200.0\n"
          ]
        },
        {
          "output_type": "stream",
          "name": "stderr",
          "text": [
            " 83%|████████▎ | 83/100 [00:09<00:02,  5.99it/s]"
          ]
        },
        {
          "output_type": "stream",
          "name": "stdout",
          "text": [
            "BEST FITNESS TO DATE: 126.0\n",
            "BEST FITNESS TO DATE: 188.0\n"
          ]
        },
        {
          "output_type": "stream",
          "name": "stderr",
          "text": [
            "\r 84%|████████▍ | 84/100 [00:10<00:02,  6.13it/s]"
          ]
        },
        {
          "output_type": "stream",
          "name": "stdout",
          "text": [
            "BEST FITNESS TO DATE: 169.0\n",
            "BEST FITNESS TO DATE: 89.0\n"
          ]
        },
        {
          "output_type": "stream",
          "name": "stderr",
          "text": [
            " 87%|████████▋ | 87/100 [00:10<00:01,  6.97it/s]"
          ]
        },
        {
          "output_type": "stream",
          "name": "stdout",
          "text": [
            "BEST FITNESS TO DATE: 200.0\n",
            "BEST FITNESS TO DATE: 164.0\n"
          ]
        },
        {
          "output_type": "stream",
          "name": "stderr",
          "text": [
            " 89%|████████▉ | 89/100 [00:10<00:01,  6.69it/s]"
          ]
        },
        {
          "output_type": "stream",
          "name": "stdout",
          "text": [
            "BEST FITNESS TO DATE: 200.0\n",
            "BEST FITNESS TO DATE: 146.0\n"
          ]
        },
        {
          "output_type": "stream",
          "name": "stderr",
          "text": [
            " 91%|█████████ | 91/100 [00:11<00:01,  6.41it/s]"
          ]
        },
        {
          "output_type": "stream",
          "name": "stdout",
          "text": [
            "BEST FITNESS TO DATE: 200.0\n",
            "BEST FITNESS TO DATE: 133.0\n"
          ]
        },
        {
          "output_type": "stream",
          "name": "stderr",
          "text": [
            " 93%|█████████▎| 93/100 [00:11<00:01,  6.23it/s]"
          ]
        },
        {
          "output_type": "stream",
          "name": "stdout",
          "text": [
            "BEST FITNESS TO DATE: 155.0\n",
            "BEST FITNESS TO DATE: 144.0\n"
          ]
        },
        {
          "output_type": "stream",
          "name": "stderr",
          "text": [
            " 95%|█████████▌| 95/100 [00:11<00:00,  5.94it/s]"
          ]
        },
        {
          "output_type": "stream",
          "name": "stdout",
          "text": [
            "BEST FITNESS TO DATE: 136.0\n",
            "BEST FITNESS TO DATE: 142.0\n"
          ]
        },
        {
          "output_type": "stream",
          "name": "stderr",
          "text": [
            " 97%|█████████▋| 97/100 [00:12<00:00,  6.27it/s]"
          ]
        },
        {
          "output_type": "stream",
          "name": "stdout",
          "text": [
            "BEST FITNESS TO DATE: 141.0\n",
            "BEST FITNESS TO DATE: 137.0\n"
          ]
        },
        {
          "output_type": "stream",
          "name": "stderr",
          "text": [
            " 99%|█████████▉| 99/100 [00:12<00:00,  5.92it/s]"
          ]
        },
        {
          "output_type": "stream",
          "name": "stdout",
          "text": [
            "BEST FITNESS TO DATE: 188.0\n",
            "BEST FITNESS TO DATE: 200.0\n"
          ]
        },
        {
          "output_type": "stream",
          "name": "stderr",
          "text": [
            "100%|██████████| 100/100 [00:12<00:00,  7.93it/s]\n"
          ]
        }
      ]
    },
    {
      "cell_type": "code",
      "source": [
        "fitness, model =  sorted(list(reward_to_model_dict.items()))[-1]\n"
      ],
      "metadata": {
        "id": "UGqdj4FcPXIN"
      },
      "execution_count": null,
      "outputs": []
    },
    {
      "cell_type": "code",
      "execution_count": null,
      "metadata": {
        "id": "xDCr6mHJsOBq"
      },
      "outputs": [],
      "source": [
        "import gym\n",
        "import numpy as np\n",
        "from copy import deepcopy\n",
        "\n",
        "\n",
        "env = wrap_env(gym.make(\"CartPole-v0\"))\n",
        "\n",
        "observation = env.reset()\n",
        "\n",
        "max_reward = float(\"-inf\")\n",
        "\n",
        "#for i in range(1000):\n",
        "\n",
        "while True:\n",
        "\n",
        "    env.render()\n",
        "    \n",
        "    #your agent goes here\n",
        "    action = model(torch.tensor(observation).float()).detach().numpy()[0]\n",
        "    action = int(round(action))\n",
        "    observation, reward, done, info = env.step(action) \n",
        "\n",
        "    #if max_reward < reward:\n",
        "    #    reward = max_reward\n",
        "    #    best_model = deepcopy(model)\n",
        "        \n",
        "    if done: \n",
        "        break;\n",
        "            \n",
        "env.close()\n",
        "show_video()"
      ]
    },
    {
      "cell_type": "code",
      "source": [
        ""
      ],
      "metadata": {
        "id": "i4fA36qLK1j_"
      },
      "execution_count": null,
      "outputs": []
    }
  ]
}