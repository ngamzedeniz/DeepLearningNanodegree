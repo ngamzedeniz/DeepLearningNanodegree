{
  "nbformat": 4,
  "nbformat_minor": 0,
  "metadata": {
    "colab": {
      "provenance": [],
      "authorship_tag": "ABX9TyO0w9kiLKyMWYkCLaM2HKb/",
      "include_colab_link": true
    },
    "kernelspec": {
      "name": "python3",
      "display_name": "Python 3"
    },
    "language_info": {
      "name": "python"
    }
  },
  "cells": [
    {
      "cell_type": "markdown",
      "metadata": {
        "id": "view-in-github",
        "colab_type": "text"
      },
      "source": [
        "<a href=\"https://colab.research.google.com/github/ngamzedeniz/DeepLearningNanodegree/blob/main/ilk_hafta_kendi_al%C4%B1%C5%9Ft%C4%B1rmalar%C4%B1m_1.ipynb\" target=\"_parent\"><img src=\"https://colab.research.google.com/assets/colab-badge.svg\" alt=\"Open In Colab\"/></a>"
      ]
    },
    {
      "cell_type": "code",
      "source": [
        "students = [\"John\", \"Mark\",\"Venessa\", \"Mariam\"]\n",
        "#for student in students:\n",
        " # print(student)\n",
        "\n",
        "for x,y in enumerate(students):\n",
        "  print(x,y)"
      ],
      "metadata": {
        "colab": {
          "base_uri": "https://localhost:8080/"
        },
        "id": "srze68wCIY5s",
        "outputId": "54b3f9c3-1142-4cac-802c-fcfc1f4f0d9f"
      },
      "execution_count": null,
      "outputs": [
        {
          "output_type": "stream",
          "name": "stdout",
          "text": [
            "0 John\n",
            "1 Mark\n",
            "2 Venessa\n",
            "3 Mariam\n"
          ]
        }
      ]
    },
    {
      "cell_type": "code",
      "source": [
        "\n",
        "  string = [\"John\", \"Mark\",\"Venessa\", \"Mariam\"]\n",
        "  new_string = \"\"\n",
        "\n",
        "  for s,i in enumerate(string):\n",
        "    if s %2 == 0:\n",
        "      new_string += i.upper()\n",
        "    else:\n",
        "      new_string += i.lower()\n",
        "  print(new_string)\n",
        "\n",
        "  "
      ],
      "metadata": {
        "colab": {
          "base_uri": "https://localhost:8080/"
        },
        "id": "_vuywLCVHKXp",
        "outputId": "ee41207b-c6bf-4e3c-8db5-547a43a5a64f"
      },
      "execution_count": null,
      "outputs": [
        {
          "output_type": "stream",
          "name": "stdout",
          "text": [
            "JOHNmarkVENESSAmariam\n"
          ]
        }
      ]
    }
  ]
}