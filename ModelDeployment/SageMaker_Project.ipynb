{
  "cells": [
    {
      "cell_type": "markdown",
      "metadata": {
        "id": "qPRcw2B1NNAJ"
      },
      "source": [
        "# Creating a Sentiment Analysis Web App\n",
        "## Using PyTorch and SageMaker\n",
        "\n",
        "_Deep Learning Nanodegree Program | Deployment_\n",
        "\n",
        "---\n",
        "\n",
        "Now that we have a basic understanding of how SageMaker works we will try to use it to construct a complete project from end to end. Our goal will be to have a simple web page which a user can use to enter a movie review. The web page will then send the review off to our deployed model which will predict the sentiment of the entered review.\n",
        "\n",
        "## Instructions\n",
        "\n",
        "Some template code has already been provided for you, and you will need to implement additional functionality to successfully complete this notebook. You will not need to modify the included code beyond what is requested. Sections that begin with '**TODO**' in the header indicate that you need to complete or implement some portion within them. Instructions will be provided for each section and the specifics of the implementation are marked in the code block with a `# TODO: ...` comment. Please be sure to read the instructions carefully!\n",
        "\n",
        "In addition to implementing code, there will be questions for you to answer which relate to the task and your implementation. Each section where you will answer a question is preceded by a '**Question:**' header. Carefully read each question and provide your answer below the '**Answer:**' header by editing the Markdown cell.\n",
        "\n",
        "> **Note**: Code and Markdown cells can be executed using the **Shift+Enter** keyboard shortcut. In addition, a cell can be edited by typically clicking it (double-click for Markdown cells) or by pressing **Enter** while it is highlighted.\n",
        "\n",
        "## General Outline\n",
        "\n",
        "Recall the general outline for SageMaker projects using a notebook instance.\n",
        "\n",
        "1. Download or otherwise retrieve the data.\n",
        "2. Process / Prepare the data.\n",
        "3. Upload the processed data to S3.\n",
        "4. Train a chosen model.\n",
        "5. Test the trained model (typically using a batch transform job).\n",
        "6. Deploy the trained model.\n",
        "7. Use the deployed model.\n",
        "\n",
        "For this project, you will be following the steps in the general outline with some modifications. \n",
        "\n",
        "First, you will not be testing the model in its own step. You will still be testing the model, however, you will do it by deploying your model and then using the deployed model by sending the test data to it. One of the reasons for doing this is so that you can make sure that your deployed model is working correctly before moving forward.\n",
        "\n",
        "In addition, you will deploy and use your trained model a second time. In the second iteration you will customize the way that your trained model is deployed by including some of your own code. In addition, your newly deployed model will be used in the sentiment analysis web app."
      ]
    },
    {
      "cell_type": "code",
      "execution_count": null,
      "metadata": {
        "id": "TjL0Ky7KNNAR",
        "outputId": "9fbc1315-d4a6-4e1b-8a11-66513e1bbc75"
      },
      "outputs": [
        {
          "name": "stdout",
          "output_type": "stream",
          "text": [
            "Requirement already satisfied: sagemaker==1.72.0 in /home/ec2-user/anaconda3/envs/pytorch_p36/lib/python3.6/site-packages (1.72.0)\n",
            "Requirement already satisfied: protobuf3-to-dict>=0.1.5 in /home/ec2-user/anaconda3/envs/pytorch_p36/lib/python3.6/site-packages (from sagemaker==1.72.0) (0.1.5)\n",
            "Requirement already satisfied: importlib-metadata>=1.4.0 in /home/ec2-user/anaconda3/envs/pytorch_p36/lib/python3.6/site-packages (from sagemaker==1.72.0) (4.5.0)\n",
            "Requirement already satisfied: numpy>=1.9.0 in /home/ec2-user/anaconda3/envs/pytorch_p36/lib/python3.6/site-packages (from sagemaker==1.72.0) (1.19.5)\n",
            "Requirement already satisfied: boto3>=1.14.12 in /home/ec2-user/anaconda3/envs/pytorch_p36/lib/python3.6/site-packages (from sagemaker==1.72.0) (1.20.25)\n",
            "Requirement already satisfied: scipy>=0.19.0 in /home/ec2-user/anaconda3/envs/pytorch_p36/lib/python3.6/site-packages (from sagemaker==1.72.0) (1.5.3)\n",
            "Requirement already satisfied: smdebug-rulesconfig==0.1.4 in /home/ec2-user/anaconda3/envs/pytorch_p36/lib/python3.6/site-packages (from sagemaker==1.72.0) (0.1.4)\n",
            "Requirement already satisfied: protobuf>=3.1 in /home/ec2-user/anaconda3/envs/pytorch_p36/lib/python3.6/site-packages (from sagemaker==1.72.0) (3.17.2)\n",
            "Requirement already satisfied: packaging>=20.0 in /home/ec2-user/anaconda3/envs/pytorch_p36/lib/python3.6/site-packages (from sagemaker==1.72.0) (21.3)\n",
            "Requirement already satisfied: jmespath<1.0.0,>=0.7.1 in /home/ec2-user/anaconda3/envs/pytorch_p36/lib/python3.6/site-packages (from boto3>=1.14.12->sagemaker==1.72.0) (0.10.0)\n",
            "Requirement already satisfied: s3transfer<0.6.0,>=0.5.0 in /home/ec2-user/anaconda3/envs/pytorch_p36/lib/python3.6/site-packages (from boto3>=1.14.12->sagemaker==1.72.0) (0.5.0)\n",
            "Requirement already satisfied: botocore<1.24.0,>=1.23.25 in /home/ec2-user/anaconda3/envs/pytorch_p36/lib/python3.6/site-packages (from boto3>=1.14.12->sagemaker==1.72.0) (1.23.25)\n",
            "Requirement already satisfied: typing-extensions>=3.6.4 in /home/ec2-user/anaconda3/envs/pytorch_p36/lib/python3.6/site-packages (from importlib-metadata>=1.4.0->sagemaker==1.72.0) (3.10.0.0)\n",
            "Requirement already satisfied: zipp>=0.5 in /home/ec2-user/anaconda3/envs/pytorch_p36/lib/python3.6/site-packages (from importlib-metadata>=1.4.0->sagemaker==1.72.0) (3.4.1)\n",
            "Requirement already satisfied: pyparsing!=3.0.5,>=2.0.2 in /home/ec2-user/anaconda3/envs/pytorch_p36/lib/python3.6/site-packages (from packaging>=20.0->sagemaker==1.72.0) (2.4.7)\n",
            "Requirement already satisfied: six>=1.9 in /home/ec2-user/anaconda3/envs/pytorch_p36/lib/python3.6/site-packages (from protobuf>=3.1->sagemaker==1.72.0) (1.16.0)\n",
            "Requirement already satisfied: urllib3<1.27,>=1.25.4 in /home/ec2-user/anaconda3/envs/pytorch_p36/lib/python3.6/site-packages (from botocore<1.24.0,>=1.23.25->boto3>=1.14.12->sagemaker==1.72.0) (1.26.5)\n",
            "Requirement already satisfied: python-dateutil<3.0.0,>=2.1 in /home/ec2-user/anaconda3/envs/pytorch_p36/lib/python3.6/site-packages (from botocore<1.24.0,>=1.23.25->boto3>=1.14.12->sagemaker==1.72.0) (2.8.1)\n"
          ]
        }
      ],
      "source": [
        "# Make sure that we use SageMaker 1.x\n",
        "!pip install sagemaker==1.72.0"
      ]
    },
    {
      "cell_type": "markdown",
      "metadata": {
        "id": "jNg9vgKsNNAW"
      },
      "source": [
        "## Step 1: Downloading the data\n",
        "\n",
        "As in the XGBoost in SageMaker notebook, we will be using the [IMDb dataset](http://ai.stanford.edu/~amaas/data/sentiment/)\n",
        "\n",
        "> Maas, Andrew L., et al. [Learning Word Vectors for Sentiment Analysis](http://ai.stanford.edu/~amaas/data/sentiment/). In _Proceedings of the 49th Annual Meeting of the Association for Computational Linguistics: Human Language Technologies_. Association for Computational Linguistics, 2011."
      ]
    },
    {
      "cell_type": "code",
      "execution_count": null,
      "metadata": {
        "id": "EFMHoWeBNNAY",
        "outputId": "d20acb55-7189-46b0-9b0e-ffc146895612"
      },
      "outputs": [
        {
          "name": "stdout",
          "output_type": "stream",
          "text": [
            "mkdir: cannot create directory ‘../data’: File exists\n",
            "--2022-01-06 17:25:35--  http://ai.stanford.edu/~amaas/data/sentiment/aclImdb_v1.tar.gz\n",
            "Resolving ai.stanford.edu (ai.stanford.edu)... 171.64.68.10\n",
            "Connecting to ai.stanford.edu (ai.stanford.edu)|171.64.68.10|:80... connected.\n",
            "HTTP request sent, awaiting response... 200 OK\n",
            "Length: 84125825 (80M) [application/x-gzip]\n",
            "Saving to: ‘../data/aclImdb_v1.tar.gz’\n",
            "\n",
            "../data/aclImdb_v1. 100%[===================>]  80.23M  21.4MB/s    in 5.9s    \n",
            "\n",
            "2022-01-06 17:25:41 (13.7 MB/s) - ‘../data/aclImdb_v1.tar.gz’ saved [84125825/84125825]\n",
            "\n"
          ]
        }
      ],
      "source": [
        "%mkdir ../data\n",
        "!wget -O ../data/aclImdb_v1.tar.gz http://ai.stanford.edu/~amaas/data/sentiment/aclImdb_v1.tar.gz\n",
        "!tar -zxf ../data/aclImdb_v1.tar.gz -C ../data"
      ]
    },
    {
      "cell_type": "markdown",
      "metadata": {
        "id": "FPksNTdxNNAZ"
      },
      "source": [
        "## Step 2: Preparing and Processing the data\n",
        "\n",
        "Also, as in the XGBoost notebook, we will be doing some initial data processing. The first few steps are the same as in the XGBoost example. To begin with, we will read in each of the reviews and combine them into a single input structure. Then, we will split the dataset into a training set and a testing set."
      ]
    },
    {
      "cell_type": "code",
      "execution_count": null,
      "metadata": {
        "id": "UkdU-sAzNNAb"
      },
      "outputs": [],
      "source": [
        "import os\n",
        "import glob\n",
        "\n",
        "def read_imdb_data(data_dir='../data/aclImdb'):\n",
        "    data = {}\n",
        "    labels = {}\n",
        "    \n",
        "    for data_type in ['train', 'test']:\n",
        "        data[data_type] = {}\n",
        "        labels[data_type] = {}\n",
        "        \n",
        "        for sentiment in ['pos', 'neg']:\n",
        "            data[data_type][sentiment] = []\n",
        "            labels[data_type][sentiment] = []\n",
        "            \n",
        "            path = os.path.join(data_dir, data_type, sentiment, '*.txt')\n",
        "            files = glob.glob(path)\n",
        "            \n",
        "            for f in files:\n",
        "                with open(f) as review:\n",
        "                    data[data_type][sentiment].append(review.read())\n",
        "                    # Here we represent a positive review by '1' and a negative review by '0'\n",
        "                    labels[data_type][sentiment].append(1 if sentiment == 'pos' else 0)\n",
        "                    \n",
        "            assert len(data[data_type][sentiment]) == len(labels[data_type][sentiment]), \\\n",
        "                    \"{}/{} data size does not match labels size\".format(data_type, sentiment)\n",
        "                \n",
        "    return data, labels"
      ]
    },
    {
      "cell_type": "code",
      "execution_count": null,
      "metadata": {
        "id": "sbV2XLhiNNAc",
        "outputId": "9f06dabb-7023-4553-ca77-8fabb228e295"
      },
      "outputs": [
        {
          "name": "stdout",
          "output_type": "stream",
          "text": [
            "IMDB reviews: train = 12500 pos / 12500 neg, test = 12500 pos / 12500 neg\n"
          ]
        }
      ],
      "source": [
        "data, labels = read_imdb_data()\n",
        "print(\"IMDB reviews: train = {} pos / {} neg, test = {} pos / {} neg\".format(\n",
        "            len(data['train']['pos']), len(data['train']['neg']),\n",
        "            len(data['test']['pos']), len(data['test']['neg'])))"
      ]
    },
    {
      "cell_type": "markdown",
      "metadata": {
        "id": "XFtdVzDHNNAe"
      },
      "source": [
        "Now that we've read the raw training and testing data from the downloaded dataset, we will combine the positive and negative reviews and shuffle the resulting records."
      ]
    },
    {
      "cell_type": "code",
      "execution_count": null,
      "metadata": {
        "id": "h4NuAIbaNNAf"
      },
      "outputs": [],
      "source": [
        "from sklearn.utils import shuffle\n",
        "\n",
        "def prepare_imdb_data(data, labels):\n",
        "    \"\"\"Prepare training and test sets from IMDb movie reviews.\"\"\"\n",
        "    \n",
        "    #Combine positive and negative reviews and labels\n",
        "    data_train = data['train']['pos'] + data['train']['neg']\n",
        "    data_test = data['test']['pos'] + data['test']['neg']\n",
        "    labels_train = labels['train']['pos'] + labels['train']['neg']\n",
        "    labels_test = labels['test']['pos'] + labels['test']['neg']\n",
        "    \n",
        "    #Shuffle reviews and corresponding labels within training and test sets\n",
        "    data_train, labels_train = shuffle(data_train, labels_train)\n",
        "    data_test, labels_test = shuffle(data_test, labels_test)\n",
        "    \n",
        "    # Return a unified training data, test data, training labels, test labets\n",
        "    return data_train, data_test, labels_train, labels_test"
      ]
    },
    {
      "cell_type": "code",
      "execution_count": null,
      "metadata": {
        "id": "kS4iX_cBNNAg",
        "outputId": "32386364-fd55-4c3f-ca53-27ef96056579"
      },
      "outputs": [
        {
          "name": "stdout",
          "output_type": "stream",
          "text": [
            "IMDb reviews (combined): train = 25000, test = 25000\n"
          ]
        }
      ],
      "source": [
        "train_X, test_X, train_y, test_y = prepare_imdb_data(data, labels)\n",
        "print(\"IMDb reviews (combined): train = {}, test = {}\".format(len(train_X), len(test_X)))"
      ]
    },
    {
      "cell_type": "markdown",
      "metadata": {
        "id": "eC46Wil1NNAh"
      },
      "source": [
        "Now that we have our training and testing sets unified and prepared, we should do a quick check and see an example of the data our model will be trained on. This is generally a good idea as it allows you to see how each of the further processing steps affects the reviews and it also ensures that the data has been loaded correctly."
      ]
    },
    {
      "cell_type": "code",
      "execution_count": null,
      "metadata": {
        "id": "v40LEhFENNAi",
        "outputId": "853de12d-2bfe-4c3f-fe75-236a8aed6514"
      },
      "outputs": [
        {
          "name": "stdout",
          "output_type": "stream",
          "text": [
            "If I could give this film a real rating, it would likely be in the minus numbers. While I respect the fact that somebody has to keep making these terrible \"horror\" films, seriously, people, buying a ticket for this film is a waste of money you could be spending on something far more worth your time.<br /><br />Despite it being a horror film, there is nothing scary about it, unless the idea of seeing how many horror cliché's you can fit in one movie scares you. If the rating had been higher, it probably would have made for a better film in the long run.<br /><br />Whoever made this version of \"Prom Night\", you screwed up. The actors could probably have done a decent job if it weren't for the questionable scripting. This was a terrible waste of a cinema trip. I'd sooner go and see \"One Missed Call\" again, at least that had some plot.\n",
            "0\n"
          ]
        }
      ],
      "source": [
        "print(train_X[100])\n",
        "print(train_y[100])"
      ]
    },
    {
      "cell_type": "markdown",
      "metadata": {
        "id": "8RY1UVEdNNAi"
      },
      "source": [
        "The first step in processing the reviews is to make sure that any html tags that appear should be removed. In addition we wish to tokenize our input, that way words such as *entertained* and *entertaining* are considered the same with regard to sentiment analysis."
      ]
    },
    {
      "cell_type": "code",
      "execution_count": null,
      "metadata": {
        "id": "KbLapX4CNNAj"
      },
      "outputs": [],
      "source": [
        "import nltk\n",
        "from nltk.corpus import stopwords\n",
        "from nltk.stem.porter import *\n",
        "\n",
        "import re\n",
        "from bs4 import BeautifulSoup\n",
        "\n",
        "def review_to_words(review):\n",
        "    nltk.download(\"stopwords\", quiet=True)\n",
        "    stemmer = PorterStemmer()\n",
        "    \n",
        "    text = BeautifulSoup(review, \"html.parser\").get_text() # Remove HTML tags\n",
        "    text = re.sub(r\"[^a-zA-Z0-9]\", \" \", text.lower()) # Convert to lower case\n",
        "    words = text.split() # Split string into words\n",
        "    words = [w for w in words if w not in stopwords.words(\"english\")] # Remove stopwords\n",
        "    words = [PorterStemmer().stem(w) for w in words] # stem\n",
        "    \n",
        "    return words"
      ]
    },
    {
      "cell_type": "markdown",
      "metadata": {
        "id": "vQ6rlsXfNNAk"
      },
      "source": [
        "The `review_to_words` method defined above uses `BeautifulSoup` to remove any html tags that appear and uses the `nltk` package to tokenize the reviews. As a check to ensure we know how everything is working, try applying `review_to_words` to one of the reviews in the training set."
      ]
    },
    {
      "cell_type": "code",
      "execution_count": null,
      "metadata": {
        "id": "vkNr6LpJNNAl",
        "outputId": "7b6e73f5-73f2-4421-9eac-af260015288a"
      },
      "outputs": [
        {
          "data": {
            "text/plain": [
              "['could',\n",
              " 'give',\n",
              " 'film',\n",
              " 'real',\n",
              " 'rate',\n",
              " 'would',\n",
              " 'like',\n",
              " 'minu',\n",
              " 'number',\n",
              " 'respect',\n",
              " 'fact',\n",
              " 'somebodi',\n",
              " 'keep',\n",
              " 'make',\n",
              " 'terribl',\n",
              " 'horror',\n",
              " 'film',\n",
              " 'serious',\n",
              " 'peopl',\n",
              " 'buy',\n",
              " 'ticket',\n",
              " 'film',\n",
              " 'wast',\n",
              " 'money',\n",
              " 'could',\n",
              " 'spend',\n",
              " 'someth',\n",
              " 'far',\n",
              " 'worth',\n",
              " 'time',\n",
              " 'despit',\n",
              " 'horror',\n",
              " 'film',\n",
              " 'noth',\n",
              " 'scari',\n",
              " 'unless',\n",
              " 'idea',\n",
              " 'see',\n",
              " 'mani',\n",
              " 'horror',\n",
              " 'clich',\n",
              " 'fit',\n",
              " 'one',\n",
              " 'movi',\n",
              " 'scare',\n",
              " 'rate',\n",
              " 'higher',\n",
              " 'probabl',\n",
              " 'would',\n",
              " 'made',\n",
              " 'better',\n",
              " 'film',\n",
              " 'long',\n",
              " 'run',\n",
              " 'whoever',\n",
              " 'made',\n",
              " 'version',\n",
              " 'prom',\n",
              " 'night',\n",
              " 'screw',\n",
              " 'actor',\n",
              " 'could',\n",
              " 'probabl',\n",
              " 'done',\n",
              " 'decent',\n",
              " 'job',\n",
              " 'question',\n",
              " 'script',\n",
              " 'terribl',\n",
              " 'wast',\n",
              " 'cinema',\n",
              " 'trip',\n",
              " 'sooner',\n",
              " 'go',\n",
              " 'see',\n",
              " 'one',\n",
              " 'miss',\n",
              " 'call',\n",
              " 'least',\n",
              " 'plot']"
            ]
          },
          "execution_count": 9,
          "metadata": {},
          "output_type": "execute_result"
        }
      ],
      "source": [
        "# TODO: Apply review_to_words to a review (train_X[100] or any other review)\n",
        "review_to_words(train_X[100])"
      ]
    },
    {
      "cell_type": "markdown",
      "metadata": {
        "id": "2bgki_PcNNAm"
      },
      "source": [
        "**Question:** Above we mentioned that `review_to_words` method removes html formatting and allows us to tokenize the words found in a review, for example, converting *entertained* and *entertaining* into *entertain* so that they are treated as though they are the same word. What else, if anything, does this method do to the input?"
      ]
    },
    {
      "cell_type": "markdown",
      "metadata": {
        "id": "8E8UK4IxNNAm"
      },
      "source": [
        "**Answer:** It also removes morphological endings on words. For example: \"goes\" becomes \"goe\", or believe becomes \"believ\"."
      ]
    },
    {
      "cell_type": "markdown",
      "metadata": {
        "id": "DuI6I_1TNNAn"
      },
      "source": [
        ""
      ]
    },
    {
      "cell_type": "code",
      "execution_count": null,
      "metadata": {
        "id": "rFgZlD0pNNAn"
      },
      "outputs": [],
      "source": [
        "import pickle\n",
        "\n",
        "cache_dir = os.path.join(\"../cache\", \"sentiment_analysis\")  # where to store cache files\n",
        "os.makedirs(cache_dir, exist_ok=True)  # ensure cache directory exists\n",
        "\n",
        "def preprocess_data(data_train, data_test, labels_train, labels_test,\n",
        "                    cache_dir=cache_dir, cache_file=\"preprocessed_data.pkl\"):\n",
        "    \"\"\"Convert each review to words; read from cache if available.\"\"\"\n",
        "\n",
        "    # If cache_file is not None, try to read from it first\n",
        "    cache_data = None\n",
        "    if cache_file is not None:\n",
        "        try:\n",
        "            with open(os.path.join(cache_dir, cache_file), \"rb\") as f:\n",
        "                cache_data = pickle.load(f)\n",
        "            print(\"Read preprocessed data from cache file:\", cache_file)\n",
        "        except:\n",
        "            pass  # unable to read from cache, but that's okay\n",
        "    \n",
        "    # If cache is missing, then do the heavy lifting\n",
        "    if cache_data is None:\n",
        "        # Preprocess training and test data to obtain words for each review\n",
        "        #words_train = list(map(review_to_words, data_train))\n",
        "        #words_test = list(map(review_to_words, data_test))\n",
        "        words_train = [review_to_words(review) for review in data_train]\n",
        "        words_test = [review_to_words(review) for review in data_test]\n",
        "        \n",
        "        # Write to cache file for future runs\n",
        "        if cache_file is not None:\n",
        "            cache_data = dict(words_train=words_train, words_test=words_test,\n",
        "                              labels_train=labels_train, labels_test=labels_test)\n",
        "            with open(os.path.join(cache_dir, cache_file), \"wb\") as f:\n",
        "                pickle.dump(cache_data, f)\n",
        "            print(\"Wrote preprocessed data to cache file:\", cache_file)\n",
        "    else:\n",
        "        # Unpack data loaded from cache file\n",
        "        words_train, words_test, labels_train, labels_test = (cache_data['words_train'],\n",
        "                cache_data['words_test'], cache_data['labels_train'], cache_data['labels_test'])\n",
        "    \n",
        "    return words_train, words_test, labels_train, labels_test"
      ]
    },
    {
      "cell_type": "code",
      "execution_count": null,
      "metadata": {
        "id": "_Z3WTs2vNNAp",
        "outputId": "a9ddc13f-b4eb-4c58-ae68-b0a160bfb4ea"
      },
      "outputs": [
        {
          "name": "stdout",
          "output_type": "stream",
          "text": [
            "Read preprocessed data from cache file: preprocessed_data.pkl\n"
          ]
        }
      ],
      "source": [
        "# Preprocess data\n",
        "train_X, test_X, train_y, test_y = preprocess_data(train_X, test_X, train_y, test_y)"
      ]
    },
    {
      "cell_type": "markdown",
      "metadata": {
        "id": "5q8Z_IHKNNAp"
      },
      "source": [
        "## Transform the data\n",
        "\n",
        "In the XGBoost notebook we transformed the data from its word representation to a bag-of-words feature representation. For the model we are going to construct in this notebook we will construct a feature representation which is very similar. To start, we will represent each word as an integer. Of course, some of the words that appear in the reviews occur very infrequently and so likely don't contain much information for the purposes of sentiment analysis. The way we will deal with this problem is that we will fix the size of our working vocabulary and we will only include the words that appear most frequently. We will then combine all of the infrequent words into a single category and, in our case, we will label it as `1`.\n",
        "\n",
        "Since we will be using a recurrent neural network, it will be convenient if the length of each review is the same. To do this, we will fix a size for our reviews and then pad short reviews with the category 'no word' (which we will label `0`) and truncate long reviews."
      ]
    },
    {
      "cell_type": "markdown",
      "metadata": {
        "id": "F-qtzBy6NNAq"
      },
      "source": [
        "### (TODO) Create a word dictionary\n",
        "\n",
        "To begin with, we need to construct a way to map words that appear in the reviews to integers. Here we fix the size of our vocabulary (including the 'no word' and 'infrequent' categories) to be `5000` but you may wish to change this to see how it affects the model.\n",
        "\n",
        "> **TODO:** Complete the implementation for the `build_dict()` method below. Note that even though the vocab_size is set to `5000`, we only want to construct a mapping for the most frequently appearing `4998` words. This is because we want to reserve the special labels `0` for 'no word' and `1` for 'infrequent word'."
      ]
    },
    {
      "cell_type": "code",
      "execution_count": null,
      "metadata": {
        "id": "mNSabRn_NNAq"
      },
      "outputs": [],
      "source": [
        "import numpy as np\n",
        "\n",
        "def build_dict(data, vocab_size = 5000):\n",
        "    \"\"\"Construct and return a dictionary mapping each of the most frequently appearing words to a unique integer.\"\"\"\n",
        "    \n",
        "    # TODO: Determine how often each word appears in `data`. Note that `data` is a list of sentences and that a\n",
        "    #       sentence is a list of words.\n",
        "    \n",
        "    word_count = {} # A dict storing the words that appear in the reviews along with how often they occur\n",
        "    for words in data:\n",
        "        for word in words:\n",
        "            if word in word_count:\n",
        "                word_count[word] +=1\n",
        "            else:\n",
        "                word_count[word]=1\n",
        "                    \n",
        "    \n",
        "    # TODO: Sort the words found in `data` so that sorted_words[0] is the most frequently appearing word and\n",
        "    #       sorted_words[-1] is the least frequently appearing word.\n",
        "    \n",
        "    sorted_words =[item[0] for item in sorted(word_count.items(), key=lambda x: x[1], reverse=True)]\n",
        "    \n",
        "    word_dict = {} # This is what we are building, a dictionary that translates words into integers\n",
        "    for idx, word in enumerate(sorted_words[:vocab_size - 2]): # The -2 is so that we save room for the 'no word'\n",
        "        word_dict[word] = idx + 2                              # 'infrequent' labels\n",
        "        \n",
        "    return word_dict"
      ]
    },
    {
      "cell_type": "code",
      "execution_count": null,
      "metadata": {
        "id": "nNZT7EvONNAr"
      },
      "outputs": [],
      "source": [
        "word_dict = build_dict(train_X)"
      ]
    },
    {
      "cell_type": "markdown",
      "metadata": {
        "id": "QrMrJ03mNNAr"
      },
      "source": [
        "**Question:** What are the five most frequently appearing (tokenized) words in the training set? Does it makes sense that these words appear frequently in the training set?"
      ]
    },
    {
      "cell_type": "markdown",
      "metadata": {
        "id": "Da2xnUe2NNAr"
      },
      "source": [
        "**Answer:**"
      ]
    },
    {
      "cell_type": "code",
      "execution_count": null,
      "metadata": {
        "id": "_KLLbzA6NNAr",
        "outputId": "4a4b6982-1a14-4b04-c996-f168b379deed"
      },
      "outputs": [
        {
          "data": {
            "text/plain": [
              "['movi', 'film', 'one', 'like', 'time']"
            ]
          },
          "execution_count": 14,
          "metadata": {},
          "output_type": "execute_result"
        }
      ],
      "source": [
        "# TODO: Use this space to determine the five most frequently appearing words in the training set.\n",
        "list(word_dict.keys())[0:5]"
      ]
    },
    {
      "cell_type": "markdown",
      "metadata": {
        "id": "z03jo9PqNNAs"
      },
      "source": [
        "### Save `word_dict`\n",
        "\n",
        "Later on when we construct an endpoint which processes a submitted review we will need to make use of the `word_dict` which we have created. As such, we will save it to a file now for future use."
      ]
    },
    {
      "cell_type": "code",
      "execution_count": null,
      "metadata": {
        "id": "h_2t3XLQNNAs"
      },
      "outputs": [],
      "source": [
        "data_dir = '../data/pytorch' # The folder we will use for storing data\n",
        "if not os.path.exists(data_dir): # Make sure that the folder exists\n",
        "    os.makedirs(data_dir)"
      ]
    },
    {
      "cell_type": "code",
      "execution_count": null,
      "metadata": {
        "id": "ktKmMSZDNNAs"
      },
      "outputs": [],
      "source": [
        "with open(os.path.join(data_dir, 'word_dict.pkl'), \"wb\") as f:\n",
        "    pickle.dump(word_dict, f)"
      ]
    },
    {
      "cell_type": "markdown",
      "metadata": {
        "id": "g9qt1up-NNAt"
      },
      "source": [
        "### Transform the reviews\n",
        "\n",
        "Now that we have our word dictionary which allows us to transform the words appearing in the reviews into integers, it is time to make use of it and convert our reviews to their integer sequence representation, making sure to pad or truncate to a fixed length, which in our case is `500`."
      ]
    },
    {
      "cell_type": "code",
      "execution_count": null,
      "metadata": {
        "id": "FL6NMHE2NNAt"
      },
      "outputs": [],
      "source": [
        "def convert_and_pad(word_dict, sentence, pad=500):\n",
        "    NOWORD = 0 # We will use 0 to represent the 'no word' category\n",
        "    INFREQ = 1 # and we use 1 to represent the infrequent words, i.e., words not appearing in word_dict\n",
        "    \n",
        "    working_sentence = [NOWORD] * pad\n",
        "    \n",
        "    for word_index, word in enumerate(sentence[:pad]):\n",
        "        if word in word_dict:\n",
        "            working_sentence[word_index] = word_dict[word]\n",
        "        else:\n",
        "            working_sentence[word_index] = INFREQ\n",
        "            \n",
        "    return working_sentence, min(len(sentence), pad)\n",
        "\n",
        "def convert_and_pad_data(word_dict, data, pad=500):\n",
        "    result = []\n",
        "    lengths = []\n",
        "    \n",
        "    for sentence in data:\n",
        "        converted, leng = convert_and_pad(word_dict, sentence, pad)\n",
        "        result.append(converted)\n",
        "        lengths.append(leng)\n",
        "        \n",
        "    return np.array(result), np.array(lengths)"
      ]
    },
    {
      "cell_type": "code",
      "execution_count": null,
      "metadata": {
        "id": "8fwQcDgkNNAt"
      },
      "outputs": [],
      "source": [
        "train_X, train_X_len = convert_and_pad_data(word_dict, train_X)\n",
        "test_X, test_X_len = convert_and_pad_data(word_dict, test_X)"
      ]
    },
    {
      "cell_type": "markdown",
      "metadata": {
        "id": "YvRCkuq7NNAt"
      },
      "source": [
        "As a quick check to make sure that things are working as intended, check to see what one of the reviews in the training set looks like after having been processeed. Does this look reasonable? What is the length of a review in the training set?"
      ]
    },
    {
      "cell_type": "code",
      "execution_count": null,
      "metadata": {
        "id": "1Eib1JogNNAu",
        "outputId": "c07a1fd2-287d-4293-9714-267a2d56ae87"
      },
      "outputs": [
        {
          "data": {
            "text/plain": [
              "array([  13,  117, 4253,  398,    6, 1609,   50, 2573,  273,  335,   33,\n",
              "          2,  481,  260,   13, 3763, 1499, 4733,  891,  595,   22,   59,\n",
              "        222,    1,    9, 1181,    1, 1587, 3050,   36,  459,  338,  483,\n",
              "        186,   13,  304,    1,  527,   14, 1884, 2353,    1,  543, 3916,\n",
              "        139,   34,  155,    1,  590, 3968,   32,  137,    1,  623,    3,\n",
              "        302, 1491,  119,    8,   43,  306, 1049,  139, 3875,    0,    0,\n",
              "          0,    0,    0,    0,    0,    0,    0,    0,    0,    0,    0,\n",
              "          0,    0,    0,    0,    0,    0,    0,    0,    0,    0,    0,\n",
              "          0,    0,    0,    0,    0,    0,    0,    0,    0,    0,    0,\n",
              "          0,    0,    0,    0,    0,    0,    0,    0,    0,    0,    0,\n",
              "          0,    0,    0,    0,    0,    0,    0,    0,    0,    0,    0,\n",
              "          0,    0,    0,    0,    0,    0,    0,    0,    0,    0,    0,\n",
              "          0,    0,    0,    0,    0,    0,    0,    0,    0,    0,    0,\n",
              "          0,    0,    0,    0,    0,    0,    0,    0,    0,    0,    0,\n",
              "          0,    0,    0,    0,    0,    0,    0,    0,    0,    0,    0,\n",
              "          0,    0,    0,    0,    0,    0,    0,    0,    0,    0,    0,\n",
              "          0,    0,    0,    0,    0,    0,    0,    0,    0,    0,    0,\n",
              "          0,    0,    0,    0,    0,    0,    0,    0,    0,    0,    0,\n",
              "          0,    0,    0,    0,    0,    0,    0,    0,    0,    0,    0,\n",
              "          0,    0,    0,    0,    0,    0,    0,    0,    0,    0,    0,\n",
              "          0,    0,    0,    0,    0,    0,    0,    0,    0,    0,    0,\n",
              "          0,    0,    0,    0,    0,    0,    0,    0,    0,    0,    0,\n",
              "          0,    0,    0,    0,    0,    0,    0,    0,    0,    0,    0,\n",
              "          0,    0,    0,    0,    0,    0,    0,    0,    0,    0,    0,\n",
              "          0,    0,    0,    0,    0,    0,    0,    0,    0,    0,    0,\n",
              "          0,    0,    0,    0,    0,    0,    0,    0,    0,    0,    0,\n",
              "          0,    0,    0,    0,    0,    0,    0,    0,    0,    0,    0,\n",
              "          0,    0,    0,    0,    0,    0,    0,    0,    0,    0,    0,\n",
              "          0,    0,    0,    0,    0,    0,    0,    0,    0,    0,    0,\n",
              "          0,    0,    0,    0,    0,    0,    0,    0,    0,    0,    0,\n",
              "          0,    0,    0,    0,    0,    0,    0,    0,    0,    0,    0,\n",
              "          0,    0,    0,    0,    0,    0,    0,    0,    0,    0,    0,\n",
              "          0,    0,    0,    0,    0,    0,    0,    0,    0,    0,    0,\n",
              "          0,    0,    0,    0,    0,    0,    0,    0,    0,    0,    0,\n",
              "          0,    0,    0,    0,    0,    0,    0,    0,    0,    0,    0,\n",
              "          0,    0,    0,    0,    0,    0,    0,    0,    0,    0,    0,\n",
              "          0,    0,    0,    0,    0,    0,    0,    0,    0,    0,    0,\n",
              "          0,    0,    0,    0,    0,    0,    0,    0,    0,    0,    0,\n",
              "          0,    0,    0,    0,    0,    0,    0,    0,    0,    0,    0,\n",
              "          0,    0,    0,    0,    0,    0,    0,    0,    0,    0,    0,\n",
              "          0,    0,    0,    0,    0,    0,    0,    0,    0,    0,    0,\n",
              "          0,    0,    0,    0,    0,    0,    0,    0,    0,    0,    0,\n",
              "          0,    0,    0,    0,    0,    0,    0,    0,    0,    0,    0,\n",
              "          0,    0,    0,    0,    0,    0,    0,    0,    0,    0,    0,\n",
              "          0,    0,    0,    0,    0,    0,    0,    0,    0,    0,    0,\n",
              "          0,    0,    0,    0,    0])"
            ]
          },
          "execution_count": 19,
          "metadata": {},
          "output_type": "execute_result"
        }
      ],
      "source": [
        "# Use this cell to examine one of the processed reviews to make sure everything is working as intended.\n",
        "train_X[100]"
      ]
    },
    {
      "cell_type": "markdown",
      "metadata": {
        "id": "H69g5YExNNAv"
      },
      "source": [
        "**Question:** In the cells above we use the `preprocess_data` and `convert_and_pad_data` methods to process both the training and testing set. Why or why not might this be a problem?"
      ]
    },
    {
      "cell_type": "markdown",
      "metadata": {
        "id": "h_CZj5jlNNAv"
      },
      "source": [
        "**Answer:**Just like training data, test data should be preprocessed. After training the model with the preprocessed train data, it would be pointless to test how much the model has learned using the unpreprocessed test data. The model would likely yield high errors with unpreprocessed test data, and we could have mistaken the model for overfitting, which would be a misdiagnosis."
      ]
    },
    {
      "cell_type": "markdown",
      "metadata": {
        "id": "DlsFhdz4NNAv"
      },
      "source": [
        "## Step 3: Upload the data to S3\n",
        "\n",
        "As in the XGBoost notebook, we will need to upload the training dataset to S3 in order for our training code to access it. For now we will save it locally and we will upload to S3 later on.\n",
        "\n",
        "### Save the processed training dataset locally\n",
        "\n",
        "It is important to note the format of the data that we are saving as we will need to know it when we write the training code. In our case, each row of the dataset has the form `label`, `length`, `review[500]` where `review[500]` is a sequence of `500` integers representing the words in the review."
      ]
    },
    {
      "cell_type": "code",
      "execution_count": null,
      "metadata": {
        "id": "-yKUUyhnNNAv"
      },
      "outputs": [],
      "source": [
        "import pandas as pd\n",
        "    \n",
        "pd.concat([pd.DataFrame(train_y), pd.DataFrame(train_X_len), pd.DataFrame(train_X)], axis=1) \\\n",
        "        .to_csv(os.path.join(data_dir, 'train.csv'), header=False, index=False)"
      ]
    },
    {
      "cell_type": "markdown",
      "metadata": {
        "id": "dQP1FQ5vNNAw"
      },
      "source": [
        "### Uploading the training data\n",
        "\n",
        "\n",
        "Next, we need to upload the training data to the SageMaker default S3 bucket so that we can provide access to it while training our model."
      ]
    },
    {
      "cell_type": "code",
      "execution_count": null,
      "metadata": {
        "id": "z8T88DwyNNAw"
      },
      "outputs": [],
      "source": [
        "import sagemaker\n",
        "\n",
        "sagemaker_session = sagemaker.Session()\n",
        "\n",
        "bucket = sagemaker_session.default_bucket()\n",
        "prefix = 'sagemaker/sentiment_rnn'\n",
        "\n",
        "role = sagemaker.get_execution_role()"
      ]
    },
    {
      "cell_type": "code",
      "execution_count": null,
      "metadata": {
        "id": "wu7VMh2DNNAw"
      },
      "outputs": [],
      "source": [
        "input_data = sagemaker_session.upload_data(path=data_dir, bucket=bucket, key_prefix=prefix)"
      ]
    },
    {
      "cell_type": "markdown",
      "metadata": {
        "id": "BUWYF3VMNNAx"
      },
      "source": [
        "**NOTE:** The cell above uploads the entire contents of our data directory. This includes the `word_dict.pkl` file. This is fortunate as we will need this later on when we create an endpoint that accepts an arbitrary review. For now, we will just take note of the fact that it resides in the data directory (and so also in the S3 training bucket) and that we will need to make sure it gets saved in the model directory."
      ]
    },
    {
      "cell_type": "markdown",
      "metadata": {
        "id": "26oz_WBPNNAx"
      },
      "source": [
        "## Step 4: Build and Train the PyTorch Model\n",
        "\n",
        "In the XGBoost notebook we discussed what a model is in the SageMaker framework. In particular, a model comprises three objects\n",
        "\n",
        " - Model Artifacts,\n",
        " - Training Code, and\n",
        " - Inference Code,\n",
        " \n",
        "each of which interact with one another. In the XGBoost example we used training and inference code that was provided by Amazon. Here we will still be using containers provided by Amazon with the added benefit of being able to include our own custom code.\n",
        "\n",
        "We will start by implementing our own neural network in PyTorch along with a training script. For the purposes of this project we have provided the necessary model object in the `model.py` file, inside of the `train` folder. You can see the provided implementation by running the cell below."
      ]
    },
    {
      "cell_type": "code",
      "execution_count": null,
      "metadata": {
        "id": "djk1zxM6NNAx",
        "outputId": "524759e0-dead-4551-85f8-23a48f9496cd"
      },
      "outputs": [
        {
          "name": "stdout",
          "output_type": "stream",
          "text": [
            "\u001b[34mimport\u001b[39;49;00m \u001b[04m\u001b[36mtorch\u001b[39;49;00m\u001b[04m\u001b[36m.\u001b[39;49;00m\u001b[04m\u001b[36mnn\u001b[39;49;00m \u001b[34mas\u001b[39;49;00m \u001b[04m\u001b[36mnn\u001b[39;49;00m\r\n",
            "\r\n",
            "\u001b[34mclass\u001b[39;49;00m \u001b[04m\u001b[32mLSTMClassifier\u001b[39;49;00m(nn.Module):\r\n",
            "    \u001b[33m\"\"\"\u001b[39;49;00m\r\n",
            "\u001b[33m    This is the simple RNN model we will be using to perform Sentiment Analysis.\u001b[39;49;00m\r\n",
            "\u001b[33m    \"\"\"\u001b[39;49;00m\r\n",
            "\r\n",
            "    \u001b[34mdef\u001b[39;49;00m \u001b[32m__init__\u001b[39;49;00m(\u001b[36mself\u001b[39;49;00m, embedding_dim, hidden_dim, vocab_size):\r\n",
            "        \u001b[33m\"\"\"\u001b[39;49;00m\r\n",
            "\u001b[33m        Initialize the model by settingg up the various layers.\u001b[39;49;00m\r\n",
            "\u001b[33m        \"\"\"\u001b[39;49;00m\r\n",
            "        \u001b[36msuper\u001b[39;49;00m(LSTMClassifier, \u001b[36mself\u001b[39;49;00m).\u001b[32m__init__\u001b[39;49;00m()\r\n",
            "\r\n",
            "        \u001b[36mself\u001b[39;49;00m.embedding = nn.Embedding(vocab_size, embedding_dim, padding_idx=\u001b[34m0\u001b[39;49;00m)\r\n",
            "        \u001b[36mself\u001b[39;49;00m.lstm = nn.LSTM(embedding_dim, hidden_dim)\r\n",
            "        \u001b[36mself\u001b[39;49;00m.dense = nn.Linear(in_features=hidden_dim, out_features=\u001b[34m1\u001b[39;49;00m)\r\n",
            "        \u001b[36mself\u001b[39;49;00m.sig = nn.Sigmoid()\r\n",
            "        \r\n",
            "        \u001b[36mself\u001b[39;49;00m.word_dict = \u001b[34mNone\u001b[39;49;00m\r\n",
            "\r\n",
            "    \u001b[34mdef\u001b[39;49;00m \u001b[32mforward\u001b[39;49;00m(\u001b[36mself\u001b[39;49;00m, x):\r\n",
            "        \u001b[33m\"\"\"\u001b[39;49;00m\r\n",
            "\u001b[33m        Perform a forward pass of our model on some input.\u001b[39;49;00m\r\n",
            "\u001b[33m        \"\"\"\u001b[39;49;00m\r\n",
            "        x = x.t()\r\n",
            "        lengths = x[\u001b[34m0\u001b[39;49;00m,:]\r\n",
            "        reviews = x[\u001b[34m1\u001b[39;49;00m:,:]\r\n",
            "        embeds = \u001b[36mself\u001b[39;49;00m.embedding(reviews)\r\n",
            "        lstm_out, _ = \u001b[36mself\u001b[39;49;00m.lstm(embeds)\r\n",
            "        out = \u001b[36mself\u001b[39;49;00m.dense(lstm_out)\r\n",
            "        out = out[lengths - \u001b[34m1\u001b[39;49;00m, \u001b[36mrange\u001b[39;49;00m(\u001b[36mlen\u001b[39;49;00m(lengths))]\r\n",
            "        \u001b[34mreturn\u001b[39;49;00m \u001b[36mself\u001b[39;49;00m.sig(out.squeeze())\r\n"
          ]
        }
      ],
      "source": [
        "!pygmentize train/model.py"
      ]
    },
    {
      "cell_type": "markdown",
      "metadata": {
        "id": "uPZcNJXsNNAx"
      },
      "source": [
        "The important takeaway from the implementation provided is that there are three parameters that we may wish to tweak to improve the performance of our model. These are the embedding dimension, the hidden dimension and the size of the vocabulary. We will likely want to make these parameters configurable in the training script so that if we wish to modify them we do not need to modify the script itself. We will see how to do this later on. To start we will write some of the training code in the notebook so that we can more easily diagnose any issues that arise.\n",
        "\n",
        "First we will load a small portion of the training data set to use as a sample. It would be very time consuming to try and train the model completely in the notebook as we do not have access to a gpu and the compute instance that we are using is not particularly powerful. However, we can work on a small bit of the data to get a feel for how our training script is behaving."
      ]
    },
    {
      "cell_type": "code",
      "execution_count": null,
      "metadata": {
        "id": "soouXmYoNNAx"
      },
      "outputs": [],
      "source": [
        "import torch\n",
        "import torch.utils.data\n",
        "\n",
        "# Read in only the first 250 rows\n",
        "train_sample = pd.read_csv(os.path.join(data_dir, 'train.csv'), header=None, names=None, nrows=250)\n",
        "\n",
        "# Turn the input pandas dataframe into tensors\n",
        "train_sample_y = torch.from_numpy(train_sample[[0]].values).float().squeeze()\n",
        "train_sample_X = torch.from_numpy(train_sample.drop([0], axis=1).values).long()\n",
        "\n",
        "# Build the dataset\n",
        "train_sample_ds = torch.utils.data.TensorDataset(train_sample_X, train_sample_y)\n",
        "# Build the dataloader\n",
        "train_sample_dl = torch.utils.data.DataLoader(train_sample_ds, batch_size=50)"
      ]
    },
    {
      "cell_type": "markdown",
      "metadata": {
        "id": "wsqil-XaNNAy"
      },
      "source": [
        "### (TODO) Writing the training method\n",
        "\n",
        "Next we need to write the training code itself. This should be very similar to training methods that you have written before to train PyTorch models. We will leave any difficult aspects such as model saving / loading and parameter loading until a little later."
      ]
    },
    {
      "cell_type": "code",
      "execution_count": null,
      "metadata": {
        "id": "T3eyxcuzNNAy"
      },
      "outputs": [],
      "source": [
        "def train(model, train_loader, epochs, optimizer, loss_fn, device):\n",
        "    for epoch in range(1, epochs + 1):\n",
        "        model.train()\n",
        "        total_loss = 0\n",
        "        for batch in train_loader:         \n",
        "            batch_X, batch_y = batch\n",
        "            \n",
        "            batch_X = batch_X.to(device)\n",
        "            batch_y = batch_y.to(device)\n",
        "            \n",
        "            # TODO: Complete this train method to train the model provided.\n",
        "            optimizer.zero_grad()\n",
        "            output = model.forward(batch_X)\n",
        "            loss = loss_fn(output, batch_y)\n",
        "            loss.backward()\n",
        "            optimizer.step()\n",
        "            \n",
        "            \n",
        "            \n",
        "            total_loss += loss.data.item()\n",
        "        print(\"Epoch: {}, BCELoss: {}\".format(epoch, total_loss / len(train_loader)))"
      ]
    },
    {
      "cell_type": "markdown",
      "metadata": {
        "id": "wVQeh1QTNNAy"
      },
      "source": [
        "Supposing we have the training method above, we will test that it is working by writing a bit of code in the notebook that executes our training method on the small sample training set that we loaded earlier. The reason for doing this in the notebook is so that we have an opportunity to fix any errors that arise early when they are easier to diagnose."
      ]
    },
    {
      "cell_type": "code",
      "execution_count": null,
      "metadata": {
        "id": "LJU29hYSNNAz",
        "outputId": "463a4158-5ed5-4f7d-e62a-b2d0a95eca91"
      },
      "outputs": [
        {
          "name": "stdout",
          "output_type": "stream",
          "text": [
            "Epoch: 1, BCELoss: 0.6934872031211853\n",
            "Epoch: 2, BCELoss: 0.6850125908851623\n",
            "Epoch: 3, BCELoss: 0.6781104922294616\n",
            "Epoch: 4, BCELoss: 0.6708046317100524\n",
            "Epoch: 5, BCELoss: 0.6624215960502624\n"
          ]
        }
      ],
      "source": [
        "import torch.optim as optim\n",
        "from train.model import LSTMClassifier\n",
        "\n",
        "device = torch.device(\"cuda\" if torch.cuda.is_available() else \"cpu\")\n",
        "model = LSTMClassifier(32, 100, 5000).to(device)\n",
        "optimizer = optim.Adam(model.parameters())\n",
        "loss_fn = torch.nn.BCELoss()\n",
        "\n",
        "train(model, train_sample_dl, 5, optimizer, loss_fn, device)"
      ]
    },
    {
      "cell_type": "markdown",
      "metadata": {
        "id": "a2OrxEP_NNAz"
      },
      "source": [
        "In order to construct a PyTorch model using SageMaker we must provide SageMaker with a training script. We may optionally include a directory which will be copied to the container and from which our training code will be run. When the training container is executed it will check the uploaded directory (if there is one) for a `requirements.txt` file and install any required Python libraries, after which the training script will be run."
      ]
    },
    {
      "cell_type": "markdown",
      "metadata": {
        "id": "97OHnezKNNAz"
      },
      "source": [
        "### (TODO) Training the model\n",
        "\n",
        "When a PyTorch model is constructed in SageMaker, an entry point must be specified. This is the Python file which will be executed when the model is trained. Inside of the `train` directory is a file called `train.py` which has been provided and which contains most of the necessary code to train our model. The only thing that is missing is the implementation of the `train()` method which you wrote earlier in this notebook.\n",
        "\n",
        "**TODO**: Copy the `train()` method written above and paste it into the `train/train.py` file where required.\n",
        "\n",
        "The way that SageMaker passes hyperparameters to the training script is by way of arguments. These arguments can then be parsed and used in the training script. To see how this is done take a look at the provided `train/train.py` file."
      ]
    },
    {
      "cell_type": "code",
      "execution_count": null,
      "metadata": {
        "id": "qmFBc86LNNAz"
      },
      "outputs": [],
      "source": [
        "from sagemaker.pytorch import PyTorch\n",
        "\n",
        "estimator = PyTorch(entry_point=\"train.py\",\n",
        "                    source_dir=\"train\",\n",
        "                    role=role,\n",
        "                    framework_version='0.4.0',\n",
        "                    train_instance_count=1,\n",
        "                    #py_version=\"py3\", #adding py version resolves the problem here \n",
        "                    #https://github.com/aws-samples/amazon-sagemaker-bert-pytorch/issues/7\n",
        "                    train_instance_type='ml.p2.xlarge',\n",
        "                    hyperparameters={\n",
        "                        'epochs': 10,\n",
        "                        'hidden_dim': 200,\n",
        "                    })"
      ]
    },
    {
      "cell_type": "code",
      "execution_count": null,
      "metadata": {
        "id": "PlFhdzsGNNAz",
        "outputId": "f7c8105d-f714-4259-80f4-d4b273fe8e75"
      },
      "outputs": [
        {
          "name": "stderr",
          "output_type": "stream",
          "text": [
            "'create_image_uri' will be deprecated in favor of 'ImageURIProvider' class in SageMaker Python SDK v2.\n",
            "'s3_input' class will be renamed to 'TrainingInput' in SageMaker Python SDK v2.\n",
            "'create_image_uri' will be deprecated in favor of 'ImageURIProvider' class in SageMaker Python SDK v2.\n"
          ]
        },
        {
          "name": "stdout",
          "output_type": "stream",
          "text": [
            "2022-01-06 17:28:20 Starting - Starting the training job...\n",
            "2022-01-06 17:28:24 Starting - Launching requested ML instances.........\n",
            "2022-01-06 17:29:52 Starting - Preparing the instances for training.........\n",
            "2022-01-06 17:31:22 Downloading - Downloading input data...\n",
            "2022-01-06 17:32:06 Training - Downloading the training image..\u001b[34mbash: cannot set terminal process group (-1): Inappropriate ioctl for device\u001b[0m\n",
            "\u001b[34mbash: no job control in this shell\u001b[0m\n",
            "\u001b[34m2022-01-06 17:32:31,789 sagemaker-containers INFO     Imported framework sagemaker_pytorch_container.training\u001b[0m\n",
            "\u001b[34m2022-01-06 17:32:31,815 sagemaker_pytorch_container.training INFO     Block until all host DNS lookups succeed.\u001b[0m\n",
            "\u001b[34m2022-01-06 17:32:31,820 sagemaker_pytorch_container.training INFO     Invoking user training script.\u001b[0m\n",
            "\n",
            "2022-01-06 17:32:30 Training - Training image download completed. Training in progress.\u001b[34m2022-01-06 17:32:39,399 sagemaker-containers INFO     Module train does not provide a setup.py. \u001b[0m\n",
            "\u001b[34mGenerating setup.py\u001b[0m\n",
            "\u001b[34m2022-01-06 17:32:39,399 sagemaker-containers INFO     Generating setup.cfg\u001b[0m\n",
            "\u001b[34m2022-01-06 17:32:39,399 sagemaker-containers INFO     Generating MANIFEST.in\u001b[0m\n",
            "\u001b[34m2022-01-06 17:32:39,399 sagemaker-containers INFO     Installing module with the following command:\u001b[0m\n",
            "\u001b[34m/usr/bin/python -m pip install -U . -r requirements.txt\u001b[0m\n",
            "\u001b[34mProcessing /opt/ml/code\u001b[0m\n",
            "\u001b[34mCollecting pandas (from -r requirements.txt (line 1))\n",
            "  Downloading https://files.pythonhosted.org/packages/74/24/0cdbf8907e1e3bc5a8da03345c23cbed7044330bb8f73bb12e711a640a00/pandas-0.24.2-cp35-cp35m-manylinux1_x86_64.whl (10.0MB)\u001b[0m\n",
            "\u001b[34mCollecting numpy (from -r requirements.txt (line 2))\u001b[0m\n",
            "\u001b[34m  Downloading https://files.pythonhosted.org/packages/b5/36/88723426b4ff576809fec7d73594fe17a35c27f8d01f93637637a29ae25b/numpy-1.18.5-cp35-cp35m-manylinux1_x86_64.whl (19.9MB)\u001b[0m\n",
            "\u001b[34mCollecting nltk (from -r requirements.txt (line 3))\n",
            "  Downloading https://files.pythonhosted.org/packages/5e/37/9532ddd4b1bbb619333d5708aaad9bf1742f051a664c3c6fa6632a105fd8/nltk-3.6.2-py3-none-any.whl (1.5MB)\u001b[0m\n",
            "\u001b[34mCollecting beautifulsoup4 (from -r requirements.txt (line 4))\n",
            "  Downloading https://files.pythonhosted.org/packages/69/bf/f0f194d3379d3f3347478bd267f754fc68c11cbf2fe302a6ab69447b1417/beautifulsoup4-4.10.0-py3-none-any.whl (97kB)\u001b[0m\n",
            "\u001b[34mCollecting html5lib (from -r requirements.txt (line 5))\n",
            "  Downloading https://files.pythonhosted.org/packages/6c/dd/a834df6482147d48e225a49515aabc28974ad5a4ca3215c18a882565b028/html5lib-1.1-py2.py3-none-any.whl (112kB)\u001b[0m\n",
            "\u001b[34mRequirement already satisfied, skipping upgrade: python-dateutil>=2.5.0 in /usr/local/lib/python3.5/dist-packages (from pandas->-r requirements.txt (line 1)) (2.7.5)\u001b[0m\n",
            "\u001b[34mCollecting pytz>=2011k (from pandas->-r requirements.txt (line 1))\n",
            "  Downloading https://files.pythonhosted.org/packages/d3/e3/d9f046b5d1c94a3aeab15f1f867aa414f8ee9d196fae6865f1d6a0ee1a0b/pytz-2021.3-py2.py3-none-any.whl (503kB)\u001b[0m\n",
            "\u001b[34mCollecting regex (from nltk->-r requirements.txt (line 3))\n",
            "  Downloading https://files.pythonhosted.org/packages/97/cd/93ad08b2f97ec95da0bd860380ce0ac7481eaccc760356ee11eda369c048/regex-2021.11.10.tar.gz (702kB)\u001b[0m\n",
            "\u001b[34mRequirement already satisfied, skipping upgrade: click in /usr/local/lib/python3.5/dist-packages (from nltk->-r requirements.txt (line 3)) (7.0)\u001b[0m\n",
            "\u001b[34mCollecting joblib (from nltk->-r requirements.txt (line 3))\n",
            "  Downloading https://files.pythonhosted.org/packages/28/5c/cf6a2b65a321c4a209efcdf64c2689efae2cb62661f8f6f4bb28547cf1bf/joblib-0.14.1-py2.py3-none-any.whl (294kB)\u001b[0m\n",
            "\u001b[34mCollecting tqdm (from nltk->-r requirements.txt (line 3))\n",
            "  Downloading https://files.pythonhosted.org/packages/63/f3/b7a1b8e40fd1bd049a34566eb353527bb9b8e9b98f8b6cf803bb64d8ce95/tqdm-4.62.3-py2.py3-none-any.whl (76kB)\u001b[0m\n",
            "\u001b[34mCollecting soupsieve>1.2 (from beautifulsoup4->-r requirements.txt (line 4))\n",
            "  Downloading https://files.pythonhosted.org/packages/02/fb/1c65691a9aeb7bd6ac2aa505b84cb8b49ac29c976411c6ab3659425e045f/soupsieve-2.1-py3-none-any.whl\u001b[0m\n",
            "\u001b[34mRequirement already satisfied, skipping upgrade: six>=1.9 in /usr/local/lib/python3.5/dist-packages (from html5lib->-r requirements.txt (line 5)) (1.11.0)\u001b[0m\n",
            "\u001b[34mCollecting webencodings (from html5lib->-r requirements.txt (line 5))\n",
            "  Downloading https://files.pythonhosted.org/packages/f4/24/2a3e3df732393fed8b3ebf2ec078f05546de641fe1b667ee316ec1dcf3b7/webencodings-0.5.1-py2.py3-none-any.whl\u001b[0m\n",
            "\u001b[34mBuilding wheels for collected packages: train, regex\n",
            "  Running setup.py bdist_wheel for train: started\n",
            "  Running setup.py bdist_wheel for train: finished with status 'done'\n",
            "  Stored in directory: /tmp/pip-ephem-wheel-cache-lvyhl2by/wheels/35/24/16/37574d11bf9bde50616c67372a334f94fa8356bc7164af8ca3\n",
            "  Running setup.py bdist_wheel for regex: started\u001b[0m\n",
            "\u001b[34m  Running setup.py bdist_wheel for regex: finished with status 'done'\n",
            "  Stored in directory: /root/.cache/pip/wheels/cd/5d/f5/8d8fa6ffd0251556598eb71da0c5c0374bca976273ade005ed\u001b[0m\n",
            "\u001b[34mSuccessfully built train regex\u001b[0m\n",
            "\u001b[34mInstalling collected packages: pytz, numpy, pandas, regex, joblib, tqdm, nltk, soupsieve, beautifulsoup4, webencodings, html5lib, train\n",
            "  Found existing installation: numpy 1.15.4\n",
            "    Uninstalling numpy-1.15.4:\u001b[0m\n",
            "\u001b[34m      Successfully uninstalled numpy-1.15.4\u001b[0m\n",
            "\u001b[34mSuccessfully installed beautifulsoup4-4.10.0 html5lib-1.1 joblib-0.14.1 nltk-3.6.2 numpy-1.18.5 pandas-0.24.2 pytz-2021.3 regex-2021.11.10 soupsieve-2.1 tqdm-4.62.3 train-1.0.0 webencodings-0.5.1\u001b[0m\n",
            "\u001b[34mYou are using pip version 18.1, however version 20.3.4 is available.\u001b[0m\n",
            "\u001b[34mYou should consider upgrading via the 'pip install --upgrade pip' command.\u001b[0m\n",
            "\u001b[34m2022-01-06 17:33:02,587 sagemaker-containers INFO     Invoking user script\u001b[0m\n",
            "\u001b[34mTraining Env:\u001b[0m\n",
            "\u001b[34m{\n",
            "    \"job_name\": \"sagemaker-pytorch-2022-01-06-17-28-20-170\",\n",
            "    \"output_dir\": \"/opt/ml/output\",\n",
            "    \"num_cpus\": 4,\n",
            "    \"output_intermediate_dir\": \"/opt/ml/output/intermediate\",\n",
            "    \"user_entry_point\": \"train.py\",\n",
            "    \"log_level\": 20,\n",
            "    \"module_name\": \"train\",\n",
            "    \"additional_framework_parameters\": {},\n",
            "    \"hyperparameters\": {\n",
            "        \"epochs\": 10,\n",
            "        \"hidden_dim\": 200\n",
            "    },\n",
            "    \"input_config_dir\": \"/opt/ml/input/config\",\n",
            "    \"channel_input_dirs\": {\n",
            "        \"training\": \"/opt/ml/input/data/training\"\n",
            "    },\n",
            "    \"hosts\": [\n",
            "        \"algo-1\"\n",
            "    ],\n",
            "    \"input_dir\": \"/opt/ml/input\",\n",
            "    \"current_host\": \"algo-1\",\n",
            "    \"module_dir\": \"s3://sagemaker-us-east-1-693306866846/sagemaker-pytorch-2022-01-06-17-28-20-170/source/sourcedir.tar.gz\",\n",
            "    \"resource_config\": {\n",
            "        \"current_host\": \"algo-1\",\n",
            "        \"hosts\": [\n",
            "            \"algo-1\"\n",
            "        ],\n",
            "        \"network_interface_name\": \"eth0\"\n",
            "    },\n",
            "    \"output_data_dir\": \"/opt/ml/output/data\",\n",
            "    \"model_dir\": \"/opt/ml/model\",\n",
            "    \"input_data_config\": {\n",
            "        \"training\": {\n",
            "            \"TrainingInputMode\": \"File\",\n",
            "            \"S3DistributionType\": \"FullyReplicated\",\n",
            "            \"RecordWrapperType\": \"None\"\n",
            "        }\n",
            "    },\n",
            "    \"network_interface_name\": \"eth0\",\n",
            "    \"num_gpus\": 1,\n",
            "    \"framework_module\": \"sagemaker_pytorch_container.training:main\"\u001b[0m\n",
            "\u001b[34m}\u001b[0m\n",
            "\u001b[34mEnvironment variables:\u001b[0m\n",
            "\u001b[34mSM_CURRENT_HOST=algo-1\u001b[0m\n",
            "\u001b[34mPYTHONPATH=/usr/local/bin:/usr/lib/python35.zip:/usr/lib/python3.5:/usr/lib/python3.5/plat-x86_64-linux-gnu:/usr/lib/python3.5/lib-dynload:/usr/local/lib/python3.5/dist-packages:/usr/lib/python3/dist-packages\u001b[0m\n",
            "\u001b[34mSM_TRAINING_ENV={\"additional_framework_parameters\":{},\"channel_input_dirs\":{\"training\":\"/opt/ml/input/data/training\"},\"current_host\":\"algo-1\",\"framework_module\":\"sagemaker_pytorch_container.training:main\",\"hosts\":[\"algo-1\"],\"hyperparameters\":{\"epochs\":10,\"hidden_dim\":200},\"input_config_dir\":\"/opt/ml/input/config\",\"input_data_config\":{\"training\":{\"RecordWrapperType\":\"None\",\"S3DistributionType\":\"FullyReplicated\",\"TrainingInputMode\":\"File\"}},\"input_dir\":\"/opt/ml/input\",\"job_name\":\"sagemaker-pytorch-2022-01-06-17-28-20-170\",\"log_level\":20,\"model_dir\":\"/opt/ml/model\",\"module_dir\":\"s3://sagemaker-us-east-1-693306866846/sagemaker-pytorch-2022-01-06-17-28-20-170/source/sourcedir.tar.gz\",\"module_name\":\"train\",\"network_interface_name\":\"eth0\",\"num_cpus\":4,\"num_gpus\":1,\"output_data_dir\":\"/opt/ml/output/data\",\"output_dir\":\"/opt/ml/output\",\"output_intermediate_dir\":\"/opt/ml/output/intermediate\",\"resource_config\":{\"current_host\":\"algo-1\",\"hosts\":[\"algo-1\"],\"network_interface_name\":\"eth0\"},\"user_entry_point\":\"train.py\"}\u001b[0m\n",
            "\u001b[34mSM_INPUT_CONFIG_DIR=/opt/ml/input/config\u001b[0m\n",
            "\u001b[34mSM_HP_EPOCHS=10\u001b[0m\n",
            "\u001b[34mSM_OUTPUT_DATA_DIR=/opt/ml/output/data\u001b[0m\n",
            "\u001b[34mSM_FRAMEWORK_MODULE=sagemaker_pytorch_container.training:main\u001b[0m\n",
            "\u001b[34mSM_HP_HIDDEN_DIM=200\u001b[0m\n",
            "\u001b[34mSM_OUTPUT_DIR=/opt/ml/output\u001b[0m\n",
            "\u001b[34mSM_NUM_GPUS=1\u001b[0m\n",
            "\u001b[34mSM_HPS={\"epochs\":10,\"hidden_dim\":200}\u001b[0m\n",
            "\u001b[34mSM_MODULE_DIR=s3://sagemaker-us-east-1-693306866846/sagemaker-pytorch-2022-01-06-17-28-20-170/source/sourcedir.tar.gz\u001b[0m\n",
            "\u001b[34mSM_USER_ARGS=[\"--epochs\",\"10\",\"--hidden_dim\",\"200\"]\u001b[0m\n",
            "\u001b[34mSM_INPUT_DIR=/opt/ml/input\u001b[0m\n",
            "\u001b[34mSM_NETWORK_INTERFACE_NAME=eth0\u001b[0m\n",
            "\u001b[34mSM_USER_ENTRY_POINT=train.py\u001b[0m\n",
            "\u001b[34mSM_INPUT_DATA_CONFIG={\"training\":{\"RecordWrapperType\":\"None\",\"S3DistributionType\":\"FullyReplicated\",\"TrainingInputMode\":\"File\"}}\u001b[0m\n",
            "\u001b[34mSM_HOSTS=[\"algo-1\"]\u001b[0m\n",
            "\u001b[34mSM_RESOURCE_CONFIG={\"current_host\":\"algo-1\",\"hosts\":[\"algo-1\"],\"network_interface_name\":\"eth0\"}\u001b[0m\n",
            "\u001b[34mSM_MODULE_NAME=train\u001b[0m\n",
            "\u001b[34mSM_MODEL_DIR=/opt/ml/model\u001b[0m\n",
            "\u001b[34mSM_NUM_CPUS=4\u001b[0m\n",
            "\u001b[34mSM_LOG_LEVEL=20\u001b[0m\n",
            "\u001b[34mSM_FRAMEWORK_PARAMS={}\u001b[0m\n",
            "\u001b[34mSM_OUTPUT_INTERMEDIATE_DIR=/opt/ml/output/intermediate\u001b[0m\n",
            "\u001b[34mSM_CHANNEL_TRAINING=/opt/ml/input/data/training\u001b[0m\n",
            "\u001b[34mSM_CHANNELS=[\"training\"]\u001b[0m\n",
            "\u001b[34mInvoking script with the following command:\u001b[0m\n",
            "\u001b[34m/usr/bin/python -m train --epochs 10 --hidden_dim 200\u001b[0m\n",
            "\u001b[34mUsing device cuda.\u001b[0m\n",
            "\u001b[34mGet train data loader.\u001b[0m\n",
            "\u001b[34mModel loaded with embedding_dim 32, hidden_dim 200, vocab_size 5000.\u001b[0m\n",
            "\u001b[34mEpoch: 1, BCELoss: 0.671272084421041\u001b[0m\n",
            "\u001b[34mEpoch: 2, BCELoss: 0.5719590929089761\u001b[0m\n",
            "\u001b[34mEpoch: 3, BCELoss: 0.46475454070130173\u001b[0m\n",
            "\u001b[34mEpoch: 4, BCELoss: 0.6098007882127956\u001b[0m\n",
            "\u001b[34mEpoch: 5, BCELoss: 0.5867479626013308\u001b[0m\n",
            "\u001b[34mEpoch: 6, BCELoss: 0.44601630434697986\u001b[0m\n",
            "\u001b[34mEpoch: 7, BCELoss: 0.3669759448693723\u001b[0m\n",
            "\u001b[34mEpoch: 8, BCELoss: 0.3388322318086819\u001b[0m\n",
            "\u001b[34mEpoch: 9, BCELoss: 0.31327620817690477\u001b[0m\n",
            "\u001b[34mEpoch: 10, BCELoss: 0.2999121823481151\u001b[0m\n",
            "\u001b[34m2022-01-06 17:36:03,109 sagemaker-containers INFO     Reporting training SUCCESS\u001b[0m\n",
            "\n",
            "2022-01-06 17:36:13 Uploading - Uploading generated training model\n",
            "2022-01-06 17:36:13 Completed - Training job completed\n",
            "Training seconds: 291\n",
            "Billable seconds: 291\n"
          ]
        }
      ],
      "source": [
        "estimator.fit({'training': input_data})"
      ]
    },
    {
      "cell_type": "markdown",
      "metadata": {
        "id": "QSpik7NENNA0"
      },
      "source": [
        "## Step 5: Testing the model\n",
        "\n",
        "As mentioned at the top of this notebook, we will be testing this model by first deploying it and then sending the testing data to the deployed endpoint. We will do this so that we can make sure that the deployed model is working correctly.\n",
        "\n",
        "## Step 6: Deploy the model for testing\n",
        "\n",
        "Now that we have trained our model, we would like to test it to see how it performs. Currently our model takes input of the form `review_length, review[500]` where `review[500]` is a sequence of `500` integers which describe the words present in the review, encoded using `word_dict`. Fortunately for us, SageMaker provides built-in inference code for models with simple inputs such as this.\n",
        "\n",
        "There is one thing that we need to provide, however, and that is a function which loads the saved model. This function must be called `model_fn()` and takes as its only parameter a path to the directory where the model artifacts are stored. This function must also be present in the python file which we specified as the entry point. In our case the model loading function has been provided and so no changes need to be made.\n",
        "\n",
        "**NOTE**: When the built-in inference code is run it must import the `model_fn()` method from the `train.py` file. This is why the training code is wrapped in a main guard ( ie, `if __name__ == '__main__':` )\n",
        "\n",
        "Since we don't need to change anything in the code that was uploaded during training, we can simply deploy the current model as-is.\n",
        "\n",
        "**NOTE:** When deploying a model you are asking SageMaker to launch an compute instance that will wait for data to be sent to it. As a result, this compute instance will continue to run until *you* shut it down. This is important to know since the cost of a deployed endpoint depends on how long it has been running for.\n",
        "\n",
        "In other words **If you are no longer using a deployed endpoint, shut it down!**\n",
        "\n",
        "**TODO:** Deploy the trained model."
      ]
    },
    {
      "cell_type": "code",
      "execution_count": null,
      "metadata": {
        "id": "Dw-bL6RMNNA0",
        "outputId": "a93289d7-dd6b-49fb-c488-679aef980176"
      },
      "outputs": [
        {
          "name": "stderr",
          "output_type": "stream",
          "text": [
            "Parameter image will be renamed to image_uri in SageMaker Python SDK v2.\n",
            "'create_image_uri' will be deprecated in favor of 'ImageURIProvider' class in SageMaker Python SDK v2.\n"
          ]
        },
        {
          "name": "stdout",
          "output_type": "stream",
          "text": [
            "--------!"
          ]
        }
      ],
      "source": [
        "# TODO: Deploy the trained model\n",
        "predictor = estimator.deploy(initial_instance_count=1, instance_type='ml.p2.xlarge')"
      ]
    },
    {
      "cell_type": "markdown",
      "metadata": {
        "id": "jITr_XlhNNA1"
      },
      "source": [
        "## Step 7 - Use the model for testing\n",
        "\n",
        "Once deployed, we can read in the test data and send it off to our deployed model to get some results. Once we collect all of the results we can determine how accurate our model is."
      ]
    },
    {
      "cell_type": "code",
      "execution_count": null,
      "metadata": {
        "id": "9bMAN7w6NNA1"
      },
      "outputs": [],
      "source": [
        "test_X = pd.concat([pd.DataFrame(test_X_len), pd.DataFrame(test_X)], axis=1)"
      ]
    },
    {
      "cell_type": "code",
      "execution_count": null,
      "metadata": {
        "id": "FPPdx2I8NNA1"
      },
      "outputs": [],
      "source": [
        "# We split the data into chunks and send each chunk seperately, accumulating the results.\n",
        "\n",
        "def predict(data, rows=512):\n",
        "    split_array = np.array_split(data, int(data.shape[0] / float(rows) + 1))\n",
        "    predictions = np.array([])\n",
        "    for array in split_array:\n",
        "        predictions = np.append(predictions, predictor.predict(array))\n",
        "    \n",
        "    return predictions"
      ]
    },
    {
      "cell_type": "code",
      "execution_count": null,
      "metadata": {
        "id": "MJotGksNNNA2"
      },
      "outputs": [],
      "source": [
        "predictions = predict(test_X.values)\n",
        "predictions = [round(num) for num in predictions]"
      ]
    },
    {
      "cell_type": "code",
      "execution_count": null,
      "metadata": {
        "id": "OoEn9QAENNA3",
        "outputId": "7be07a9c-8727-4409-d4fb-938c80e80494"
      },
      "outputs": [
        {
          "data": {
            "text/plain": [
              "0.85036"
            ]
          },
          "execution_count": 69,
          "metadata": {},
          "output_type": "execute_result"
        }
      ],
      "source": [
        "from sklearn.metrics import accuracy_score\n",
        "accuracy_score(test_y, predictions)"
      ]
    },
    {
      "cell_type": "markdown",
      "metadata": {
        "id": "jjSJEy65NNA3"
      },
      "source": [
        "**Question:** How does this model compare to the XGBoost model you created earlier? Why might these two models perform differently on this dataset? Which do *you* think is better for sentiment analysis?"
      ]
    },
    {
      "cell_type": "markdown",
      "metadata": {
        "id": "DdvZrb1VNNA4"
      },
      "source": [
        "**Answer:** The accuracy is almost the same with the xgb one. The difference may be cause of different approach of training. \n",
        "The two is capable enough for sentiment analysis."
      ]
    },
    {
      "cell_type": "markdown",
      "metadata": {
        "id": "ixZoXjKINNA4"
      },
      "source": [
        "### (TODO) More testing\n",
        "\n",
        "We now have a trained model which has been deployed and which we can send processed reviews to and which returns the predicted sentiment. However, ultimately we would like to be able to send our model an unprocessed review. That is, we would like to send the review itself as a string. For example, suppose we wish to send the following review to our model."
      ]
    },
    {
      "cell_type": "code",
      "execution_count": null,
      "metadata": {
        "id": "aRRfvwQ9NNA5"
      },
      "outputs": [],
      "source": [
        "test_review = 'The simplest pleasures in life are the best, and this film is one of them. Combining a rather basic storyline of love and adventure this movie transcends the usual weekend fair with wit and unmitigated charm.'"
      ]
    },
    {
      "cell_type": "markdown",
      "metadata": {
        "id": "zXNZn7G6NNA5"
      },
      "source": [
        "The question we now need to answer is, how do we send this review to our model?\n",
        "\n",
        "Recall in the first section of this notebook we did a bunch of data processing to the IMDb dataset. In particular, we did two specific things to the provided reviews.\n",
        " - Removed any html tags and stemmed the input\n",
        " - Encoded the review as a sequence of integers using `word_dict`\n",
        " \n",
        "In order process the review we will need to repeat these two steps.\n",
        "\n",
        "**TODO**: Using the `review_to_words` and `convert_and_pad` methods from section one, convert `test_review` into a numpy array `test_data` suitable to send to our model. Remember that our model expects input of the form `review_length, review[500]`. So make sure you produce two variables from processing: \n",
        "- A sequence of length 500 which represents the converted review\n",
        "- The length of the review"
      ]
    },
    {
      "cell_type": "code",
      "execution_count": null,
      "metadata": {
        "id": "kOiQvk30NNA5"
      },
      "outputs": [],
      "source": [
        "# TODO: Convert test_review into a form usable by the model and save the results in test_data\n",
        "test_data_int, len_test  = convert_and_pad(word_dict, review_to_words(test_review)) \n",
        "test_data = np.array([np.array([len_test] + test_data_int)])"
      ]
    },
    {
      "cell_type": "markdown",
      "metadata": {
        "id": "DdGhqT4xNNA5"
      },
      "source": [
        "Now that we have processed the review, we can send the resulting array to our model to predict the sentiment of the review."
      ]
    },
    {
      "cell_type": "code",
      "execution_count": null,
      "metadata": {
        "id": "XR91PHfONNA5",
        "outputId": "99b73eff-b426-4992-c007-076284eafe1d"
      },
      "outputs": [
        {
          "data": {
            "text/plain": [
              "array(0.5103568, dtype=float32)"
            ]
          },
          "execution_count": 72,
          "metadata": {},
          "output_type": "execute_result"
        }
      ],
      "source": [
        "predictor.predict(test_data)"
      ]
    },
    {
      "cell_type": "markdown",
      "metadata": {
        "id": "RM1oO2fENNA6"
      },
      "source": [
        "Since the return value of our model is close to `1`, we can be certain that the review we submitted is positive."
      ]
    },
    {
      "cell_type": "markdown",
      "metadata": {
        "id": "paE9yqIyNNA6"
      },
      "source": [
        "### Delete the endpoint\n",
        "\n",
        "Of course, just like in the XGBoost notebook, once we've deployed an endpoint it continues to run until we tell it to shut down. Since we are done using our endpoint for now, we can delete it."
      ]
    },
    {
      "cell_type": "code",
      "execution_count": null,
      "metadata": {
        "id": "0we_nRUqNNA7",
        "outputId": "fd2beb55-ade8-43da-b0ff-201c99d73ae9"
      },
      "outputs": [
        {
          "name": "stderr",
          "output_type": "stream",
          "text": [
            "estimator.delete_endpoint() will be deprecated in SageMaker Python SDK v2. Please use the delete_endpoint() function on your predictor instead.\n"
          ]
        }
      ],
      "source": [
        "estimator.delete_endpoint()"
      ]
    },
    {
      "cell_type": "markdown",
      "metadata": {
        "id": "k3Zj2LcKNNA7"
      },
      "source": [
        "## Step 6 (again) - Deploy the model for the web app\n",
        "\n",
        "Now that we know that our model is working, it's time to create some custom inference code so that we can send the model a review which has not been processed and have it determine the sentiment of the review.\n",
        "\n",
        "As we saw above, by default the estimator which we created, when deployed, will use the entry script and directory which we provided when creating the model. However, since we now wish to accept a string as input and our model expects a processed review, we need to write some custom inference code.\n",
        "\n",
        "We will store the code that we write in the `serve` directory. Provided in this directory is the `model.py` file that we used to construct our model, a `utils.py` file which contains the `review_to_words` and `convert_and_pad` pre-processing functions which we used during the initial data processing, and `predict.py`, the file which will contain our custom inference code. Note also that `requirements.txt` is present which will tell SageMaker what Python libraries are required by our custom inference code.\n",
        "\n",
        "When deploying a PyTorch model in SageMaker, you are expected to provide four functions which the SageMaker inference container will use.\n",
        " - `model_fn`: This function is the same function that we used in the training script and it tells SageMaker how to load our model.\n",
        " - `input_fn`: This function receives the raw serialized input that has been sent to the model's endpoint and its job is to de-serialize and make the input available for the inference code.\n",
        " - `output_fn`: This function takes the output of the inference code and its job is to serialize this output and return it to the caller of the model's endpoint.\n",
        " - `predict_fn`: The heart of the inference script, this is where the actual prediction is done and is the function which you will need to complete.\n",
        "\n",
        "For the simple website that we are constructing during this project, the `input_fn` and `output_fn` methods are relatively straightforward. We only require being able to accept a string as input and we expect to return a single value as output. You might imagine though that in a more complex application the input or output may be image data or some other binary data which would require some effort to serialize.\n",
        "\n",
        "### (TODO) Writing inference code\n",
        "\n",
        "Before writing our custom inference code, we will begin by taking a look at the code which has been provided."
      ]
    },
    {
      "cell_type": "code",
      "execution_count": null,
      "metadata": {
        "id": "-Ud10Rc7NNA7",
        "outputId": "ac0d9c53-b05b-41aa-f7bc-b72acba4cd3a"
      },
      "outputs": [
        {
          "name": "stdout",
          "output_type": "stream",
          "text": [
            "\u001b[34mimport\u001b[39;49;00m \u001b[04m\u001b[36margparse\u001b[39;49;00m\n",
            "\u001b[34mimport\u001b[39;49;00m \u001b[04m\u001b[36mjson\u001b[39;49;00m\n",
            "\u001b[34mimport\u001b[39;49;00m \u001b[04m\u001b[36mos\u001b[39;49;00m\n",
            "\u001b[34mimport\u001b[39;49;00m \u001b[04m\u001b[36mpickle\u001b[39;49;00m\n",
            "\u001b[34mimport\u001b[39;49;00m \u001b[04m\u001b[36msys\u001b[39;49;00m\n",
            "\u001b[34mimport\u001b[39;49;00m \u001b[04m\u001b[36msagemaker_containers\u001b[39;49;00m\n",
            "\u001b[34mimport\u001b[39;49;00m \u001b[04m\u001b[36mpandas\u001b[39;49;00m \u001b[34mas\u001b[39;49;00m \u001b[04m\u001b[36mpd\u001b[39;49;00m\n",
            "\u001b[34mimport\u001b[39;49;00m \u001b[04m\u001b[36mnumpy\u001b[39;49;00m \u001b[34mas\u001b[39;49;00m \u001b[04m\u001b[36mnp\u001b[39;49;00m\n",
            "\u001b[34mimport\u001b[39;49;00m \u001b[04m\u001b[36mtorch\u001b[39;49;00m\n",
            "\u001b[34mimport\u001b[39;49;00m \u001b[04m\u001b[36mtorch\u001b[39;49;00m\u001b[04m\u001b[36m.\u001b[39;49;00m\u001b[04m\u001b[36mnn\u001b[39;49;00m \u001b[34mas\u001b[39;49;00m \u001b[04m\u001b[36mnn\u001b[39;49;00m\n",
            "\u001b[34mimport\u001b[39;49;00m \u001b[04m\u001b[36mtorch\u001b[39;49;00m\u001b[04m\u001b[36m.\u001b[39;49;00m\u001b[04m\u001b[36moptim\u001b[39;49;00m \u001b[34mas\u001b[39;49;00m \u001b[04m\u001b[36moptim\u001b[39;49;00m\n",
            "\u001b[34mimport\u001b[39;49;00m \u001b[04m\u001b[36mtorch\u001b[39;49;00m\u001b[04m\u001b[36m.\u001b[39;49;00m\u001b[04m\u001b[36mutils\u001b[39;49;00m\u001b[04m\u001b[36m.\u001b[39;49;00m\u001b[04m\u001b[36mdata\u001b[39;49;00m\n",
            "\n",
            "\u001b[34mfrom\u001b[39;49;00m \u001b[04m\u001b[36mmodel\u001b[39;49;00m \u001b[34mimport\u001b[39;49;00m LSTMClassifier\n",
            "\n",
            "\u001b[34mfrom\u001b[39;49;00m \u001b[04m\u001b[36mutils\u001b[39;49;00m \u001b[34mimport\u001b[39;49;00m review_to_words, convert_and_pad\n",
            "\n",
            "\u001b[34mdef\u001b[39;49;00m \u001b[32mmodel_fn\u001b[39;49;00m(model_dir):\n",
            "    \u001b[33m\"\"\"Load the PyTorch model from the `model_dir` directory.\"\"\"\u001b[39;49;00m\n",
            "    \u001b[36mprint\u001b[39;49;00m(\u001b[33m\"\u001b[39;49;00m\u001b[33mLoading model.\u001b[39;49;00m\u001b[33m\"\u001b[39;49;00m)\n",
            "\n",
            "    \u001b[37m# First, load the parameters used to create the model.\u001b[39;49;00m\n",
            "    model_info = {}\n",
            "    model_info_path = os.path.join(model_dir, \u001b[33m'\u001b[39;49;00m\u001b[33mmodel_info.pth\u001b[39;49;00m\u001b[33m'\u001b[39;49;00m)\n",
            "    \u001b[34mwith\u001b[39;49;00m \u001b[36mopen\u001b[39;49;00m(model_info_path, \u001b[33m'\u001b[39;49;00m\u001b[33mrb\u001b[39;49;00m\u001b[33m'\u001b[39;49;00m) \u001b[34mas\u001b[39;49;00m f:\n",
            "        model_info = torch.load(f)\n",
            "\n",
            "    \u001b[36mprint\u001b[39;49;00m(\u001b[33m\"\u001b[39;49;00m\u001b[33mmodel_info: \u001b[39;49;00m\u001b[33m{}\u001b[39;49;00m\u001b[33m\"\u001b[39;49;00m.format(model_info))\n",
            "\n",
            "    \u001b[37m# Determine the device and construct the model.\u001b[39;49;00m\n",
            "    device = torch.device(\u001b[33m\"\u001b[39;49;00m\u001b[33mcuda\u001b[39;49;00m\u001b[33m\"\u001b[39;49;00m \u001b[34mif\u001b[39;49;00m torch.cuda.is_available() \u001b[34melse\u001b[39;49;00m \u001b[33m\"\u001b[39;49;00m\u001b[33mcpu\u001b[39;49;00m\u001b[33m\"\u001b[39;49;00m)\n",
            "    model = LSTMClassifier(model_info[\u001b[33m'\u001b[39;49;00m\u001b[33membedding_dim\u001b[39;49;00m\u001b[33m'\u001b[39;49;00m], model_info[\u001b[33m'\u001b[39;49;00m\u001b[33mhidden_dim\u001b[39;49;00m\u001b[33m'\u001b[39;49;00m], model_info[\u001b[33m'\u001b[39;49;00m\u001b[33mvocab_size\u001b[39;49;00m\u001b[33m'\u001b[39;49;00m])\n",
            "\n",
            "    \u001b[37m# Load the store model parameters.\u001b[39;49;00m\n",
            "    model_path = os.path.join(model_dir, \u001b[33m'\u001b[39;49;00m\u001b[33mmodel.pth\u001b[39;49;00m\u001b[33m'\u001b[39;49;00m)\n",
            "    \u001b[34mwith\u001b[39;49;00m \u001b[36mopen\u001b[39;49;00m(model_path, \u001b[33m'\u001b[39;49;00m\u001b[33mrb\u001b[39;49;00m\u001b[33m'\u001b[39;49;00m) \u001b[34mas\u001b[39;49;00m f:\n",
            "        model.load_state_dict(torch.load(f))\n",
            "\n",
            "    \u001b[37m# Load the saved word_dict.\u001b[39;49;00m\n",
            "    word_dict_path = os.path.join(model_dir, \u001b[33m'\u001b[39;49;00m\u001b[33mword_dict.pkl\u001b[39;49;00m\u001b[33m'\u001b[39;49;00m)\n",
            "    \u001b[34mwith\u001b[39;49;00m \u001b[36mopen\u001b[39;49;00m(word_dict_path, \u001b[33m'\u001b[39;49;00m\u001b[33mrb\u001b[39;49;00m\u001b[33m'\u001b[39;49;00m) \u001b[34mas\u001b[39;49;00m f:\n",
            "        model.word_dict = pickle.load(f)\n",
            "\n",
            "    model.to(device).eval()\n",
            "\n",
            "    \u001b[36mprint\u001b[39;49;00m(\u001b[33m\"\u001b[39;49;00m\u001b[33mDone loading model.\u001b[39;49;00m\u001b[33m\"\u001b[39;49;00m)\n",
            "    \u001b[34mreturn\u001b[39;49;00m model\n",
            "\n",
            "\u001b[34mdef\u001b[39;49;00m \u001b[32minput_fn\u001b[39;49;00m(serialized_input_data, content_type):\n",
            "    \u001b[36mprint\u001b[39;49;00m(\u001b[33m'\u001b[39;49;00m\u001b[33mDeserializing the input data.\u001b[39;49;00m\u001b[33m'\u001b[39;49;00m)\n",
            "    \u001b[34mif\u001b[39;49;00m content_type == \u001b[33m'\u001b[39;49;00m\u001b[33mtext/plain\u001b[39;49;00m\u001b[33m'\u001b[39;49;00m:\n",
            "        data = serialized_input_data.decode(\u001b[33m'\u001b[39;49;00m\u001b[33mutf-8\u001b[39;49;00m\u001b[33m'\u001b[39;49;00m)\n",
            "        \u001b[34mreturn\u001b[39;49;00m data\n",
            "    \u001b[34mraise\u001b[39;49;00m \u001b[36mException\u001b[39;49;00m(\u001b[33m'\u001b[39;49;00m\u001b[33mRequested unsupported ContentType in content_type: \u001b[39;49;00m\u001b[33m'\u001b[39;49;00m + content_type)\n",
            "\n",
            "\u001b[34mdef\u001b[39;49;00m \u001b[32moutput_fn\u001b[39;49;00m(prediction_output, accept):\n",
            "    \u001b[36mprint\u001b[39;49;00m(\u001b[33m'\u001b[39;49;00m\u001b[33mSerializing the generated output.\u001b[39;49;00m\u001b[33m'\u001b[39;49;00m)\n",
            "    \u001b[34mreturn\u001b[39;49;00m \u001b[36mstr\u001b[39;49;00m(prediction_output)\n",
            "\n",
            "\u001b[34mdef\u001b[39;49;00m \u001b[32mpredict_fn\u001b[39;49;00m(input_data, model):\n",
            "    \u001b[36mprint\u001b[39;49;00m(\u001b[33m'\u001b[39;49;00m\u001b[33mInferring sentiment of input data.\u001b[39;49;00m\u001b[33m'\u001b[39;49;00m)\n",
            "\n",
            "    device = torch.device(\u001b[33m\"\u001b[39;49;00m\u001b[33mcuda\u001b[39;49;00m\u001b[33m\"\u001b[39;49;00m \u001b[34mif\u001b[39;49;00m torch.cuda.is_available() \u001b[34melse\u001b[39;49;00m \u001b[33m\"\u001b[39;49;00m\u001b[33mcpu\u001b[39;49;00m\u001b[33m\"\u001b[39;49;00m)\n",
            "    \n",
            "    \u001b[34mif\u001b[39;49;00m model.word_dict \u001b[35mis\u001b[39;49;00m \u001b[34mNone\u001b[39;49;00m:\n",
            "        \u001b[34mraise\u001b[39;49;00m \u001b[36mException\u001b[39;49;00m(\u001b[33m'\u001b[39;49;00m\u001b[33mModel has not been loaded properly, no word_dict.\u001b[39;49;00m\u001b[33m'\u001b[39;49;00m)\n",
            "    \n",
            "    \u001b[37m# TODO: Process input_data so that it is ready to be sent to our model.\u001b[39;49;00m\n",
            "    \u001b[37m#       You should produce two variables:\u001b[39;49;00m\n",
            "    \u001b[37m#         data_X   - A sequence of length 500 which represents the converted review\u001b[39;49;00m\n",
            "    \u001b[37m#         data_len - The length of the review\u001b[39;49;00m\n",
            "\n",
            "    data_X ,data_len = convert_and_pad(model.word_dict, review_to_words(input_data))\n",
            "\n",
            "    \u001b[37m# Using data_X and data_len we construct an appropriate input tensor. Remember\u001b[39;49;00m\n",
            "    \u001b[37m# that our model expects input data of the form 'len, review[500]'.\u001b[39;49;00m\n",
            "    data_pack = np.hstack((data_len, data_X))\n",
            "    data_pack = data_pack.reshape(\u001b[34m1\u001b[39;49;00m, -\u001b[34m1\u001b[39;49;00m)\n",
            "    \n",
            "    data = torch.from_numpy(data_pack)\n",
            "    data = data.to(device)\n",
            "\n",
            "    \u001b[37m# Make sure to put the model into evaluation mode\u001b[39;49;00m\n",
            "    model.eval()\n",
            "\n",
            "    \u001b[37m# TODO: Compute the result of applying the model to the input data. The variable `result` should\u001b[39;49;00m\n",
            "    \u001b[37m#       be a numpy array which contains a single integer which is either 1 or 0\u001b[39;49;00m\n",
            "\n",
            "    \u001b[34mwith\u001b[39;49;00m torch.no_grad():\n",
            "        output = model.forward(data)\n",
            "        \n",
            "    result = np.round(output.numpy())\n",
            "\n",
            "    \u001b[34mreturn\u001b[39;49;00m result\n"
          ]
        }
      ],
      "source": [
        "!pygmentize serve/predict.py"
      ]
    },
    {
      "cell_type": "markdown",
      "metadata": {
        "id": "WrAefKcNNNA7"
      },
      "source": [
        "As mentioned earlier, the `model_fn` method is the same as the one provided in the training code and the `input_fn` and `output_fn` methods are very simple and your task will be to complete the `predict_fn` method. \n",
        "\n",
        "**Note**: Our model expects input data of the form 'len, review[500]'. So make sure you produce two variables from processing: \n",
        "- `data_X`:  A sequence of length 500 which represents the converted review\n",
        "- `data_len`: - The length of the review\n",
        "\n",
        "Make sure that you save the completed file as `predict.py` in the `serve` directory.\n",
        "\n",
        "**TODO**: Complete the `predict_fn()` method in the `serve/predict.py` file."
      ]
    },
    {
      "cell_type": "markdown",
      "metadata": {
        "id": "9mLL7uFHNNA8"
      },
      "source": [
        "### Deploying the model\n",
        "\n",
        "Now that the custom inference code has been written, we will create and deploy our model. To begin with, we need to construct a new PyTorchModel object which points to the model artifacts created during training and also points to the inference code that we wish to use. Then we can call the deploy method to launch the deployment container.\n",
        "\n",
        "**NOTE**: The default behaviour for a deployed PyTorch model is to assume that any input passed to the predictor is a `numpy` array. In our case we want to send a string so we need to construct a simple wrapper around the `RealTimePredictor` class to accomodate simple strings. In a more complicated situation you may want to provide a serialization object, for example if you wanted to sent image data."
      ]
    },
    {
      "cell_type": "code",
      "execution_count": null,
      "metadata": {
        "id": "DkV6EP9-NNA8",
        "outputId": "c1024643-00a1-4735-9ffc-50ad8e19968d"
      },
      "outputs": [
        {
          "name": "stderr",
          "output_type": "stream",
          "text": [
            "Parameter image will be renamed to image_uri in SageMaker Python SDK v2.\n",
            "'create_image_uri' will be deprecated in favor of 'ImageURIProvider' class in SageMaker Python SDK v2.\n"
          ]
        },
        {
          "name": "stdout",
          "output_type": "stream",
          "text": [
            "----------!"
          ]
        }
      ],
      "source": [
        "from sagemaker.predictor import RealTimePredictor\n",
        "from sagemaker.pytorch import PyTorchModel\n",
        "\n",
        "class StringPredictor(RealTimePredictor):\n",
        "    def __init__(self, endpoint_name, sagemaker_session):\n",
        "        super(StringPredictor, self).__init__(endpoint_name, sagemaker_session, content_type='text/plain')\n",
        "\n",
        "model = PyTorchModel(model_data=estimator.model_data,\n",
        "                     role = role,\n",
        "                     framework_version='0.4.0',\n",
        "                     entry_point='predict.py',\n",
        "                     source_dir='serve',\n",
        "                     predictor_cls=StringPredictor)\n",
        "predictor = model.deploy(initial_instance_count=1, instance_type='ml.m4.xlarge')"
      ]
    },
    {
      "cell_type": "markdown",
      "metadata": {
        "id": "5D8JtDQeNNA8"
      },
      "source": [
        "### Testing the model\n",
        "\n",
        "Now that we have deployed our model with the custom inference code, we should test to see if everything is working. Here we test our model by loading the first `250` positive and negative reviews and send them to the endpoint, then collect the results. The reason for only sending some of the data is that the amount of time it takes for our model to process the input and then perform inference is quite long and so testing the entire data set would be prohibitive."
      ]
    },
    {
      "cell_type": "code",
      "execution_count": null,
      "metadata": {
        "id": "GtfmDV1-NNA9"
      },
      "outputs": [],
      "source": [
        "import glob\n",
        "\n",
        "def test_reviews(data_dir='../data/aclImdb', stop=250):\n",
        "    \n",
        "    results = []\n",
        "    ground = []\n",
        "    \n",
        "    # We make sure to test both positive and negative reviews    \n",
        "    for sentiment in ['pos', 'neg']:\n",
        "        \n",
        "        path = os.path.join(data_dir, 'test', sentiment, '*.txt')\n",
        "        files = glob.glob(path)\n",
        "        \n",
        "        files_read = 0\n",
        "        \n",
        "        print('Starting ', sentiment, ' files')\n",
        "        \n",
        "        # Iterate through the files and send them to the predictor\n",
        "        for f in files:\n",
        "            with open(f) as review:\n",
        "                # First, we store the ground truth (was the review positive or negative)\n",
        "                if sentiment == 'pos':\n",
        "                    ground.append(1)\n",
        "                else:\n",
        "                    ground.append(0)\n",
        "                # Read in the review and convert to 'utf-8' for transmission via HTTP\n",
        "                review_input = review.read().encode('utf-8')\n",
        "                # Send the review to the predictor and store the results\n",
        "                results.append(float(predictor.predict(review_input)))\n",
        "                \n",
        "            # Sending reviews to our endpoint one at a time takes a while so we\n",
        "            # only send a small number of reviews\n",
        "            files_read += 1\n",
        "            if files_read == stop:\n",
        "                break\n",
        "            \n",
        "    return ground, results"
      ]
    },
    {
      "cell_type": "code",
      "execution_count": null,
      "metadata": {
        "id": "txWWVF-ANNA9",
        "outputId": "47a54b87-b2d2-4d24-d29a-8020640b8bab"
      },
      "outputs": [
        {
          "name": "stdout",
          "output_type": "stream",
          "text": [
            "Starting  pos  files\n",
            "Starting  neg  files\n"
          ]
        }
      ],
      "source": [
        "ground, results = test_reviews()"
      ]
    },
    {
      "cell_type": "code",
      "execution_count": null,
      "metadata": {
        "id": "-qJ9dcUsNNA9",
        "outputId": "266a22a3-8b79-4deb-eb66-d7c8baaae99d"
      },
      "outputs": [
        {
          "data": {
            "text/plain": [
              "0.852"
            ]
          },
          "execution_count": 78,
          "metadata": {},
          "output_type": "execute_result"
        }
      ],
      "source": [
        "from sklearn.metrics import accuracy_score\n",
        "accuracy_score(ground, results)"
      ]
    },
    {
      "cell_type": "markdown",
      "metadata": {
        "id": "4BlF5WJ2NNA-"
      },
      "source": [
        "As an additional test, we can try sending the `test_review` that we looked at earlier."
      ]
    },
    {
      "cell_type": "code",
      "execution_count": null,
      "metadata": {
        "id": "G0QoSwixNNA-",
        "outputId": "9a2e369d-ed1b-44f0-a102-4657768905d2"
      },
      "outputs": [
        {
          "data": {
            "text/plain": [
              "b'1.0'"
            ]
          },
          "execution_count": 79,
          "metadata": {},
          "output_type": "execute_result"
        }
      ],
      "source": [
        "predictor.predict(test_review)"
      ]
    },
    {
      "cell_type": "markdown",
      "metadata": {
        "id": "BzTElFygNNA-"
      },
      "source": [
        "Now that we know our endpoint is working as expected, we can set up the web page that will interact with it. If you don't have time to finish the project now, make sure to skip down to the end of this notebook and shut down your endpoint. You can deploy it again when you come back."
      ]
    },
    {
      "cell_type": "markdown",
      "metadata": {
        "id": "ul25C2BjNNA-"
      },
      "source": [
        "## Step 7 (again): Use the model for the web app\n",
        "\n",
        "> **TODO:** This entire section and the next contain tasks for you to complete, mostly using the AWS console.\n",
        "\n",
        "So far we have been accessing our model endpoint by constructing a predictor object which uses the endpoint and then just using the predictor object to perform inference. What if we wanted to create a web app which accessed our model? The way things are set up currently makes that not possible since in order to access a SageMaker endpoint the app would first have to authenticate with AWS using an IAM role which included access to SageMaker endpoints. However, there is an easier way! We just need to use some additional AWS services.\n",
        "\n",
        "<img src=\"Web App Diagram.svg\">\n",
        "\n",
        "The diagram above gives an overview of how the various services will work together. On the far right is the model which we trained above and which is deployed using SageMaker. On the far left is our web app that collects a user's movie review, sends it off and expects a positive or negative sentiment in return.\n",
        "\n",
        "In the middle is where some of the magic happens. We will construct a Lambda function, which you can think of as a straightforward Python function that can be executed whenever a specified event occurs. We will give this function permission to send and recieve data from a SageMaker endpoint.\n",
        "\n",
        "Lastly, the method we will use to execute the Lambda function is a new endpoint that we will create using API Gateway. This endpoint will be a url that listens for data to be sent to it. Once it gets some data it will pass that data on to the Lambda function and then return whatever the Lambda function returns. Essentially it will act as an interface that lets our web app communicate with the Lambda function.\n",
        "\n",
        "### Setting up a Lambda function\n",
        "\n",
        "The first thing we are going to do is set up a Lambda function. This Lambda function will be executed whenever our public API has data sent to it. When it is executed it will receive the data, perform any sort of processing that is required, send the data (the review) to the SageMaker endpoint we've created and then return the result.\n",
        "\n",
        "#### Part A: Create an IAM Role for the Lambda function\n",
        "\n",
        "Since we want the Lambda function to call a SageMaker endpoint, we need to make sure that it has permission to do so. To do this, we will construct a role that we can later give the Lambda function.\n",
        "\n",
        "Using the AWS Console, navigate to the **IAM** page and click on **Roles**. Then, click on **Create role**. Make sure that the **AWS service** is the type of trusted entity selected and choose **Lambda** as the service that will use this role, then click **Next: Permissions**.\n",
        "\n",
        "In the search box type `sagemaker` and select the check box next to the **AmazonSageMakerFullAccess** policy. Then, click on **Next: Review**.\n",
        "\n",
        "Lastly, give this role a name. Make sure you use a name that you will remember later on, for example `LambdaSageMakerRole`. Then, click on **Create role**.\n",
        "\n",
        "#### Part B: Create a Lambda function\n",
        "\n",
        "Now it is time to actually create the Lambda function.\n",
        "\n",
        "Using the AWS Console, navigate to the AWS Lambda page and click on **Create a function**. When you get to the next page, make sure that **Author from scratch** is selected. Now, name your Lambda function, using a name that you will remember later on, for example `sentiment_analysis_func`. Make sure that the **Python 3.6** runtime is selected and then choose the role that you created in the previous part. Then, click on **Create Function**.\n",
        "\n",
        "On the next page you will see some information about the Lambda function you've just created. If you scroll down you should see an editor in which you can write the code that will be executed when your Lambda function is triggered. In our example, we will use the code below. \n",
        "\n",
        "```python\n",
        "# We need to use the low-level library to interact with SageMaker since the SageMaker API\n",
        "# is not available natively through Lambda.\n",
        "import boto3\n",
        "\n",
        "def lambda_handler(event, context):\n",
        "\n",
        "    # The SageMaker runtime is what allows us to invoke the endpoint that we've created.\n",
        "    runtime = boto3.Session().client('sagemaker-runtime')\n",
        "\n",
        "    # Now we use the SageMaker runtime to invoke our endpoint, sending the review we were given\n",
        "    response = runtime.invoke_endpoint(EndpointName = '**ENDPOINT NAME HERE**',    # The name of the endpoint we created\n",
        "                                       ContentType = 'text/plain',                 # The data format that is expected\n",
        "                                       Body = event['body'])                       # The actual review\n",
        "\n",
        "    # The response is an HTTP response whose body contains the result of our inference\n",
        "    result = response['Body'].read().decode('utf-8')\n",
        "\n",
        "    return {\n",
        "        'statusCode' : 200,\n",
        "        'headers' : { 'Content-Type' : 'text/plain', 'Access-Control-Allow-Origin' : '*' },\n",
        "        'body' : result\n",
        "    }\n",
        "```\n",
        "\n",
        "Once you have copy and pasted the code above into the Lambda code editor, replace the `**ENDPOINT NAME HERE**` portion with the name of the endpoint that we deployed earlier. You can determine the name of the endpoint using the code cell below."
      ]
    },
    {
      "cell_type": "code",
      "execution_count": null,
      "metadata": {
        "id": "FyYKW6-wNNA_",
        "outputId": "9dfec99a-1229-4611-e46e-02ac3d6e3606"
      },
      "outputs": [
        {
          "data": {
            "text/plain": [
              "'sagemaker-pytorch-2022-01-04-17-26-53-829'"
            ]
          },
          "execution_count": 80,
          "metadata": {},
          "output_type": "execute_result"
        }
      ],
      "source": [
        "predictor.endpoint"
      ]
    },
    {
      "cell_type": "markdown",
      "metadata": {
        "id": "Rc84doqCNNA_"
      },
      "source": [
        "Once you have added the endpoint name to the Lambda function, click on **Save**. Your Lambda function is now up and running. Next we need to create a way for our web app to execute the Lambda function.\n",
        "\n",
        "### Setting up API Gateway\n",
        "\n",
        "Now that our Lambda function is set up, it is time to create a new API using API Gateway that will trigger the Lambda function we have just created.\n",
        "\n",
        "Using AWS Console, navigate to **Amazon API Gateway** and then click on **Get started**.\n",
        "\n",
        "On the next page, make sure that **New API** is selected and give the new api a name, for example, `sentiment_analysis_api`. Then, click on **Create API**.\n",
        "\n",
        "Now we have created an API, however it doesn't currently do anything. What we want it to do is to trigger the Lambda function that we created earlier.\n",
        "\n",
        "Select the **Actions** dropdown menu and click **Create Method**. A new blank method will be created, select its dropdown menu and select **POST**, then click on the check mark beside it.\n",
        "\n",
        "For the integration point, make sure that **Lambda Function** is selected and click on the **Use Lambda Proxy integration**. This option makes sure that the data that is sent to the API is then sent directly to the Lambda function with no processing. It also means that the return value must be a proper response object as it will also not be processed by API Gateway.\n",
        "\n",
        "Type the name of the Lambda function you created earlier into the **Lambda Function** text entry box and then click on **Save**. Click on **OK** in the pop-up box that then appears, giving permission to API Gateway to invoke the Lambda function you created.\n",
        "\n",
        "The last step in creating the API Gateway is to select the **Actions** dropdown and click on **Deploy API**. You will need to create a new Deployment stage and name it anything you like, for example `prod`.\n",
        "\n",
        "You have now successfully set up a public API to access your SageMaker model. Make sure to copy or write down the URL provided to invoke your newly created public API as this will be needed in the next step. This URL can be found at the top of the page, highlighted in blue next to the text **Invoke URL**."
      ]
    },
    {
      "cell_type": "markdown",
      "metadata": {
        "id": "DCRwiTaZNNA_"
      },
      "source": [
        "## Step 4: Deploying our web app\n",
        "\n",
        "Now that we have a publicly available API, we can start using it in a web app. For our purposes, we have provided a simple static html file which can make use of the public api you created earlier.\n",
        "\n",
        "In the `website` folder there should be a file called `index.html`. Download the file to your computer and open that file up in a text editor of your choice. There should be a line which contains **\\*\\*REPLACE WITH PUBLIC API URL\\*\\***. Replace this string with the url that you wrote down in the last step and then save the file.\n",
        "\n",
        "Now, if you open `index.html` on your local computer, your browser will behave as a local web server and you can use the provided site to interact with your SageMaker model.\n",
        "\n",
        "If you'd like to go further, you can host this html file anywhere you'd like, for example using github or hosting a static site on Amazon's S3. Once you have done this you can share the link with anyone you'd like and have them play with it too!\n",
        "\n",
        "> **Important Note** In order for the web app to communicate with the SageMaker endpoint, the endpoint has to actually be deployed and running. This means that you are paying for it. Make sure that the endpoint is running when you want to use the web app but that you shut it down when you don't need it, otherwise you will end up with a surprisingly large AWS bill.\n",
        "\n",
        "**TODO:** Make sure that you include the edited `index.html` file in your project submission."
      ]
    },
    {
      "cell_type": "markdown",
      "metadata": {
        "id": "cAwWJ2_RNNA_"
      },
      "source": [
        "Now that your web app is working, trying playing around with it and see how well it works.\n",
        "\n",
        "**Question**: Post a screenshot showing a sample review that you entered into your web app and the predicted sentiment. What was the predicted sentiment of your example review?"
      ]
    },
    {
      "cell_type": "markdown",
      "metadata": {
        "id": "RHB46xDSNNBA"
      },
      "source": [
        "**Screenshot:**\n",
        "![result_udacity.png](data:image/png;base64,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)\n",
        "\n",
        "**Answer:** It is able to understand the comments. "
      ]
    },
    {
      "cell_type": "markdown",
      "metadata": {
        "id": "Y_OdQbHwNNBA"
      },
      "source": [
        "### Delete the endpoint\n",
        "\n",
        "Remember to always shut down your endpoint if you are no longer using it. You are charged for the length of time that the endpoint is running so if you forget and leave it on you could end up with an unexpectedly large bill."
      ]
    },
    {
      "cell_type": "code",
      "execution_count": null,
      "metadata": {
        "id": "nKnQbiH1NNBA"
      },
      "outputs": [],
      "source": [
        "predictor.delete_endpoint()"
      ]
    },
    {
      "cell_type": "code",
      "execution_count": null,
      "metadata": {
        "id": "lDv65bDvNNBA"
      },
      "outputs": [],
      "source": [
        ""
      ]
    }
  ],
  "metadata": {
    "colab": {
      "collapsed_sections": [
        "Rc84doqCNNA_"
      ],
      "name": "SageMaker_Project_gamze(5).ipynb",
      "provenance": []
    },
    "kernelspec": {
      "display_name": "conda_pytorch_p36",
      "language": "python",
      "name": "conda_pytorch_p36"
    },
    "language_info": {
      "codemirror_mode": {
        "name": "ipython",
        "version": 3
      },
      "file_extension": ".py",
      "mimetype": "text/x-python",
      "name": "python",
      "nbconvert_exporter": "python",
      "pygments_lexer": "ipython3",
      "version": "3.6.13"
    }
  },
  "nbformat": 4,
  "nbformat_minor": 0
}